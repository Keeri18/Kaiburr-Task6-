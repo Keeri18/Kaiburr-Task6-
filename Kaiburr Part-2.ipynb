{
 "cells": [
  {
   "cell_type": "markdown",
   "metadata": {},
   "source": [
    "# Consumer Complaints Dataset"
   ]
  },
  {
   "cell_type": "markdown",
   "metadata": {},
   "source": [
    "Task 6. Data Science example.\n",
    "Perform a Text Classification on consumer complaint dataset\n",
    "(https://catalog.data.gov/dataset/consumer-complaint-database) into following categories.\n",
    "0 Credit reporting, repair, or\n",
    "other\n",
    "1 Debt collection\n",
    "2 Consumer Loan\n",
    "3 Mortgage\n",
    "Steps to be followed -\n",
    "1. Explanatory Data Analysis and Feature Engineering\n",
    "2. Text Pre-Processing\n",
    "3. Selection of Multi Classification model\n",
    "4. Comparison of model performance\n",
    "5. Model Evaluation\n",
    "6. Prediction"
   ]
  },
  {
   "cell_type": "markdown",
   "metadata": {},
   "source": [
    "<a id='imp'></a>\n",
    "## Importing packages and loading data"
   ]
  },
  {
   "cell_type": "code",
   "execution_count": 2,
   "metadata": {
    "_cell_guid": "b1076dfc-b9ad-4769-8c92-a6c4dae69d19",
    "_uuid": "8f2839f25d086af736a60e9eeb907d3b93b6e0e5",
    "execution": {
     "iopub.execute_input": "2023-09-24T11:43:36.685546Z",
     "iopub.status.busy": "2023-09-24T11:43:36.684788Z",
     "iopub.status.idle": "2023-09-24T11:43:40.409605Z",
     "shell.execute_reply": "2023-09-24T11:43:40.408387Z",
     "shell.execute_reply.started": "2023-09-24T11:43:36.685462Z"
    }
   },
   "outputs": [
    {
     "data": {
      "text/html": [
       "        <script type=\"text/javascript\">\n",
       "        window.PlotlyConfig = {MathJaxConfig: 'local'};\n",
       "        if (window.MathJax) {MathJax.Hub.Config({SVG: {font: \"STIX-Web\"}});}\n",
       "        if (typeof require !== 'undefined') {\n",
       "        require.undef(\"plotly\");\n",
       "        requirejs.config({\n",
       "            paths: {\n",
       "                'plotly': ['https://cdn.plot.ly/plotly-latest.min']\n",
       "            }\n",
       "        });\n",
       "        require(['plotly'], function(Plotly) {\n",
       "            window._Plotly = Plotly;\n",
       "        });\n",
       "        }\n",
       "        </script>\n",
       "        "
      ]
     },
     "metadata": {},
     "output_type": "display_data"
    }
   ],
   "source": [
    "# Input data files are available in the \"../input/\" directory.\n",
    "import pandas as pd\n",
    "import numpy as np\n",
    "from scipy.stats import randint\n",
    "import seaborn as sns # used for plot interactive graph. \n",
    "import matplotlib.pyplot as plt\n",
    "import seaborn as sns\n",
    "from io import StringIO\n",
    "from sklearn.feature_extraction.text import TfidfVectorizer\n",
    "from sklearn.feature_selection import chi2\n",
    "from IPython.display import display\n",
    "from sklearn.model_selection import train_test_split\n",
    "from sklearn.feature_extraction.text import TfidfTransformer\n",
    "from sklearn.naive_bayes import MultinomialNB\n",
    "from sklearn.linear_model import LogisticRegression\n",
    "from sklearn.ensemble import RandomForestClassifier\n",
    "from sklearn.svm import LinearSVC\n",
    "from sklearn.metrics import confusion_matrix\n",
    "from sklearn import metrics\n",
    "import warnings\n",
    "warnings.filterwarnings(\"ignore\")\n",
    "from sklearn.model_selection import cross_val_score,GridSearchCV\n",
    "from sklearn.naive_bayes import GaussianNB, BernoulliNB\n",
    "from sklearn.metrics import accuracy_score, roc_auc_score\n",
    "from sklearn.exceptions import ConvergenceWarning\n",
    "import matplotlib.pyplot as plt\n",
    "%matplotlib inline\n",
    "\n",
    "import plotly.tools as tls\n",
    "import plotly.plotly as py\n",
    "import plotly.figure_factory as ff\n",
    "import plotly.graph_objs as go\n",
    "from plotly.offline import download_plotlyjs, init_notebook_mode, plot, iplot\n",
    "init_notebook_mode(connected=True)"
   ]
  },
  {
   "cell_type": "code",
   "execution_count": 3,
   "metadata": {
    "execution": {
     "iopub.execute_input": "2023-09-24T11:43:40.412311Z",
     "iopub.status.busy": "2023-09-24T11:43:40.411654Z",
     "iopub.status.idle": "2023-09-24T11:44:58.006609Z",
     "shell.execute_reply": "2023-09-24T11:44:58.005307Z",
     "shell.execute_reply.started": "2023-09-24T11:43:40.412235Z"
    }
   },
   "outputs": [
    {
     "data": {
      "text/plain": [
       "(4078867, 18)"
      ]
     },
     "execution_count": 3,
     "metadata": {},
     "output_type": "execute_result"
    }
   ],
   "source": [
    "# loading data\n",
    "df = pd.read_csv('/kaggle/input/19mia1073-complaints/complaints.csv')\n",
    "df.shape"
   ]
  },
  {
   "cell_type": "markdown",
   "metadata": {},
   "source": [
    "We have 40,78,867 rows and 18 features (columns)."
   ]
  },
  {
   "cell_type": "code",
   "execution_count": 4,
   "metadata": {
    "execution": {
     "iopub.execute_input": "2023-09-24T11:45:33.864879Z",
     "iopub.status.busy": "2023-09-24T11:45:33.864064Z",
     "iopub.status.idle": "2023-09-24T11:45:33.901277Z",
     "shell.execute_reply": "2023-09-24T11:45:33.900159Z",
     "shell.execute_reply.started": "2023-09-24T11:45:33.864811Z"
    }
   },
   "outputs": [
    {
     "data": {
      "text/html": [
       "<div>\n",
       "<style scoped>\n",
       "    .dataframe tbody tr th:only-of-type {\n",
       "        vertical-align: middle;\n",
       "    }\n",
       "\n",
       "    .dataframe tbody tr th {\n",
       "        vertical-align: top;\n",
       "    }\n",
       "\n",
       "    .dataframe thead th {\n",
       "        text-align: right;\n",
       "    }\n",
       "</style>\n",
       "<table border=\"1\" class=\"dataframe\">\n",
       "  <thead>\n",
       "    <tr style=\"text-align: right;\">\n",
       "      <th></th>\n",
       "      <th>0</th>\n",
       "      <th>1</th>\n",
       "    </tr>\n",
       "  </thead>\n",
       "  <tbody>\n",
       "    <tr>\n",
       "      <th>Date received</th>\n",
       "      <td>2023-08-25</td>\n",
       "      <td>2023-08-25</td>\n",
       "    </tr>\n",
       "    <tr>\n",
       "      <th>Product</th>\n",
       "      <td>Credit reporting or other personal consumer re...</td>\n",
       "      <td>Credit reporting or other personal consumer re...</td>\n",
       "    </tr>\n",
       "    <tr>\n",
       "      <th>Sub-product</th>\n",
       "      <td>Credit reporting</td>\n",
       "      <td>Credit reporting</td>\n",
       "    </tr>\n",
       "    <tr>\n",
       "      <th>Issue</th>\n",
       "      <td>Problem with a company's investigation into an...</td>\n",
       "      <td>Incorrect information on your report</td>\n",
       "    </tr>\n",
       "    <tr>\n",
       "      <th>Sub-issue</th>\n",
       "      <td>Their investigation did not fix an error on yo...</td>\n",
       "      <td>Information belongs to someone else</td>\n",
       "    </tr>\n",
       "    <tr>\n",
       "      <th>Consumer complaint narrative</th>\n",
       "      <td>NaN</td>\n",
       "      <td>NaN</td>\n",
       "    </tr>\n",
       "    <tr>\n",
       "      <th>Company public response</th>\n",
       "      <td>NaN</td>\n",
       "      <td>NaN</td>\n",
       "    </tr>\n",
       "    <tr>\n",
       "      <th>Company</th>\n",
       "      <td>EQUIFAX, INC.</td>\n",
       "      <td>EQUIFAX, INC.</td>\n",
       "    </tr>\n",
       "    <tr>\n",
       "      <th>State</th>\n",
       "      <td>PA</td>\n",
       "      <td>GA</td>\n",
       "    </tr>\n",
       "    <tr>\n",
       "      <th>ZIP code</th>\n",
       "      <td>15146</td>\n",
       "      <td>30152</td>\n",
       "    </tr>\n",
       "    <tr>\n",
       "      <th>Tags</th>\n",
       "      <td>NaN</td>\n",
       "      <td>NaN</td>\n",
       "    </tr>\n",
       "    <tr>\n",
       "      <th>Consumer consent provided?</th>\n",
       "      <td>NaN</td>\n",
       "      <td>NaN</td>\n",
       "    </tr>\n",
       "    <tr>\n",
       "      <th>Submitted via</th>\n",
       "      <td>Web</td>\n",
       "      <td>Web</td>\n",
       "    </tr>\n",
       "    <tr>\n",
       "      <th>Date sent to company</th>\n",
       "      <td>2023-08-26</td>\n",
       "      <td>2023-08-25</td>\n",
       "    </tr>\n",
       "    <tr>\n",
       "      <th>Company response to consumer</th>\n",
       "      <td>Closed with explanation</td>\n",
       "      <td>Closed with explanation</td>\n",
       "    </tr>\n",
       "    <tr>\n",
       "      <th>Timely response?</th>\n",
       "      <td>Yes</td>\n",
       "      <td>Yes</td>\n",
       "    </tr>\n",
       "    <tr>\n",
       "      <th>Consumer disputed?</th>\n",
       "      <td>NaN</td>\n",
       "      <td>NaN</td>\n",
       "    </tr>\n",
       "    <tr>\n",
       "      <th>Complaint ID</th>\n",
       "      <td>7560850</td>\n",
       "      <td>7560851</td>\n",
       "    </tr>\n",
       "  </tbody>\n",
       "</table>\n",
       "</div>"
      ],
      "text/plain": [
       "                                                                              0                                                  1\n",
       "Date received                                                        2023-08-25                                         2023-08-25\n",
       "Product                       Credit reporting or other personal consumer re...  Credit reporting or other personal consumer re...\n",
       "Sub-product                                                    Credit reporting                                   Credit reporting\n",
       "Issue                         Problem with a company's investigation into an...               Incorrect information on your report\n",
       "Sub-issue                     Their investigation did not fix an error on yo...                Information belongs to someone else\n",
       "Consumer complaint narrative                                                NaN                                                NaN\n",
       "Company public response                                                     NaN                                                NaN\n",
       "Company                                                           EQUIFAX, INC.                                      EQUIFAX, INC.\n",
       "State                                                                        PA                                                 GA\n",
       "ZIP code                                                                  15146                                              30152\n",
       "Tags                                                                        NaN                                                NaN\n",
       "Consumer consent provided?                                                  NaN                                                NaN\n",
       "Submitted via                                                               Web                                                Web\n",
       "Date sent to company                                                 2023-08-26                                         2023-08-25\n",
       "Company response to consumer                            Closed with explanation                            Closed with explanation\n",
       "Timely response?                                                            Yes                                                Yes\n",
       "Consumer disputed?                                                          NaN                                                NaN\n",
       "Complaint ID                                                            7560850                                            7560851"
      ]
     },
     "execution_count": 4,
     "metadata": {},
     "output_type": "execute_result"
    }
   ],
   "source": [
    "df.head(2).T "
   ]
  },
  {
   "cell_type": "markdown",
   "metadata": {},
   "source": [
    "# Part 1: DATA EXPLORATION"
   ]
  },
  {
   "cell_type": "code",
   "execution_count": 5,
   "metadata": {
    "execution": {
     "iopub.execute_input": "2023-09-24T11:45:52.146767Z",
     "iopub.status.busy": "2023-09-24T11:45:52.145762Z",
     "iopub.status.idle": "2023-09-24T11:45:56.052873Z",
     "shell.execute_reply": "2023-09-24T11:45:56.051728Z",
     "shell.execute_reply.started": "2023-09-24T11:45:52.146332Z"
    }
   },
   "outputs": [
    {
     "data": {
      "text/html": [
       "<div>\n",
       "<style scoped>\n",
       "    .dataframe tbody tr th:only-of-type {\n",
       "        vertical-align: middle;\n",
       "    }\n",
       "\n",
       "    .dataframe tbody tr th {\n",
       "        vertical-align: top;\n",
       "    }\n",
       "\n",
       "    .dataframe thead th {\n",
       "        text-align: right;\n",
       "    }\n",
       "</style>\n",
       "<table border=\"1\" class=\"dataframe\">\n",
       "  <thead>\n",
       "    <tr style=\"text-align: right;\">\n",
       "      <th></th>\n",
       "      <th>Date received</th>\n",
       "      <th>Product</th>\n",
       "      <th>Sub-product</th>\n",
       "      <th>Issue</th>\n",
       "      <th>Sub-issue</th>\n",
       "      <th>Consumer complaint narrative</th>\n",
       "      <th>Company public response</th>\n",
       "      <th>Company</th>\n",
       "      <th>State</th>\n",
       "      <th>ZIP code</th>\n",
       "      <th>Tags</th>\n",
       "      <th>Consumer consent provided?</th>\n",
       "      <th>Submitted via</th>\n",
       "      <th>Date sent to company</th>\n",
       "      <th>Company response to consumer</th>\n",
       "      <th>Timely response?</th>\n",
       "      <th>Consumer disputed?</th>\n",
       "      <th>Complaint ID</th>\n",
       "      <th>year_received</th>\n",
       "      <th>month_received</th>\n",
       "    </tr>\n",
       "  </thead>\n",
       "  <tbody>\n",
       "    <tr>\n",
       "      <th>0</th>\n",
       "      <td>2023-08-25</td>\n",
       "      <td>Credit reporting or other personal consumer re...</td>\n",
       "      <td>Credit reporting</td>\n",
       "      <td>Problem with a company's investigation into an...</td>\n",
       "      <td>Their investigation did not fix an error on yo...</td>\n",
       "      <td>NaN</td>\n",
       "      <td>NaN</td>\n",
       "      <td>EQUIFAX, INC.</td>\n",
       "      <td>PA</td>\n",
       "      <td>15146</td>\n",
       "      <td>NaN</td>\n",
       "      <td>NaN</td>\n",
       "      <td>Web</td>\n",
       "      <td>2023-08-26</td>\n",
       "      <td>Closed with explanation</td>\n",
       "      <td>Yes</td>\n",
       "      <td>NaN</td>\n",
       "      <td>7560850</td>\n",
       "      <td>2023</td>\n",
       "      <td>8</td>\n",
       "    </tr>\n",
       "    <tr>\n",
       "      <th>1</th>\n",
       "      <td>2023-08-25</td>\n",
       "      <td>Credit reporting or other personal consumer re...</td>\n",
       "      <td>Credit reporting</td>\n",
       "      <td>Incorrect information on your report</td>\n",
       "      <td>Information belongs to someone else</td>\n",
       "      <td>NaN</td>\n",
       "      <td>NaN</td>\n",
       "      <td>EQUIFAX, INC.</td>\n",
       "      <td>GA</td>\n",
       "      <td>30152</td>\n",
       "      <td>NaN</td>\n",
       "      <td>NaN</td>\n",
       "      <td>Web</td>\n",
       "      <td>2023-08-25</td>\n",
       "      <td>Closed with explanation</td>\n",
       "      <td>Yes</td>\n",
       "      <td>NaN</td>\n",
       "      <td>7560851</td>\n",
       "      <td>2023</td>\n",
       "      <td>8</td>\n",
       "    </tr>\n",
       "    <tr>\n",
       "      <th>2</th>\n",
       "      <td>2023-08-25</td>\n",
       "      <td>Credit reporting or other personal consumer re...</td>\n",
       "      <td>Credit reporting</td>\n",
       "      <td>Improper use of your report</td>\n",
       "      <td>Credit inquiries on your report that you don't...</td>\n",
       "      <td>NaN</td>\n",
       "      <td>NaN</td>\n",
       "      <td>EQUIFAX, INC.</td>\n",
       "      <td>FL</td>\n",
       "      <td>32137</td>\n",
       "      <td>NaN</td>\n",
       "      <td>Other</td>\n",
       "      <td>Web</td>\n",
       "      <td>2023-08-25</td>\n",
       "      <td>Closed with explanation</td>\n",
       "      <td>Yes</td>\n",
       "      <td>NaN</td>\n",
       "      <td>7560852</td>\n",
       "      <td>2023</td>\n",
       "      <td>8</td>\n",
       "    </tr>\n",
       "    <tr>\n",
       "      <th>3</th>\n",
       "      <td>2023-08-25</td>\n",
       "      <td>Credit reporting or other personal consumer re...</td>\n",
       "      <td>Credit reporting</td>\n",
       "      <td>Problem with a company's investigation into an...</td>\n",
       "      <td>Their investigation did not fix an error on yo...</td>\n",
       "      <td>NaN</td>\n",
       "      <td>NaN</td>\n",
       "      <td>EQUIFAX, INC.</td>\n",
       "      <td>PA</td>\n",
       "      <td>15146</td>\n",
       "      <td>NaN</td>\n",
       "      <td>NaN</td>\n",
       "      <td>Web</td>\n",
       "      <td>2023-08-25</td>\n",
       "      <td>Closed with explanation</td>\n",
       "      <td>Yes</td>\n",
       "      <td>NaN</td>\n",
       "      <td>7560853</td>\n",
       "      <td>2023</td>\n",
       "      <td>8</td>\n",
       "    </tr>\n",
       "    <tr>\n",
       "      <th>4</th>\n",
       "      <td>2023-08-25</td>\n",
       "      <td>Credit reporting or other personal consumer re...</td>\n",
       "      <td>Credit reporting</td>\n",
       "      <td>Problem with a company's investigation into an...</td>\n",
       "      <td>Their investigation did not fix an error on yo...</td>\n",
       "      <td>NaN</td>\n",
       "      <td>NaN</td>\n",
       "      <td>EQUIFAX, INC.</td>\n",
       "      <td>NV</td>\n",
       "      <td>89135</td>\n",
       "      <td>NaN</td>\n",
       "      <td>NaN</td>\n",
       "      <td>Web</td>\n",
       "      <td>2023-08-25</td>\n",
       "      <td>Closed with explanation</td>\n",
       "      <td>Yes</td>\n",
       "      <td>NaN</td>\n",
       "      <td>7560854</td>\n",
       "      <td>2023</td>\n",
       "      <td>8</td>\n",
       "    </tr>\n",
       "  </tbody>\n",
       "</table>\n",
       "</div>"
      ],
      "text/plain": [
       "  Date received      ...       month_received\n",
       "0    2023-08-25      ...                    8\n",
       "1    2023-08-25      ...                    8\n",
       "2    2023-08-25      ...                    8\n",
       "3    2023-08-25      ...                    8\n",
       "4    2023-08-25      ...                    8\n",
       "\n",
       "[5 rows x 20 columns]"
      ]
     },
     "execution_count": 5,
     "metadata": {},
     "output_type": "execute_result"
    }
   ],
   "source": [
    "df['Date received'] = pd.to_datetime(df['Date received'])\n",
    "df['year_received'], df['month_received'] = df['Date received'].dt.year, df['Date received'].dt.month\n",
    "df.head()"
   ]
  },
  {
   "cell_type": "markdown",
   "metadata": {},
   "source": [
    "# Part 2 : TEXT BASED MODELLING"
   ]
  },
  {
   "cell_type": "markdown",
   "metadata": {},
   "source": [
    "The dataset contains features that are not necessary to solve our multi-classification problem. For this text classification problem, we are going to build another dataframe that contains ‘Product’ and ‘Consumer complaint narrative’ (renamed as 'Consumer_complaint')."
   ]
  },
  {
   "cell_type": "code",
   "execution_count": 6,
   "metadata": {
    "_cell_guid": "79c7e3d0-c299-4dcb-8224-4455121ee9b0",
    "_uuid": "d629ff2d2480ee46fbb7e2d37f6b5fab8052498a",
    "execution": {
     "iopub.execute_input": "2023-09-24T11:47:03.386319Z",
     "iopub.status.busy": "2023-09-24T11:47:03.385937Z",
     "iopub.status.idle": "2023-09-24T11:47:04.720020Z",
     "shell.execute_reply": "2023-09-24T11:47:04.718934Z",
     "shell.execute_reply.started": "2023-09-24T11:47:03.386274Z"
    }
   },
   "outputs": [
    {
     "data": {
      "text/plain": [
       "(1477894, 2)"
      ]
     },
     "execution_count": 6,
     "metadata": {},
     "output_type": "execute_result"
    }
   ],
   "source": [
    "# Create a new dataframe with two columns\n",
    "df1 = df[['Product', 'Consumer complaint narrative']].copy()\n",
    "\n",
    "# Remove missing values (NaN)\n",
    "df1 = df1[pd.notnull(df1['Consumer complaint narrative'])]\n",
    "\n",
    "# Renaming second column for a simpler name\n",
    "df1.columns = ['Product', 'Consumer_complaint'] \n",
    "\n",
    "df1.shape"
   ]
  },
  {
   "cell_type": "code",
   "execution_count": 7,
   "metadata": {
    "execution": {
     "iopub.execute_input": "2023-09-24T11:47:11.134130Z",
     "iopub.status.busy": "2023-09-24T11:47:11.133675Z",
     "iopub.status.idle": "2023-09-24T11:47:11.452735Z",
     "shell.execute_reply": "2023-09-24T11:47:11.451641Z",
     "shell.execute_reply.started": "2023-09-24T11:47:11.134055Z"
    }
   },
   "outputs": [
    {
     "data": {
      "text/plain": [
       "36.2"
      ]
     },
     "execution_count": 7,
     "metadata": {},
     "output_type": "execute_result"
    }
   ],
   "source": [
    "# Percentage of complaints with text\n",
    "total = df1['Consumer_complaint'].notnull().sum()\n",
    "round((total/len(df)*100),1)"
   ]
  },
  {
   "cell_type": "code",
   "execution_count": 8,
   "metadata": {
    "execution": {
     "iopub.execute_input": "2023-09-24T11:47:15.875077Z",
     "iopub.status.busy": "2023-09-24T11:47:15.874616Z",
     "iopub.status.idle": "2023-09-24T11:47:16.363882Z",
     "shell.execute_reply": "2023-09-24T11:47:16.362920Z",
     "shell.execute_reply.started": "2023-09-24T11:47:15.874982Z"
    }
   },
   "outputs": [
    {
     "data": {
      "text/plain": [
       "array([['Credit reporting or other personal consumer reports'],\n",
       "       ['Credit reporting, credit repair services, or other personal consumer reports'],\n",
       "       ['Checking or savings account'],\n",
       "       ['Mortgage'],\n",
       "       ['Debt collection'],\n",
       "       ['Credit card'],\n",
       "       ['Student loan'],\n",
       "       ['Credit card or prepaid card'],\n",
       "       ['Vehicle loan or lease'],\n",
       "       ['Payday loan, title loan, personal loan, or advance loan'],\n",
       "       ['Money transfer, virtual currency, or money service'],\n",
       "       ['Prepaid card'],\n",
       "       ['Debt or credit management'],\n",
       "       ['Payday loan, title loan, or personal loan'],\n",
       "       ['Credit reporting'],\n",
       "       ['Bank account or service'],\n",
       "       ['Consumer Loan'],\n",
       "       ['Payday loan'],\n",
       "       ['Money transfers'],\n",
       "       ['Other financial service'],\n",
       "       ['Virtual currency']], dtype=object)"
      ]
     },
     "execution_count": 8,
     "metadata": {},
     "output_type": "execute_result"
    }
   ],
   "source": [
    "pd.DataFrame(df.Product.unique()).values"
   ]
  },
  {
   "cell_type": "code",
   "execution_count": 9,
   "metadata": {
    "execution": {
     "iopub.execute_input": "2023-09-24T11:47:20.391266Z",
     "iopub.status.busy": "2023-09-24T11:47:20.390831Z",
     "iopub.status.idle": "2023-09-24T11:47:20.493048Z",
     "shell.execute_reply": "2023-09-24T11:47:20.492006Z",
     "shell.execute_reply.started": "2023-09-24T11:47:20.391210Z"
    }
   },
   "outputs": [],
   "source": [
    "# Because the computation is time consuming (in terms of CPU), the data was sampled\n",
    "df2 = df1.sample(10000, random_state=1).copy()"
   ]
  },
  {
   "cell_type": "code",
   "execution_count": 11,
   "metadata": {
    "execution": {
     "iopub.execute_input": "2023-09-24T12:03:36.806532Z",
     "iopub.status.busy": "2023-09-24T12:03:36.805894Z",
     "iopub.status.idle": "2023-09-24T12:03:36.857178Z",
     "shell.execute_reply": "2023-09-24T12:03:36.855549Z",
     "shell.execute_reply.started": "2023-09-24T12:03:36.806466Z"
    }
   },
   "outputs": [],
   "source": [
    "# Define a mapping dictionary to categorize products\n",
    "product_mapping = {\n",
    "    'Credit reporting, credit repair services, or other personal consumer reports': 'Credit reporting, repair, or other',\n",
    "    'Credit reporting': 'Credit reporting, repair, or other',\n",
    "    'Checking or savings account': 'Consumer Loan',\n",
    "    'Mortgage': 'Mortgage',\n",
    "    'Debt collection': 'Debt collection',\n",
    "    'Credit card': 'Credit reporting, repair, or other',\n",
    "    'Student loan': 'Consumer Loan',\n",
    "    'Credit card or prepaid card': 'Credit reporting, repair, or other',\n",
    "    'Vehicle loan or lease': 'Consumer Loan',\n",
    "    'Payday loan, title loan, personal loan, or advance loan': 'Debt collection',\n",
    "    'Money transfer, virtual currency, or money service': 'Credit reporting, repair, or other',\n",
    "    'Prepaid card': 'Credit reporting, repair, or other',\n",
    "    'Debt or credit management': 'Debt collection',\n",
    "    'Payday loan, title loan, or personal loan': 'Debt collection',\n",
    "    'Bank account or service': 'Consumer Loan',\n",
    "    'Consumer Loan': 'Consumer Loan',\n",
    "    'Payday loan': 'Debt collection',\n",
    "    'Money transfers': 'Credit reporting, repair, or other',\n",
    "    'Other financial service': 'Credit reporting, repair, or other',\n",
    "    'Virtual currency': 'Credit reporting, repair, or other'\n",
    "}\n",
    "\n",
    "# First, replace some values using the product_mapping dictionary\n",
    "df2['Product'].replace(product_mapping, inplace=True)\n",
    "\n",
    "# Define a second mapping dictionary for further replacements\n",
    "product_mapping_2 = {\n",
    "    'Other financial service': 'Credit reporting, repair, or other',\n",
    "    'Virtual currency': 'Credit reporting, repair, or other'\n",
    "}\n",
    "\n",
    "# Next, replace additional values using the product_mapping_2 dictionary\n",
    "df2['Product'].replace(product_mapping_2, inplace=True)"
   ]
  },
  {
   "cell_type": "code",
   "execution_count": 12,
   "metadata": {
    "execution": {
     "iopub.execute_input": "2023-09-24T12:03:43.350432Z",
     "iopub.status.busy": "2023-09-24T12:03:43.349960Z",
     "iopub.status.idle": "2023-09-24T12:03:43.371244Z",
     "shell.execute_reply": "2023-09-24T12:03:43.370266Z",
     "shell.execute_reply.started": "2023-09-24T12:03:43.350347Z"
    }
   },
   "outputs": [
    {
     "data": {
      "text/html": [
       "<div>\n",
       "<style scoped>\n",
       "    .dataframe tbody tr th:only-of-type {\n",
       "        vertical-align: middle;\n",
       "    }\n",
       "\n",
       "    .dataframe tbody tr th {\n",
       "        vertical-align: top;\n",
       "    }\n",
       "\n",
       "    .dataframe thead th {\n",
       "        text-align: right;\n",
       "    }\n",
       "</style>\n",
       "<table border=\"1\" class=\"dataframe\">\n",
       "  <thead>\n",
       "    <tr style=\"text-align: right;\">\n",
       "      <th></th>\n",
       "      <th>0</th>\n",
       "    </tr>\n",
       "  </thead>\n",
       "  <tbody>\n",
       "    <tr>\n",
       "      <th>0</th>\n",
       "      <td>Mortgage</td>\n",
       "    </tr>\n",
       "    <tr>\n",
       "      <th>1</th>\n",
       "      <td>Credit reporting, repair, or other</td>\n",
       "    </tr>\n",
       "    <tr>\n",
       "      <th>2</th>\n",
       "      <td>Debt collection</td>\n",
       "    </tr>\n",
       "    <tr>\n",
       "      <th>3</th>\n",
       "      <td>Consumer Loan</td>\n",
       "    </tr>\n",
       "    <tr>\n",
       "      <th>4</th>\n",
       "      <td>Credit reporting or other personal consumer re...</td>\n",
       "    </tr>\n",
       "  </tbody>\n",
       "</table>\n",
       "</div>"
      ],
      "text/plain": [
       "                                                   0\n",
       "0                                           Mortgage\n",
       "1                 Credit reporting, repair, or other\n",
       "2                                    Debt collection\n",
       "3                                      Consumer Loan\n",
       "4  Credit reporting or other personal consumer re..."
      ]
     },
     "execution_count": 12,
     "metadata": {},
     "output_type": "execute_result"
    }
   ],
   "source": [
    "pd.DataFrame(df2.Product.unique())"
   ]
  },
  {
   "cell_type": "markdown",
   "metadata": {},
   "source": [
    "The number of classes were reduced from 12 to 10. <br><br>Now we need to represent each class as a number, so as our predictive model can better understand the different categories."
   ]
  },
  {
   "cell_type": "code",
   "execution_count": 13,
   "metadata": {
    "execution": {
     "iopub.execute_input": "2023-09-24T12:03:55.337032Z",
     "iopub.status.busy": "2023-09-24T12:03:55.336228Z",
     "iopub.status.idle": "2023-09-24T12:03:55.371746Z",
     "shell.execute_reply": "2023-09-24T12:03:55.370588Z",
     "shell.execute_reply.started": "2023-09-24T12:03:55.336966Z"
    }
   },
   "outputs": [
    {
     "data": {
      "text/html": [
       "<div>\n",
       "<style scoped>\n",
       "    .dataframe tbody tr th:only-of-type {\n",
       "        vertical-align: middle;\n",
       "    }\n",
       "\n",
       "    .dataframe tbody tr th {\n",
       "        vertical-align: top;\n",
       "    }\n",
       "\n",
       "    .dataframe thead th {\n",
       "        text-align: right;\n",
       "    }\n",
       "</style>\n",
       "<table border=\"1\" class=\"dataframe\">\n",
       "  <thead>\n",
       "    <tr style=\"text-align: right;\">\n",
       "      <th></th>\n",
       "      <th>Product</th>\n",
       "      <th>Consumer_complaint</th>\n",
       "      <th>category_id</th>\n",
       "    </tr>\n",
       "  </thead>\n",
       "  <tbody>\n",
       "    <tr>\n",
       "      <th>1511706</th>\n",
       "      <td>Mortgage</td>\n",
       "      <td>Paying extremely high PMI for 11 years on my m...</td>\n",
       "      <td>0</td>\n",
       "    </tr>\n",
       "    <tr>\n",
       "      <th>1191532</th>\n",
       "      <td>Credit reporting, repair, or other</td>\n",
       "      <td>I am requesting again in regards to the inaccu...</td>\n",
       "      <td>1</td>\n",
       "    </tr>\n",
       "    <tr>\n",
       "      <th>1191375</th>\n",
       "      <td>Debt collection</td>\n",
       "      <td>Offices of XXXX and XXXX XXXX XXXX XXXX ( no s...</td>\n",
       "      <td>2</td>\n",
       "    </tr>\n",
       "    <tr>\n",
       "      <th>2535195</th>\n",
       "      <td>Credit reporting, repair, or other</td>\n",
       "      <td>I submitted a letter to the 3 Credit Bureaus t...</td>\n",
       "      <td>1</td>\n",
       "    </tr>\n",
       "    <tr>\n",
       "      <th>2583742</th>\n",
       "      <td>Consumer Loan</td>\n",
       "      <td>This is Cashap stealing {$230.00} from my acco...</td>\n",
       "      <td>3</td>\n",
       "    </tr>\n",
       "  </tbody>\n",
       "</table>\n",
       "</div>"
      ],
      "text/plain": [
       "                                    Product     ...     category_id\n",
       "1511706                            Mortgage     ...               0\n",
       "1191532  Credit reporting, repair, or other     ...               1\n",
       "1191375                     Debt collection     ...               2\n",
       "2535195  Credit reporting, repair, or other     ...               1\n",
       "2583742                       Consumer Loan     ...               3\n",
       "\n",
       "[5 rows x 3 columns]"
      ]
     },
     "execution_count": 13,
     "metadata": {},
     "output_type": "execute_result"
    }
   ],
   "source": [
    "# Create a new column 'category_id' with encoded categories \n",
    "df2['category_id'] = df2['Product'].factorize()[0]\n",
    "category_id_df = df2[['Product', 'category_id']].drop_duplicates()\n",
    "\n",
    "\n",
    "# Dictionaries for future use\n",
    "category_to_id = dict(category_id_df.values)\n",
    "id_to_category = dict(category_id_df[['category_id', 'Product']].values)\n",
    "\n",
    "# New dataframe\n",
    "df2.head()"
   ]
  },
  {
   "cell_type": "code",
   "execution_count": 14,
   "metadata": {
    "execution": {
     "iopub.execute_input": "2023-09-24T12:03:58.379229Z",
     "iopub.status.busy": "2023-09-24T12:03:58.378820Z",
     "iopub.status.idle": "2023-09-24T12:03:58.886871Z",
     "shell.execute_reply": "2023-09-24T12:03:58.885670Z",
     "shell.execute_reply.started": "2023-09-24T12:03:58.379175Z"
    }
   },
   "outputs": [
    {
     "data": {
      "image/png": "[encoded data removed]",
      "text/plain": [
       "<Figure size 576x432 with 1 Axes>"
      ]
     },
     "metadata": {},
     "output_type": "display_data"
    }
   ],
   "source": [
    "fig = plt.figure(figsize=(8,6))\n",
    "colors = ['grey','grey','grey','grey','grey','grey','grey','grey','grey',\n",
    "    'grey','darkblue','darkblue','darkblue']\n",
    "df2.groupby('Product').Consumer_complaint.count().sort_values().plot.barh(\n",
    "    ylim=0, color='Blue', title= 'NUMBER OF COMPLAINTS IN EACH PRODUCT CATEGORY\\n')\n",
    "plt.xlabel('Number of ocurrences', fontsize = 10);"
   ]
  },
  {
   "cell_type": "markdown",
   "metadata": {},
   "source": [
    "<a id='pre'></a>\n",
    "## Text Preprocessing :\n",
    "\n",
    "The text needs to be transformed to vectors so as the algorithms will be able make predictions. In this case it will be used the Term Frequency – Inverse Document Frequency (TFIDF) weight to evaluate __how important a word is to a document in a collection of documents__.\n",
    "\n",
    "After removing __punctuation__ and __lower casing__ the words, importance of a word is determined in terms of its frequency."
   ]
  },
  {
   "cell_type": "markdown",
   "metadata": {},
   "source": [
    "### “Term Frequency – Inverse Document Frequency \n",
    "\n",
    "__TF-IDF__ is the product of the __TF__ and __IDF__ scores of the term.<br><br> $$\\text{TF-IDF}=\\frac{\\text{TF}}{\\text{IDF}}$$<br>\n",
    "\n",
    "__Term Frequency :__ This summarizes how often a given word appears within a document.\n",
    "\n",
    "$$\\text{TF} = \\frac{\\text{Number of times the term appears in the doc}}{\\text{Total number of words in the doc}}$$<br><br>\n",
    "__Inverse Document Frequency:__ This downscales words that appear a lot across documents. A term has a high IDF score if it appears in a few documents. Conversely, if the term is very common among documents (i.e., “the”, “a”, “is”), the term would have a low IDF score.<br>\n",
    "\n",
    "$$\\text{IDF} = \\ln\\left(\\frac{\\text{Number of docs}}{\\text{Number docs the term appears in}} \\right)$$<br>\n",
    "\n",
    "TF-IDF are word frequency scores that try to highlight words that are more interesting, e.g. frequent in a document but not across documents. The higher the TFIDF score, the rarer the term is. For instance, in a Mortgage complaint the word _mortgage_ would be mentioned fairly often. However, if we look at other complaints, _mortgage_ probably would not show up in many of them. We can infer that _mortgage_ is most probably an important word in Mortgage complaints as compared to the other products. Therefore, _mortgage_ would have a high TF-IDF score for Mortgage complaints.\n",
    "\n",
    "TfidfVectorizer class can be initialized with the following parameters:\n",
    "* __min_df__: remove the words from the vocabulary which have occurred in less than ‘min_df’ number of files.\n",
    "* __max_df__: remove the words from the vocabulary which have occurred in more than _‘max_df’ * total number of files in corpus_.\n",
    "* __sublinear_tf__: set to True to scale the term frequency in logarithmic scale.\n",
    "* __stop_words__: remove the predefined stop words in 'english'.\n",
    "* __use_idf__: weight factor must use inverse document frequency.\n",
    "* __ngram_range__: (1, 2) to indicate that unigrams and bigrams will be considered."
   ]
  },
  {
   "cell_type": "code",
   "execution_count": 15,
   "metadata": {
    "execution": {
     "iopub.execute_input": "2023-09-24T12:04:11.015845Z",
     "iopub.status.busy": "2023-09-24T12:04:11.015092Z",
     "iopub.status.idle": "2023-09-24T12:04:19.137236Z",
     "shell.execute_reply": "2023-09-24T12:04:19.136023Z",
     "shell.execute_reply.started": "2023-09-24T12:04:11.015782Z"
    }
   },
   "outputs": [
    {
     "name": "stdout",
     "output_type": "stream",
     "text": [
      "Each of the 10000 complaints is represented by 26018 features (TF-IDF score of unigrams and bigrams)\n"
     ]
    }
   ],
   "source": [
    "tfidf = TfidfVectorizer(sublinear_tf=True, min_df=5,\n",
    "                        ngram_range=(1, 2), \n",
    "                        stop_words='english')\n",
    "\n",
    "# We transform each complaint into a vector\n",
    "features = tfidf.fit_transform(df2.Consumer_complaint).toarray()\n",
    "\n",
    "labels = df2.category_id\n",
    "\n",
    "print(\"Each of the %d complaints is represented by %d features (TF-IDF score of unigrams and bigrams)\" %(features.shape))"
   ]
  },
  {
   "cell_type": "code",
   "execution_count": 16,
   "metadata": {
    "execution": {
     "iopub.execute_input": "2023-09-24T12:04:22.194639Z",
     "iopub.status.busy": "2023-09-24T12:04:22.192590Z",
     "iopub.status.idle": "2023-09-24T12:04:29.668914Z",
     "shell.execute_reply": "2023-09-24T12:04:29.668109Z",
     "shell.execute_reply.started": "2023-09-24T12:04:22.192973Z"
    }
   },
   "outputs": [
    {
     "name": "stdout",
     "output_type": "stream",
     "text": [
      "\n",
      "==> Consumer Loan:\n",
      "  * Most Correlated Unigrams are: overdraft, navient, bank\n",
      "  * Most Correlated Bigrams are: savings account, overdraft fees, checking account\n",
      "\n",
      "==> Credit reporting or other personal consumer reports:\n",
      "  * Most Correlated Unigrams are: 720, urgency, avenues\n",
      "  * Most Correlated Bigrams are: theft debt, report currently, 00 victim\n",
      "\n",
      "==> Credit reporting, repair, or other:\n",
      "  * Most Correlated Unigrams are: mortgage, loan, debt\n",
      "  * Most Correlated Bigrams are: reporting agency, 15 1681, 1681 section\n",
      "\n",
      "==> Debt collection:\n",
      "  * Most Correlated Unigrams are: collect, collection, debt\n",
      "  * Most Correlated Bigrams are: trying collect, collection agency, collect debt\n",
      "\n",
      "==> Mortgage:\n",
      "  * Most Correlated Unigrams are: escrow, modification, mortgage\n",
      "  * Most Correlated Bigrams are: mortgage company, loan modification, mortgage payment\n"
     ]
    }
   ],
   "source": [
    "# Finding the three most correlated terms with each of the product categories\n",
    "N = 3\n",
    "for Product, category_id in sorted(category_to_id.items()):\n",
    "  features_chi2 = chi2(features, labels == category_id)\n",
    "  indices = np.argsort(features_chi2[0])\n",
    "  feature_names = np.array(tfidf.get_feature_names())[indices]\n",
    "  unigrams = [v for v in feature_names if len(v.split(' ')) == 1]\n",
    "  bigrams = [v for v in feature_names if len(v.split(' ')) == 2]\n",
    "  print(\"\\n==> %s:\" %(Product))\n",
    "  print(\"  * Most Correlated Unigrams are: %s\" %(', '.join(unigrams[-N:])))\n",
    "  print(\"  * Most Correlated Bigrams are: %s\" %(', '.join(bigrams[-N:])))"
   ]
  },
  {
   "cell_type": "markdown",
   "metadata": {},
   "source": [
    "<a id='ml'></a>\n",
    "## Multi-Classification models : \n",
    "\n",
    "The classification models evaluated are: \n",
    "* Random Forest\n",
    "* Linear Support Vector Machine\n",
    "* Multinomial Naive Bayes \n",
    "* Logistic Regression."
   ]
  },
  {
   "cell_type": "markdown",
   "metadata": {},
   "source": [
    "<a id='sp'></a>\n",
    "### Spliting the data into train and test sets\n",
    "The original data was divided into features (X) and target (y), which were then splitted into train (75%) and test (25%) sets. Thus, the algorithms would be trained on one set of data and tested out on a completely different set of data (not seen before by the algorithm)."
   ]
  },
  {
   "cell_type": "code",
   "execution_count": 17,
   "metadata": {
    "execution": {
     "iopub.execute_input": "2023-09-24T12:04:36.233650Z",
     "iopub.status.busy": "2023-09-24T12:04:36.232790Z",
     "iopub.status.idle": "2023-09-24T12:04:36.246479Z",
     "shell.execute_reply": "2023-09-24T12:04:36.244758Z",
     "shell.execute_reply.started": "2023-09-24T12:04:36.233563Z"
    }
   },
   "outputs": [],
   "source": [
    "X = df2['Consumer_complaint'] # Collection of documents\n",
    "y = df2['Product'] # Target or the labels we want to predict (i.e., the 13 different complaints of products)\n",
    "\n",
    "X_train, X_test, y_train, y_test = train_test_split(X, y, \n",
    "                                                    test_size=0.25,\n",
    "                                                    random_state = 0)"
   ]
  },
  {
   "cell_type": "markdown",
   "metadata": {},
   "source": [
    "<a id='m'></a>\n",
    "## Models:"
   ]
  },
  {
   "cell_type": "code",
   "execution_count": 18,
   "metadata": {
    "execution": {
     "iopub.execute_input": "2023-09-24T12:04:53.747532Z",
     "iopub.status.busy": "2023-09-24T12:04:53.747109Z",
     "iopub.status.idle": "2023-09-24T12:07:25.713017Z",
     "shell.execute_reply": "2023-09-24T12:07:25.711204Z",
     "shell.execute_reply.started": "2023-09-24T12:04:53.747462Z"
    }
   },
   "outputs": [],
   "source": [
    "models = [\n",
    "    RandomForestClassifier(n_estimators=100, max_depth=5, random_state=0),\n",
    "    LinearSVC(),\n",
    "    MultinomialNB(),\n",
    "    LogisticRegression(random_state=0),\n",
    "]\n",
    "\n",
    "# 5 Cross-validation\n",
    "CV = 5\n",
    "cv_df = pd.DataFrame(index=range(CV * len(models)))\n",
    "\n",
    "entries = []\n",
    "for model in models:\n",
    "  model_name = model.__class__.__name__\n",
    "  accuracies = cross_val_score(model, features, labels, scoring='accuracy', cv=CV)\n",
    "  for fold_idx, accuracy in enumerate(accuracies):\n",
    "    entries.append((model_name, fold_idx, accuracy))\n",
    "    \n",
    "cv_df = pd.DataFrame(entries, columns=['model_name', 'fold_idx', 'accuracy'])"
   ]
  },
  {
   "cell_type": "markdown",
   "metadata": {},
   "source": [
    "<a id='sum'></a>\n",
    "## Comparison of model performance\n",
    "\n",
    "The best mean acuracy was obtained with LinearSVC."
   ]
  },
  {
   "cell_type": "code",
   "execution_count": 19,
   "metadata": {
    "execution": {
     "iopub.execute_input": "2023-09-24T12:08:18.023775Z",
     "iopub.status.busy": "2023-09-24T12:08:18.023262Z",
     "iopub.status.idle": "2023-09-24T12:08:18.055304Z",
     "shell.execute_reply": "2023-09-24T12:08:18.053977Z",
     "shell.execute_reply.started": "2023-09-24T12:08:18.023713Z"
    }
   },
   "outputs": [
    {
     "data": {
      "text/html": [
       "<div>\n",
       "<style scoped>\n",
       "    .dataframe tbody tr th:only-of-type {\n",
       "        vertical-align: middle;\n",
       "    }\n",
       "\n",
       "    .dataframe tbody tr th {\n",
       "        vertical-align: top;\n",
       "    }\n",
       "\n",
       "    .dataframe thead th {\n",
       "        text-align: right;\n",
       "    }\n",
       "</style>\n",
       "<table border=\"1\" class=\"dataframe\">\n",
       "  <thead>\n",
       "    <tr style=\"text-align: right;\">\n",
       "      <th></th>\n",
       "      <th>Mean Accuracy</th>\n",
       "      <th>Standard deviation</th>\n",
       "    </tr>\n",
       "    <tr>\n",
       "      <th>model_name</th>\n",
       "      <th></th>\n",
       "      <th></th>\n",
       "    </tr>\n",
       "  </thead>\n",
       "  <tbody>\n",
       "    <tr>\n",
       "      <th>LinearSVC</th>\n",
       "      <td>0.853500</td>\n",
       "      <td>0.004623</td>\n",
       "    </tr>\n",
       "    <tr>\n",
       "      <th>LogisticRegression</th>\n",
       "      <td>0.832402</td>\n",
       "      <td>0.005003</td>\n",
       "    </tr>\n",
       "    <tr>\n",
       "      <th>MultinomialNB</th>\n",
       "      <td>0.734100</td>\n",
       "      <td>0.005746</td>\n",
       "    </tr>\n",
       "    <tr>\n",
       "      <th>RandomForestClassifier</th>\n",
       "      <td>0.659800</td>\n",
       "      <td>0.000355</td>\n",
       "    </tr>\n",
       "  </tbody>\n",
       "</table>\n",
       "</div>"
      ],
      "text/plain": [
       "                        Mean Accuracy  Standard deviation\n",
       "model_name                                               \n",
       "LinearSVC                    0.853500            0.004623\n",
       "LogisticRegression           0.832402            0.005003\n",
       "MultinomialNB                0.734100            0.005746\n",
       "RandomForestClassifier       0.659800            0.000355"
      ]
     },
     "execution_count": 19,
     "metadata": {},
     "output_type": "execute_result"
    }
   ],
   "source": [
    "mean_accuracy = cv_df.groupby('model_name').accuracy.mean()\n",
    "std_accuracy = cv_df.groupby('model_name').accuracy.std()\n",
    "\n",
    "acc = pd.concat([mean_accuracy, std_accuracy], axis= 1, \n",
    "          ignore_index=True)\n",
    "acc.columns = ['Mean Accuracy', 'Standard deviation']\n",
    "acc"
   ]
  },
  {
   "cell_type": "code",
   "execution_count": 20,
   "metadata": {
    "execution": {
     "iopub.execute_input": "2023-09-24T12:08:23.601629Z",
     "iopub.status.busy": "2023-09-24T12:08:23.601183Z",
     "iopub.status.idle": "2023-09-24T12:08:24.145480Z",
     "shell.execute_reply": "2023-09-24T12:08:24.144695Z",
     "shell.execute_reply.started": "2023-09-24T12:08:23.601552Z"
    }
   },
   "outputs": [
    {
     "data": {
      "image/png": "[encoded data removed]",
      "text/plain": [
       "<Figure size 576x360 with 1 Axes>"
      ]
     },
     "metadata": {},
     "output_type": "display_data"
    }
   ],
   "source": [
    "plt.figure(figsize=(8,5))\n",
    "sns.boxplot(x='model_name', y='accuracy', \n",
    "            data=cv_df, \n",
    "            color='lightblue', \n",
    "            showmeans=True)\n",
    "plt.title(\"MEAN ACCURACY (cv = 5)\\n\", size=14);"
   ]
  },
  {
   "cell_type": "markdown",
   "metadata": {},
   "source": [
    "<a id='ev'></a>\n",
    "## Model Evaluation :"
   ]
  },
  {
   "cell_type": "code",
   "execution_count": 21,
   "metadata": {
    "execution": {
     "iopub.execute_input": "2023-09-24T12:08:26.697827Z",
     "iopub.status.busy": "2023-09-24T12:08:26.697062Z",
     "iopub.status.idle": "2023-09-24T12:08:29.876268Z",
     "shell.execute_reply": "2023-09-24T12:08:29.874251Z",
     "shell.execute_reply.started": "2023-09-24T12:08:26.697745Z"
    }
   },
   "outputs": [],
   "source": [
    "X_train, X_test, y_train, y_test,indices_train,indices_test = train_test_split(features, \n",
    "                                                               labels, \n",
    "                                                               df2.index, test_size=0.25, \n",
    "                                                               random_state=1)\n",
    "model = LinearSVC()\n",
    "model.fit(X_train, y_train)\n",
    "y_pred = model.predict(X_test)"
   ]
  },
  {
   "cell_type": "code",
   "execution_count": 22,
   "metadata": {
    "execution": {
     "iopub.execute_input": "2023-09-24T12:08:31.827350Z",
     "iopub.status.busy": "2023-09-24T12:08:31.826962Z",
     "iopub.status.idle": "2023-09-24T12:08:31.850292Z",
     "shell.execute_reply": "2023-09-24T12:08:31.848988Z",
     "shell.execute_reply.started": "2023-09-24T12:08:31.827306Z"
    }
   },
   "outputs": [
    {
     "data": {
      "text/html": [
       "<div>\n",
       "<style scoped>\n",
       "    .dataframe tbody tr th:only-of-type {\n",
       "        vertical-align: middle;\n",
       "    }\n",
       "\n",
       "    .dataframe tbody tr th {\n",
       "        vertical-align: top;\n",
       "    }\n",
       "\n",
       "    .dataframe thead th {\n",
       "        text-align: right;\n",
       "    }\n",
       "</style>\n",
       "<table border=\"1\" class=\"dataframe\">\n",
       "  <thead>\n",
       "    <tr style=\"text-align: right;\">\n",
       "      <th></th>\n",
       "      <th>Product</th>\n",
       "      <th>Consumer_complaint</th>\n",
       "      <th>category_id</th>\n",
       "    </tr>\n",
       "  </thead>\n",
       "  <tbody>\n",
       "    <tr>\n",
       "      <th>1511706</th>\n",
       "      <td>Mortgage</td>\n",
       "      <td>Paying extremely high PMI for 11 years on my m...</td>\n",
       "      <td>0</td>\n",
       "    </tr>\n",
       "    <tr>\n",
       "      <th>1191532</th>\n",
       "      <td>Credit reporting, repair, or other</td>\n",
       "      <td>I am requesting again in regards to the inaccu...</td>\n",
       "      <td>1</td>\n",
       "    </tr>\n",
       "    <tr>\n",
       "      <th>1191375</th>\n",
       "      <td>Debt collection</td>\n",
       "      <td>Offices of XXXX and XXXX XXXX XXXX XXXX ( no s...</td>\n",
       "      <td>2</td>\n",
       "    </tr>\n",
       "    <tr>\n",
       "      <th>2535195</th>\n",
       "      <td>Credit reporting, repair, or other</td>\n",
       "      <td>I submitted a letter to the 3 Credit Bureaus t...</td>\n",
       "      <td>1</td>\n",
       "    </tr>\n",
       "    <tr>\n",
       "      <th>2583742</th>\n",
       "      <td>Consumer Loan</td>\n",
       "      <td>This is Cashap stealing {$230.00} from my acco...</td>\n",
       "      <td>3</td>\n",
       "    </tr>\n",
       "  </tbody>\n",
       "</table>\n",
       "</div>"
      ],
      "text/plain": [
       "                                    Product     ...     category_id\n",
       "1511706                            Mortgage     ...               0\n",
       "1191532  Credit reporting, repair, or other     ...               1\n",
       "1191375                     Debt collection     ...               2\n",
       "2535195  Credit reporting, repair, or other     ...               1\n",
       "2583742                       Consumer Loan     ...               3\n",
       "\n",
       "[5 rows x 3 columns]"
      ]
     },
     "execution_count": 22,
     "metadata": {},
     "output_type": "execute_result"
    }
   ],
   "source": [
    "df2.head()"
   ]
  },
  {
   "cell_type": "code",
   "execution_count": 23,
   "metadata": {
    "execution": {
     "iopub.execute_input": "2023-09-24T12:08:35.438377Z",
     "iopub.status.busy": "2023-09-24T12:08:35.437675Z",
     "iopub.status.idle": "2023-09-24T12:08:35.446354Z",
     "shell.execute_reply": "2023-09-24T12:08:35.445097Z",
     "shell.execute_reply.started": "2023-09-24T12:08:35.438038Z"
    }
   },
   "outputs": [
    {
     "data": {
      "text/plain": [
       "array([0, 1, 2, 3, 4])"
      ]
     },
     "execution_count": 23,
     "metadata": {},
     "output_type": "execute_result"
    }
   ],
   "source": [
    "df2['category_id'].unique()"
   ]
  },
  {
   "cell_type": "markdown",
   "metadata": {},
   "source": [
    "<a id='m'></a>\n",
    "## Precision, Recall, F1-score :"
   ]
  },
  {
   "cell_type": "code",
   "execution_count": 26,
   "metadata": {
    "execution": {
     "iopub.execute_input": "2023-09-24T12:12:24.995983Z",
     "iopub.status.busy": "2023-09-24T12:12:24.995367Z",
     "iopub.status.idle": "2023-09-24T12:12:25.011148Z",
     "shell.execute_reply": "2023-09-24T12:12:25.009901Z",
     "shell.execute_reply.started": "2023-09-24T12:12:24.995897Z"
    }
   },
   "outputs": [
    {
     "name": "stdout",
     "output_type": "stream",
     "text": [
      "\t\t\t\tCLASSIFICATION METRICS\n",
      "\n",
      "                                    precision    recall  f1-score   support\n",
      "\n",
      "Credit reporting, repair, or other       0.85      0.89      0.87       157\n",
      "                   Debt collection       0.87      0.94      0.90      1633\n",
      "                     Consumer Loan       0.81      0.64      0.72       436\n",
      "                          Mortgage       0.71      0.63      0.67       274\n",
      "\n",
      "                         micro avg       0.85      0.85      0.85      2500\n",
      "                         macro avg       0.81      0.77      0.79      2500\n",
      "                      weighted avg       0.84      0.85      0.84      2500\n",
      "\n"
     ]
    }
   ],
   "source": [
    "class_labels = ['Credit reporting, repair, or other', 'Debt collection', 'Consumer Loan', 'Mortgage']\n",
    "\n",
    "print('\\t\\t\\t\\tCLASSIFICATION METRICS\\n')\n",
    "print(metrics.classification_report(y_test, y_pred, target_names=class_labels))"
   ]
  },
  {
   "cell_type": "markdown",
   "metadata": {},
   "source": [
    "<a id='cm'></a>\n",
    "## Confusion Matrix : \n",
    "\n",
    "A Confusion Matrix is a table which rows represent the actual class and columns represents the predicted class.<br><br>\n",
    "If we had a perfect model that always classifies correctly a new complaint, then the confusion matrix would have values in the diagonal only (where predicted label = actual label)."
   ]
  },
  {
   "cell_type": "code",
   "execution_count": 27,
   "metadata": {
    "execution": {
     "iopub.execute_input": "2023-09-24T12:12:32.535189Z",
     "iopub.status.busy": "2023-09-24T12:12:32.534792Z",
     "iopub.status.idle": "2023-09-24T12:12:33.430747Z",
     "shell.execute_reply": "2023-09-24T12:12:33.429474Z",
     "shell.execute_reply.started": "2023-09-24T12:12:32.535136Z"
    }
   },
   "outputs": [
    {
     "data": {
      "image/png": "[encoded data removed]",
      "text/plain": [
       "<Figure size 576x576 with 2 Axes>"
      ]
     },
     "metadata": {},
     "output_type": "display_data"
    }
   ],
   "source": [
    "conf_mat = confusion_matrix(y_test, y_pred)\n",
    "fig, ax = plt.subplots(figsize=(8,8))\n",
    "sns.heatmap(conf_mat, annot=True, cmap=\"Blues\", fmt='d',\n",
    "            xticklabels=category_id_df.Product.values, \n",
    "            yticklabels=category_id_df.Product.values)\n",
    "plt.ylabel('Actual')\n",
    "plt.xlabel('Predicted')\n",
    "plt.title(\"CONFUSION MATRIX - LinearSVC\\n\", size=16);"
   ]
  },
  {
   "cell_type": "markdown",
   "metadata": {},
   "source": [
    "In general, the confusion matrix looks good (clear diagonal that represents correct classifications). Nevertheless, there are cases were the complaint was classified in a wrong class.\n",
    "\n",
    "## Misclassified complaints :\n",
    "Let’s have a look at the cases that were wrongly classified."
   ]
  },
  {
   "cell_type": "code",
   "execution_count": 30,
   "metadata": {
    "execution": {
     "iopub.execute_input": "2023-09-24T12:14:06.198075Z",
     "iopub.status.busy": "2023-09-24T12:14:06.197604Z",
     "iopub.status.idle": "2023-09-24T12:14:06.360203Z",
     "shell.execute_reply": "2023-09-24T12:14:06.359167Z",
     "shell.execute_reply.started": "2023-09-24T12:14:06.198018Z"
    },
    "scrolled": false
   },
   "outputs": [
    {
     "name": "stdout",
     "output_type": "stream",
     "text": [
      "'Credit reporting, repair, or other' predicted as 'Debt collection' : 50 examples.\n"
     ]
    },
    {
     "data": {
      "text/html": [
       "<div>\n",
       "<style scoped>\n",
       "    .dataframe tbody tr th:only-of-type {\n",
       "        vertical-align: middle;\n",
       "    }\n",
       "\n",
       "    .dataframe tbody tr th {\n",
       "        vertical-align: top;\n",
       "    }\n",
       "\n",
       "    .dataframe thead th {\n",
       "        text-align: right;\n",
       "    }\n",
       "</style>\n",
       "<table border=\"1\" class=\"dataframe\">\n",
       "  <thead>\n",
       "    <tr style=\"text-align: right;\">\n",
       "      <th></th>\n",
       "      <th>Product</th>\n",
       "      <th>Consumer_complaint</th>\n",
       "    </tr>\n",
       "  </thead>\n",
       "  <tbody>\n",
       "    <tr>\n",
       "      <th>635034</th>\n",
       "      <td>Credit reporting, repair, or other</td>\n",
       "      <td>XXXX XXXX is trying to collect on behalf of XX...</td>\n",
       "    </tr>\n",
       "    <tr>\n",
       "      <th>2629447</th>\n",
       "      <td>Credit reporting, repair, or other</td>\n",
       "      <td>TO WHOM THIS MAY CONCERN I PREVIOUSLY DISPUTED...</td>\n",
       "    </tr>\n",
       "    <tr>\n",
       "      <th>1499130</th>\n",
       "      <td>Credit reporting, repair, or other</td>\n",
       "      <td>I made a payment for my XX/XX/2021 bill which ...</td>\n",
       "    </tr>\n",
       "    <tr>\n",
       "      <th>518100</th>\n",
       "      <td>Credit reporting, repair, or other</td>\n",
       "      <td>I am requesting for VALIDATION made pursuant t...</td>\n",
       "    </tr>\n",
       "    <tr>\n",
       "      <th>1651718</th>\n",
       "      <td>Credit reporting, repair, or other</td>\n",
       "      <td>NAR INC Never once contacted me. I have no ide...</td>\n",
       "    </tr>\n",
       "    <tr>\n",
       "      <th>1144727</th>\n",
       "      <td>Credit reporting, repair, or other</td>\n",
       "      <td>Mountain Run Solutions LLC has stole my inform...</td>\n",
       "    </tr>\n",
       "    <tr>\n",
       "      <th>76693</th>\n",
       "      <td>Credit reporting, repair, or other</td>\n",
       "      <td>I disputed a transaction with Capital One. I r...</td>\n",
       "    </tr>\n",
       "    <tr>\n",
       "      <th>2511699</th>\n",
       "      <td>Credit reporting, repair, or other</td>\n",
       "      <td>nca has never sent me a bill or verification f...</td>\n",
       "    </tr>\n",
       "    <tr>\n",
       "      <th>67144</th>\n",
       "      <td>Credit reporting, repair, or other</td>\n",
       "      <td>INACCURATE account being reported negatively a...</td>\n",
       "    </tr>\n",
       "    <tr>\n",
       "      <th>1724121</th>\n",
       "      <td>Credit reporting, repair, or other</td>\n",
       "      <td>I disputed XXXX ( XXXX XXXX ) in the amount of...</td>\n",
       "    </tr>\n",
       "    <tr>\n",
       "      <th>2562325</th>\n",
       "      <td>Credit reporting, repair, or other</td>\n",
       "      <td>On XX/XX/2020 Convergent Outsourcing, Inc. sen...</td>\n",
       "    </tr>\n",
       "    <tr>\n",
       "      <th>197862</th>\n",
       "      <td>Credit reporting, repair, or other</td>\n",
       "      <td>Credit Center , Inc is attempting to collect a...</td>\n",
       "    </tr>\n",
       "    <tr>\n",
       "      <th>555273</th>\n",
       "      <td>Credit reporting, repair, or other</td>\n",
       "      <td>I recently received a copy of my credit report...</td>\n",
       "    </tr>\n",
       "    <tr>\n",
       "      <th>2549454</th>\n",
       "      <td>Credit reporting, repair, or other</td>\n",
       "      <td>i have linked the previous response the compan...</td>\n",
       "    </tr>\n",
       "    <tr>\n",
       "      <th>3819203</th>\n",
       "      <td>Credit reporting, repair, or other</td>\n",
       "      <td>Paid off balance in full as stated on the pay ...</td>\n",
       "    </tr>\n",
       "    <tr>\n",
       "      <th>1383434</th>\n",
       "      <td>Credit reporting, repair, or other</td>\n",
       "      <td>CRA is in violation of several consumer protec...</td>\n",
       "    </tr>\n",
       "    <tr>\n",
       "      <th>1452850</th>\n",
       "      <td>Credit reporting, repair, or other</td>\n",
       "      <td>Hello, This complaint is regarding Santander C...</td>\n",
       "    </tr>\n",
       "    <tr>\n",
       "      <th>1059826</th>\n",
       "      <td>Credit reporting, repair, or other</td>\n",
       "      <td>XX/XX/XXXX To whom it may concern : I need ass...</td>\n",
       "    </tr>\n",
       "    <tr>\n",
       "      <th>118963</th>\n",
       "      <td>Credit reporting, repair, or other</td>\n",
       "      <td>I submitted a request for a freeze numerous ti...</td>\n",
       "    </tr>\n",
       "    <tr>\n",
       "      <th>738785</th>\n",
       "      <td>Credit reporting, repair, or other</td>\n",
       "      <td>Under the Health Insurance Portability and Acc...</td>\n",
       "    </tr>\n",
       "    <tr>\n",
       "      <th>1369251</th>\n",
       "      <td>Credit reporting, repair, or other</td>\n",
       "      <td>I have recently pulled out my credit profile f...</td>\n",
       "    </tr>\n",
       "    <tr>\n",
       "      <th>1994471</th>\n",
       "      <td>Credit reporting, repair, or other</td>\n",
       "      <td>The recently received a copy of my credit repo...</td>\n",
       "    </tr>\n",
       "    <tr>\n",
       "      <th>1287898</th>\n",
       "      <td>Credit reporting, repair, or other</td>\n",
       "      <td>I never recieved any notification I owed a deb...</td>\n",
       "    </tr>\n",
       "    <tr>\n",
       "      <th>462753</th>\n",
       "      <td>Credit reporting, repair, or other</td>\n",
       "      <td>I have tried to contact this company on severa...</td>\n",
       "    </tr>\n",
       "    <tr>\n",
       "      <th>638779</th>\n",
       "      <td>Credit reporting, repair, or other</td>\n",
       "      <td>ON XX/XX/2018, I SETTLED MY DEBT WITH XXXX XXX...</td>\n",
       "    </tr>\n",
       "    <tr>\n",
       "      <th>3377706</th>\n",
       "      <td>Credit reporting, repair, or other</td>\n",
       "      <td>In response to my compliant # XXXX Company res...</td>\n",
       "    </tr>\n",
       "    <tr>\n",
       "      <th>3215324</th>\n",
       "      <td>Credit reporting, repair, or other</td>\n",
       "      <td>My name is XXXX XXXX, a federally protected co...</td>\n",
       "    </tr>\n",
       "    <tr>\n",
       "      <th>1734277</th>\n",
       "      <td>Credit reporting, repair, or other</td>\n",
       "      <td>I am a victim of Identity theft. Please delete...</td>\n",
       "    </tr>\n",
       "    <tr>\n",
       "      <th>3488234</th>\n",
       "      <td>Credit reporting, repair, or other</td>\n",
       "      <td>I found that I was being sent to collections i...</td>\n",
       "    </tr>\n",
       "    <tr>\n",
       "      <th>163040</th>\n",
       "      <td>Credit reporting, repair, or other</td>\n",
       "      <td>I was in the process of buying a home but when...</td>\n",
       "    </tr>\n",
       "    <tr>\n",
       "      <th>1132713</th>\n",
       "      <td>Credit reporting, repair, or other</td>\n",
       "      <td>To whom it may concern : I am in receipt of yo...</td>\n",
       "    </tr>\n",
       "    <tr>\n",
       "      <th>686778</th>\n",
       "      <td>Credit reporting, repair, or other</td>\n",
       "      <td>I have contacted the creditor/company many tim...</td>\n",
       "    </tr>\n",
       "    <tr>\n",
       "      <th>3579238</th>\n",
       "      <td>Credit reporting, repair, or other</td>\n",
       "      <td>CAVALRY PORTFOLIO SERV {$13000.00} XXXX ... I ...</td>\n",
       "    </tr>\n",
       "    <tr>\n",
       "      <th>30819</th>\n",
       "      <td>Credit reporting, repair, or other</td>\n",
       "      <td>XXXX XXXX XXXX and national credit adjusters d...</td>\n",
       "    </tr>\n",
       "    <tr>\n",
       "      <th>2318689</th>\n",
       "      <td>Credit reporting, repair, or other</td>\n",
       "      <td>On XXXX XXXX, 2017, I made the complain on the...</td>\n",
       "    </tr>\n",
       "    <tr>\n",
       "      <th>3962189</th>\n",
       "      <td>Credit reporting, repair, or other</td>\n",
       "      <td>Med Busi Bur XXXX **** Under 15 US Code 1681a ...</td>\n",
       "    </tr>\n",
       "    <tr>\n",
       "      <th>1472032</th>\n",
       "      <td>Credit reporting, repair, or other</td>\n",
       "      <td>I have been disputing and sending letters to t...</td>\n",
       "    </tr>\n",
       "    <tr>\n",
       "      <th>1172279</th>\n",
       "      <td>Credit reporting, repair, or other</td>\n",
       "      <td>I have paid full amount to sunrise credit serv...</td>\n",
       "    </tr>\n",
       "    <tr>\n",
       "      <th>3063752</th>\n",
       "      <td>Credit reporting, repair, or other</td>\n",
       "      <td>I was laid off XX/XX/2011 and my last contact ...</td>\n",
       "    </tr>\n",
       "    <tr>\n",
       "      <th>310446</th>\n",
       "      <td>Credit reporting, repair, or other</td>\n",
       "      <td>Old deleted identity theft account that was on...</td>\n",
       "    </tr>\n",
       "    <tr>\n",
       "      <th>161445</th>\n",
       "      <td>Credit reporting, repair, or other</td>\n",
       "      <td>Talked with XXXX from Capital One ( would not ...</td>\n",
       "    </tr>\n",
       "    <tr>\n",
       "      <th>1843097</th>\n",
       "      <td>Credit reporting, repair, or other</td>\n",
       "      <td>On XX/XX/XXXX, I filled, in person, a job appl...</td>\n",
       "    </tr>\n",
       "    <tr>\n",
       "      <th>1073216</th>\n",
       "      <td>Credit reporting, repair, or other</td>\n",
       "      <td>There is an illegal collection which has conti...</td>\n",
       "    </tr>\n",
       "    <tr>\n",
       "      <th>287014</th>\n",
       "      <td>Credit reporting, repair, or other</td>\n",
       "      <td>Company lied about interest rates and i never ...</td>\n",
       "    </tr>\n",
       "    <tr>\n",
       "      <th>443553</th>\n",
       "      <td>Credit reporting, repair, or other</td>\n",
       "      <td>I checked my credit report XXXX of 2021 becaus...</td>\n",
       "    </tr>\n",
       "    <tr>\n",
       "      <th>1230893</th>\n",
       "      <td>Credit reporting, repair, or other</td>\n",
       "      <td>Recived verification that's show 's balance in...</td>\n",
       "    </tr>\n",
       "    <tr>\n",
       "      <th>1005138</th>\n",
       "      <td>Credit reporting, repair, or other</td>\n",
       "      <td>I never looked at my credit report, because I ...</td>\n",
       "    </tr>\n",
       "    <tr>\n",
       "      <th>387590</th>\n",
       "      <td>Credit reporting, repair, or other</td>\n",
       "      <td>I XXXX XXXX XXXX am filing a dispute against D...</td>\n",
       "    </tr>\n",
       "    <tr>\n",
       "      <th>1543078</th>\n",
       "      <td>Credit reporting, repair, or other</td>\n",
       "      <td>On XX/XX/XXXX Coinbase started charging my ban...</td>\n",
       "    </tr>\n",
       "    <tr>\n",
       "      <th>1870836</th>\n",
       "      <td>Credit reporting, repair, or other</td>\n",
       "      <td>I reached out serval times to get a payment ar...</td>\n",
       "    </tr>\n",
       "  </tbody>\n",
       "</table>\n",
       "</div>"
      ],
      "text/plain": [
       "                                    Product                                 Consumer_complaint\n",
       "635034   Credit reporting, repair, or other  XXXX XXXX is trying to collect on behalf of XX...\n",
       "2629447  Credit reporting, repair, or other  TO WHOM THIS MAY CONCERN I PREVIOUSLY DISPUTED...\n",
       "1499130  Credit reporting, repair, or other  I made a payment for my XX/XX/2021 bill which ...\n",
       "518100   Credit reporting, repair, or other  I am requesting for VALIDATION made pursuant t...\n",
       "1651718  Credit reporting, repair, or other  NAR INC Never once contacted me. I have no ide...\n",
       "1144727  Credit reporting, repair, or other  Mountain Run Solutions LLC has stole my inform...\n",
       "76693    Credit reporting, repair, or other  I disputed a transaction with Capital One. I r...\n",
       "2511699  Credit reporting, repair, or other  nca has never sent me a bill or verification f...\n",
       "67144    Credit reporting, repair, or other  INACCURATE account being reported negatively a...\n",
       "1724121  Credit reporting, repair, or other  I disputed XXXX ( XXXX XXXX ) in the amount of...\n",
       "2562325  Credit reporting, repair, or other  On XX/XX/2020 Convergent Outsourcing, Inc. sen...\n",
       "197862   Credit reporting, repair, or other  Credit Center , Inc is attempting to collect a...\n",
       "555273   Credit reporting, repair, or other  I recently received a copy of my credit report...\n",
       "2549454  Credit reporting, repair, or other  i have linked the previous response the compan...\n",
       "3819203  Credit reporting, repair, or other  Paid off balance in full as stated on the pay ...\n",
       "1383434  Credit reporting, repair, or other  CRA is in violation of several consumer protec...\n",
       "1452850  Credit reporting, repair, or other  Hello, This complaint is regarding Santander C...\n",
       "1059826  Credit reporting, repair, or other  XX/XX/XXXX To whom it may concern : I need ass...\n",
       "118963   Credit reporting, repair, or other  I submitted a request for a freeze numerous ti...\n",
       "738785   Credit reporting, repair, or other  Under the Health Insurance Portability and Acc...\n",
       "1369251  Credit reporting, repair, or other  I have recently pulled out my credit profile f...\n",
       "1994471  Credit reporting, repair, or other  The recently received a copy of my credit repo...\n",
       "1287898  Credit reporting, repair, or other  I never recieved any notification I owed a deb...\n",
       "462753   Credit reporting, repair, or other  I have tried to contact this company on severa...\n",
       "638779   Credit reporting, repair, or other  ON XX/XX/2018, I SETTLED MY DEBT WITH XXXX XXX...\n",
       "3377706  Credit reporting, repair, or other  In response to my compliant # XXXX Company res...\n",
       "3215324  Credit reporting, repair, or other  My name is XXXX XXXX, a federally protected co...\n",
       "1734277  Credit reporting, repair, or other  I am a victim of Identity theft. Please delete...\n",
       "3488234  Credit reporting, repair, or other  I found that I was being sent to collections i...\n",
       "163040   Credit reporting, repair, or other  I was in the process of buying a home but when...\n",
       "1132713  Credit reporting, repair, or other  To whom it may concern : I am in receipt of yo...\n",
       "686778   Credit reporting, repair, or other  I have contacted the creditor/company many tim...\n",
       "3579238  Credit reporting, repair, or other  CAVALRY PORTFOLIO SERV {$13000.00} XXXX ... I ...\n",
       "30819    Credit reporting, repair, or other  XXXX XXXX XXXX and national credit adjusters d...\n",
       "2318689  Credit reporting, repair, or other  On XXXX XXXX, 2017, I made the complain on the...\n",
       "3962189  Credit reporting, repair, or other  Med Busi Bur XXXX **** Under 15 US Code 1681a ...\n",
       "1472032  Credit reporting, repair, or other  I have been disputing and sending letters to t...\n",
       "1172279  Credit reporting, repair, or other  I have paid full amount to sunrise credit serv...\n",
       "3063752  Credit reporting, repair, or other  I was laid off XX/XX/2011 and my last contact ...\n",
       "310446   Credit reporting, repair, or other  Old deleted identity theft account that was on...\n",
       "161445   Credit reporting, repair, or other  Talked with XXXX from Capital One ( would not ...\n",
       "1843097  Credit reporting, repair, or other  On XX/XX/XXXX, I filled, in person, a job appl...\n",
       "1073216  Credit reporting, repair, or other  There is an illegal collection which has conti...\n",
       "287014   Credit reporting, repair, or other  Company lied about interest rates and i never ...\n",
       "443553   Credit reporting, repair, or other  I checked my credit report XXXX of 2021 becaus...\n",
       "1230893  Credit reporting, repair, or other  Recived verification that's show 's balance in...\n",
       "1005138  Credit reporting, repair, or other  I never looked at my credit report, because I ...\n",
       "387590   Credit reporting, repair, or other  I XXXX XXXX XXXX am filing a dispute against D...\n",
       "1543078  Credit reporting, repair, or other  On XX/XX/XXXX Coinbase started charging my ban...\n",
       "1870836  Credit reporting, repair, or other  I reached out serval times to get a payment ar..."
      ]
     },
     "metadata": {},
     "output_type": "display_data"
    },
    {
     "name": "stdout",
     "output_type": "stream",
     "text": [
      "\n",
      "'Credit reporting, repair, or other' predicted as 'Consumer Loan' : 43 examples.\n"
     ]
    },
    {
     "data": {
      "text/html": [
       "<div>\n",
       "<style scoped>\n",
       "    .dataframe tbody tr th:only-of-type {\n",
       "        vertical-align: middle;\n",
       "    }\n",
       "\n",
       "    .dataframe tbody tr th {\n",
       "        vertical-align: top;\n",
       "    }\n",
       "\n",
       "    .dataframe thead th {\n",
       "        text-align: right;\n",
       "    }\n",
       "</style>\n",
       "<table border=\"1\" class=\"dataframe\">\n",
       "  <thead>\n",
       "    <tr style=\"text-align: right;\">\n",
       "      <th></th>\n",
       "      <th>Product</th>\n",
       "      <th>Consumer_complaint</th>\n",
       "    </tr>\n",
       "  </thead>\n",
       "  <tbody>\n",
       "    <tr>\n",
       "      <th>1284745</th>\n",
       "      <td>Credit reporting, repair, or other</td>\n",
       "      <td>I received a letter from   XXXX   XXXX   aroun...</td>\n",
       "    </tr>\n",
       "    <tr>\n",
       "      <th>417263</th>\n",
       "      <td>Credit reporting, repair, or other</td>\n",
       "      <td>On XX/XX/19, I called TD customer service to f...</td>\n",
       "    </tr>\n",
       "    <tr>\n",
       "      <th>1443018</th>\n",
       "      <td>Credit reporting, repair, or other</td>\n",
       "      <td>For the past couple of months I have been on X...</td>\n",
       "    </tr>\n",
       "    <tr>\n",
       "      <th>2894962</th>\n",
       "      <td>Credit reporting, repair, or other</td>\n",
       "      <td>I downloaded the XXXX XXXX XXXX. ( XXXX XXXX X...</td>\n",
       "    </tr>\n",
       "    <tr>\n",
       "      <th>489048</th>\n",
       "      <td>Credit reporting, repair, or other</td>\n",
       "      <td>On XX/XX/2021 Pay Pal made an unauthorized wit...</td>\n",
       "    </tr>\n",
       "    <tr>\n",
       "      <th>256955</th>\n",
       "      <td>Credit reporting, repair, or other</td>\n",
       "      <td>I had a life insurance check from XXXX XXXX fo...</td>\n",
       "    </tr>\n",
       "    <tr>\n",
       "      <th>3832724</th>\n",
       "      <td>Credit reporting, repair, or other</td>\n",
       "      <td>XXXX XXXX XXXX  I was a victim of a scam invol...</td>\n",
       "    </tr>\n",
       "    <tr>\n",
       "      <th>1735871</th>\n",
       "      <td>Credit reporting, repair, or other</td>\n",
       "      <td>I opened a secured personal loan with XXXX XXX...</td>\n",
       "    </tr>\n",
       "    <tr>\n",
       "      <th>3927448</th>\n",
       "      <td>Credit reporting, repair, or other</td>\n",
       "      <td>XX/XX/2021 and my bank account was at negative...</td>\n",
       "    </tr>\n",
       "    <tr>\n",
       "      <th>135070</th>\n",
       "      <td>Credit reporting, repair, or other</td>\n",
       "      <td>On XX/XX/2022 I was stopped by a man I did not...</td>\n",
       "    </tr>\n",
       "    <tr>\n",
       "      <th>2393071</th>\n",
       "      <td>Credit reporting, repair, or other</td>\n",
       "      <td>On XXXX XXXX, 2016 I redeemed XXXX Everyday Re...</td>\n",
       "    </tr>\n",
       "    <tr>\n",
       "      <th>936812</th>\n",
       "      <td>Credit reporting, repair, or other</td>\n",
       "      <td>XXXX has altered and copied the promisarry not...</td>\n",
       "    </tr>\n",
       "    <tr>\n",
       "      <th>121792</th>\n",
       "      <td>Credit reporting, repair, or other</td>\n",
       "      <td>XXXX ; The people at your agency closed the co...</td>\n",
       "    </tr>\n",
       "    <tr>\n",
       "      <th>2915773</th>\n",
       "      <td>Credit reporting, repair, or other</td>\n",
       "      <td>Okay so on XX/XX/XXXX a friend asked me to con...</td>\n",
       "    </tr>\n",
       "    <tr>\n",
       "      <th>3595608</th>\n",
       "      <td>Credit reporting, repair, or other</td>\n",
       "      <td>On XX/XX/XXXX XXXX my account was compromise a...</td>\n",
       "    </tr>\n",
       "    <tr>\n",
       "      <th>831500</th>\n",
       "      <td>Credit reporting, repair, or other</td>\n",
       "      <td>We received an email from what appeared to be ...</td>\n",
       "    </tr>\n",
       "    <tr>\n",
       "      <th>1856402</th>\n",
       "      <td>Credit reporting, repair, or other</td>\n",
       "      <td>My husband bought a {$10000.00} CD from Utah X...</td>\n",
       "    </tr>\n",
       "    <tr>\n",
       "      <th>116206</th>\n",
       "      <td>Credit reporting, repair, or other</td>\n",
       "      <td>This complaint is regarding a fraudulent charg...</td>\n",
       "    </tr>\n",
       "    <tr>\n",
       "      <th>1947393</th>\n",
       "      <td>Credit reporting, repair, or other</td>\n",
       "      <td>Hi CFPB! \\n\\nI want to report my horrible expe...</td>\n",
       "    </tr>\n",
       "    <tr>\n",
       "      <th>3504405</th>\n",
       "      <td>Credit reporting, repair, or other</td>\n",
       "      <td>On XX/XX/XXXX I received a XXXX payment of {$1...</td>\n",
       "    </tr>\n",
       "    <tr>\n",
       "      <th>3564805</th>\n",
       "      <td>Credit reporting, repair, or other</td>\n",
       "      <td>I traded in my XXXX XXXX XXXX on XX/XX/2020, F...</td>\n",
       "    </tr>\n",
       "    <tr>\n",
       "      <th>3153764</th>\n",
       "      <td>Credit reporting, repair, or other</td>\n",
       "      <td>I have several cards that have been reported s...</td>\n",
       "    </tr>\n",
       "    <tr>\n",
       "      <th>595443</th>\n",
       "      <td>Credit reporting, repair, or other</td>\n",
       "      <td>My Robinhood account was hacked as a byproduct...</td>\n",
       "    </tr>\n",
       "    <tr>\n",
       "      <th>922957</th>\n",
       "      <td>Credit reporting, repair, or other</td>\n",
       "      <td>This company has been the WORST EVER TO DEAL W...</td>\n",
       "    </tr>\n",
       "    <tr>\n",
       "      <th>897580</th>\n",
       "      <td>Credit reporting, repair, or other</td>\n",
       "      <td>Payment of {$1500.00} was made and received on...</td>\n",
       "    </tr>\n",
       "    <tr>\n",
       "      <th>392855</th>\n",
       "      <td>Credit reporting, repair, or other</td>\n",
       "      <td>I sent about {$2000.00} on XX/XX/2021 that was...</td>\n",
       "    </tr>\n",
       "    <tr>\n",
       "      <th>819817</th>\n",
       "      <td>Credit reporting, repair, or other</td>\n",
       "      <td>Bought a vehicle at XXXX XXXX on XXXX XXXX XXX...</td>\n",
       "    </tr>\n",
       "    <tr>\n",
       "      <th>3848335</th>\n",
       "      <td>Credit reporting, repair, or other</td>\n",
       "      <td>My social media and e-mail were stolen and all...</td>\n",
       "    </tr>\n",
       "    <tr>\n",
       "      <th>686310</th>\n",
       "      <td>Credit reporting, repair, or other</td>\n",
       "      <td>I dont know anything about whats going on. Ive...</td>\n",
       "    </tr>\n",
       "    <tr>\n",
       "      <th>2144566</th>\n",
       "      <td>Credit reporting, repair, or other</td>\n",
       "      <td>On XX/XX/XXXX, {$100.00} was taken from me fro...</td>\n",
       "    </tr>\n",
       "    <tr>\n",
       "      <th>3706305</th>\n",
       "      <td>Credit reporting, repair, or other</td>\n",
       "      <td>I believe that Im a victim of some fraudulent ...</td>\n",
       "    </tr>\n",
       "    <tr>\n",
       "      <th>914403</th>\n",
       "      <td>Credit reporting, repair, or other</td>\n",
       "      <td>In XX/XX/XXXX i submitted an inquiry to the ir...</td>\n",
       "    </tr>\n",
       "    <tr>\n",
       "      <th>2951133</th>\n",
       "      <td>Credit reporting, repair, or other</td>\n",
       "      <td>On XX/XX/2023 A scammer from the account XXXX ...</td>\n",
       "    </tr>\n",
       "    <tr>\n",
       "      <th>1349916</th>\n",
       "      <td>Credit reporting, repair, or other</td>\n",
       "      <td>In early XXXX, I opened a bank account with ch...</td>\n",
       "    </tr>\n",
       "    <tr>\n",
       "      <th>148945</th>\n",
       "      <td>Credit reporting, repair, or other</td>\n",
       "      <td>On XXXX XXXX, 2021 I was scammed into taking {...</td>\n",
       "    </tr>\n",
       "    <tr>\n",
       "      <th>1119987</th>\n",
       "      <td>Credit reporting, repair, or other</td>\n",
       "      <td>I asked Citizens Bank XXXX XXXX XXXX team to a...</td>\n",
       "    </tr>\n",
       "    <tr>\n",
       "      <th>1604970</th>\n",
       "      <td>Credit reporting, repair, or other</td>\n",
       "      <td>I have a Chase Freedom credit card that the ac...</td>\n",
       "    </tr>\n",
       "    <tr>\n",
       "      <th>1098002</th>\n",
       "      <td>Credit reporting, repair, or other</td>\n",
       "      <td>Thank you for taking the time to review my com...</td>\n",
       "    </tr>\n",
       "    <tr>\n",
       "      <th>3566665</th>\n",
       "      <td>Credit reporting, repair, or other</td>\n",
       "      <td>Wells Fargo bank claims I took XXXX out of the...</td>\n",
       "    </tr>\n",
       "    <tr>\n",
       "      <th>3516695</th>\n",
       "      <td>Credit reporting, repair, or other</td>\n",
       "      <td>Navient is reporting a 90 Day Delinquency in X...</td>\n",
       "    </tr>\n",
       "    <tr>\n",
       "      <th>3767588</th>\n",
       "      <td>Credit reporting, repair, or other</td>\n",
       "      <td>Wells Fargo Dealer Services keeps updating a c...</td>\n",
       "    </tr>\n",
       "    <tr>\n",
       "      <th>3557006</th>\n",
       "      <td>Credit reporting, repair, or other</td>\n",
       "      <td>PNC Bank is not cooperating to make the availa...</td>\n",
       "    </tr>\n",
       "    <tr>\n",
       "      <th>1018350</th>\n",
       "      <td>Credit reporting, repair, or other</td>\n",
       "      <td>On Monday XX/XX/XXXX, I withdrew {$110000.00} ...</td>\n",
       "    </tr>\n",
       "  </tbody>\n",
       "</table>\n",
       "</div>"
      ],
      "text/plain": [
       "                                    Product                                 Consumer_complaint\n",
       "1284745  Credit reporting, repair, or other  I received a letter from   XXXX   XXXX   aroun...\n",
       "417263   Credit reporting, repair, or other  On XX/XX/19, I called TD customer service to f...\n",
       "1443018  Credit reporting, repair, or other  For the past couple of months I have been on X...\n",
       "2894962  Credit reporting, repair, or other  I downloaded the XXXX XXXX XXXX. ( XXXX XXXX X...\n",
       "489048   Credit reporting, repair, or other  On XX/XX/2021 Pay Pal made an unauthorized wit...\n",
       "256955   Credit reporting, repair, or other  I had a life insurance check from XXXX XXXX fo...\n",
       "3832724  Credit reporting, repair, or other  XXXX XXXX XXXX  I was a victim of a scam invol...\n",
       "1735871  Credit reporting, repair, or other  I opened a secured personal loan with XXXX XXX...\n",
       "3927448  Credit reporting, repair, or other  XX/XX/2021 and my bank account was at negative...\n",
       "135070   Credit reporting, repair, or other  On XX/XX/2022 I was stopped by a man I did not...\n",
       "2393071  Credit reporting, repair, or other  On XXXX XXXX, 2016 I redeemed XXXX Everyday Re...\n",
       "936812   Credit reporting, repair, or other  XXXX has altered and copied the promisarry not...\n",
       "121792   Credit reporting, repair, or other  XXXX ; The people at your agency closed the co...\n",
       "2915773  Credit reporting, repair, or other  Okay so on XX/XX/XXXX a friend asked me to con...\n",
       "3595608  Credit reporting, repair, or other  On XX/XX/XXXX XXXX my account was compromise a...\n",
       "831500   Credit reporting, repair, or other  We received an email from what appeared to be ...\n",
       "1856402  Credit reporting, repair, or other  My husband bought a {$10000.00} CD from Utah X...\n",
       "116206   Credit reporting, repair, or other  This complaint is regarding a fraudulent charg...\n",
       "1947393  Credit reporting, repair, or other  Hi CFPB! \\n\\nI want to report my horrible expe...\n",
       "3504405  Credit reporting, repair, or other  On XX/XX/XXXX I received a XXXX payment of {$1...\n",
       "3564805  Credit reporting, repair, or other  I traded in my XXXX XXXX XXXX on XX/XX/2020, F...\n",
       "3153764  Credit reporting, repair, or other  I have several cards that have been reported s...\n",
       "595443   Credit reporting, repair, or other  My Robinhood account was hacked as a byproduct...\n",
       "922957   Credit reporting, repair, or other  This company has been the WORST EVER TO DEAL W...\n",
       "897580   Credit reporting, repair, or other  Payment of {$1500.00} was made and received on...\n",
       "392855   Credit reporting, repair, or other  I sent about {$2000.00} on XX/XX/2021 that was...\n",
       "819817   Credit reporting, repair, or other  Bought a vehicle at XXXX XXXX on XXXX XXXX XXX...\n",
       "3848335  Credit reporting, repair, or other  My social media and e-mail were stolen and all...\n",
       "686310   Credit reporting, repair, or other  I dont know anything about whats going on. Ive...\n",
       "2144566  Credit reporting, repair, or other  On XX/XX/XXXX, {$100.00} was taken from me fro...\n",
       "3706305  Credit reporting, repair, or other  I believe that Im a victim of some fraudulent ...\n",
       "914403   Credit reporting, repair, or other  In XX/XX/XXXX i submitted an inquiry to the ir...\n",
       "2951133  Credit reporting, repair, or other  On XX/XX/2023 A scammer from the account XXXX ...\n",
       "1349916  Credit reporting, repair, or other  In early XXXX, I opened a bank account with ch...\n",
       "148945   Credit reporting, repair, or other  On XXXX XXXX, 2021 I was scammed into taking {...\n",
       "1119987  Credit reporting, repair, or other  I asked Citizens Bank XXXX XXXX XXXX team to a...\n",
       "1604970  Credit reporting, repair, or other  I have a Chase Freedom credit card that the ac...\n",
       "1098002  Credit reporting, repair, or other  Thank you for taking the time to review my com...\n",
       "3566665  Credit reporting, repair, or other  Wells Fargo bank claims I took XXXX out of the...\n",
       "3516695  Credit reporting, repair, or other  Navient is reporting a 90 Day Delinquency in X...\n",
       "3767588  Credit reporting, repair, or other  Wells Fargo Dealer Services keeps updating a c...\n",
       "3557006  Credit reporting, repair, or other  PNC Bank is not cooperating to make the availa...\n",
       "1018350  Credit reporting, repair, or other  On Monday XX/XX/XXXX, I withdrew {$110000.00} ..."
      ]
     },
     "metadata": {},
     "output_type": "display_data"
    },
    {
     "name": "stdout",
     "output_type": "stream",
     "text": [
      "\n",
      "'Debt collection' predicted as 'Credit reporting, repair, or other' : 128 examples.\n"
     ]
    },
    {
     "data": {
      "text/html": [
       "<div>\n",
       "<style scoped>\n",
       "    .dataframe tbody tr th:only-of-type {\n",
       "        vertical-align: middle;\n",
       "    }\n",
       "\n",
       "    .dataframe tbody tr th {\n",
       "        vertical-align: top;\n",
       "    }\n",
       "\n",
       "    .dataframe thead th {\n",
       "        text-align: right;\n",
       "    }\n",
       "</style>\n",
       "<table border=\"1\" class=\"dataframe\">\n",
       "  <thead>\n",
       "    <tr style=\"text-align: right;\">\n",
       "      <th></th>\n",
       "      <th>Product</th>\n",
       "      <th>Consumer_complaint</th>\n",
       "    </tr>\n",
       "  </thead>\n",
       "  <tbody>\n",
       "    <tr>\n",
       "      <th>3612880</th>\n",
       "      <td>Debt collection</td>\n",
       "      <td>My name is XXXX XXXX, and I am sending this re...</td>\n",
       "    </tr>\n",
       "    <tr>\n",
       "      <th>169568</th>\n",
       "      <td>Debt collection</td>\n",
       "      <td>ADVANCE AMERICA LOAN NO. XXXX On XX/XX/XXXX I ...</td>\n",
       "    </tr>\n",
       "    <tr>\n",
       "      <th>1244222</th>\n",
       "      <td>Debt collection</td>\n",
       "      <td>Regarding my CFPB complaint number XXXX, on da...</td>\n",
       "    </tr>\n",
       "    <tr>\n",
       "      <th>2852101</th>\n",
       "      <td>Debt collection</td>\n",
       "      <td>XXXX XXXX called my job togs my boss they were...</td>\n",
       "    </tr>\n",
       "    <tr>\n",
       "      <th>3420240</th>\n",
       "      <td>Debt collection</td>\n",
       "      <td>Re : Notice of Intent to Sue / Health Insuranc...</td>\n",
       "    </tr>\n",
       "    <tr>\n",
       "      <th>2650801</th>\n",
       "      <td>Debt collection</td>\n",
       "      <td>I am contacting you to request the prompt remo...</td>\n",
       "    </tr>\n",
       "    <tr>\n",
       "      <th>3260994</th>\n",
       "      <td>Debt collection</td>\n",
       "      <td>I am a victim of identity theft, the enclosed ...</td>\n",
       "    </tr>\n",
       "    <tr>\n",
       "      <th>1435359</th>\n",
       "      <td>Debt collection</td>\n",
       "      <td>My XXXX is XXXX years old and not capable of e...</td>\n",
       "    </tr>\n",
       "    <tr>\n",
       "      <th>3491404</th>\n",
       "      <td>Debt collection</td>\n",
       "      <td>The following accounts has caused me financial...</td>\n",
       "    </tr>\n",
       "    <tr>\n",
       "      <th>976022</th>\n",
       "      <td>Debt collection</td>\n",
       "      <td>Your fields do not have enough options to adeq...</td>\n",
       "    </tr>\n",
       "    <tr>\n",
       "      <th>109585</th>\n",
       "      <td>Debt collection</td>\n",
       "      <td>This is a sworn affidavit of truth that compan...</td>\n",
       "    </tr>\n",
       "    <tr>\n",
       "      <th>2025983</th>\n",
       "      <td>Debt collection</td>\n",
       "      <td>On XXXX XXXX, 2016, I mailed USPS certified le...</td>\n",
       "    </tr>\n",
       "    <tr>\n",
       "      <th>2828265</th>\n",
       "      <td>Debt collection</td>\n",
       "      <td>I obtained a copy of my credit reports and dis...</td>\n",
       "    </tr>\n",
       "    <tr>\n",
       "      <th>1589923</th>\n",
       "      <td>Debt collection</td>\n",
       "      <td>XXXX XXXX XXXX Bank of America keep say Say im...</td>\n",
       "    </tr>\n",
       "    <tr>\n",
       "      <th>562745</th>\n",
       "      <td>Debt collection</td>\n",
       "      <td>I Filed a CFPB Complaint # XXXX in XXXX agains...</td>\n",
       "    </tr>\n",
       "    <tr>\n",
       "      <th>421575</th>\n",
       "      <td>Debt collection</td>\n",
       "      <td>This particular account situation that is late...</td>\n",
       "    </tr>\n",
       "    <tr>\n",
       "      <th>1374892</th>\n",
       "      <td>Debt collection</td>\n",
       "      <td>This company ( Michael and Associates, PC ), T...</td>\n",
       "    </tr>\n",
       "    <tr>\n",
       "      <th>788434</th>\n",
       "      <td>Debt collection</td>\n",
       "      <td>To whom it may concern I am communicating with...</td>\n",
       "    </tr>\n",
       "    <tr>\n",
       "      <th>2627333</th>\n",
       "      <td>Debt collection</td>\n",
       "      <td>Follow up to Case number : XXXX I am writing b...</td>\n",
       "    </tr>\n",
       "    <tr>\n",
       "      <th>511194</th>\n",
       "      <td>Debt collection</td>\n",
       "      <td>I am not aware of this issue, I have tried to ...</td>\n",
       "    </tr>\n",
       "    <tr>\n",
       "      <th>1382754</th>\n",
       "      <td>Debt collection</td>\n",
       "      <td>I reached out to the collection agency ( Unite...</td>\n",
       "    </tr>\n",
       "    <tr>\n",
       "      <th>578407</th>\n",
       "      <td>Debt collection</td>\n",
       "      <td>AMERICOLLECT ( Original Creditor : XXXX XXXXXX...</td>\n",
       "    </tr>\n",
       "    <tr>\n",
       "      <th>610676</th>\n",
       "      <td>Debt collection</td>\n",
       "      <td>On XX/XX/2021 MBA Law placed 3 medical bills o...</td>\n",
       "    </tr>\n",
       "    <tr>\n",
       "      <th>3467829</th>\n",
       "      <td>Debt collection</td>\n",
       "      <td>After reviewing my credit profile on XX/XX/202...</td>\n",
       "    </tr>\n",
       "    <tr>\n",
       "      <th>1341692</th>\n",
       "      <td>Debt collection</td>\n",
       "      <td>I recieve XXXX phone calls per day from the Am...</td>\n",
       "    </tr>\n",
       "    <tr>\n",
       "      <th>494744</th>\n",
       "      <td>Debt collection</td>\n",
       "      <td>OnXX/XX/XXXX One Main associate by the name of...</td>\n",
       "    </tr>\n",
       "    <tr>\n",
       "      <th>2567235</th>\n",
       "      <td>Debt collection</td>\n",
       "      <td>After reviewing the credit report noticed Coll...</td>\n",
       "    </tr>\n",
       "    <tr>\n",
       "      <th>1357480</th>\n",
       "      <td>Debt collection</td>\n",
       "      <td>For the pass, several mouths I was receiving a...</td>\n",
       "    </tr>\n",
       "    <tr>\n",
       "      <th>1552905</th>\n",
       "      <td>Debt collection</td>\n",
       "      <td>I've tried logging into my Upstart account, wh...</td>\n",
       "    </tr>\n",
       "    <tr>\n",
       "      <th>281394</th>\n",
       "      <td>Debt collection</td>\n",
       "      <td>Diversified reported me for a debt that is not...</td>\n",
       "    </tr>\n",
       "    <tr>\n",
       "      <th>...</th>\n",
       "      <td>...</td>\n",
       "      <td>...</td>\n",
       "    </tr>\n",
       "    <tr>\n",
       "      <th>3799471</th>\n",
       "      <td>Debt collection</td>\n",
       "      <td>The consumer is here to dispute any alleged cl...</td>\n",
       "    </tr>\n",
       "    <tr>\n",
       "      <th>661755</th>\n",
       "      <td>Debt collection</td>\n",
       "      <td>i got and payday loan in XXXX for XXXX at XXXX...</td>\n",
       "    </tr>\n",
       "    <tr>\n",
       "      <th>2203016</th>\n",
       "      <td>Debt collection</td>\n",
       "      <td>In XX/XX/XXXX or XX/XX/2020. a fraudulent char...</td>\n",
       "    </tr>\n",
       "    <tr>\n",
       "      <th>420973</th>\n",
       "      <td>Debt collection</td>\n",
       "      <td>I had a gym membership at XXXXXXXX XXXX at the...</td>\n",
       "    </tr>\n",
       "    <tr>\n",
       "      <th>1018331</th>\n",
       "      <td>Debt collection</td>\n",
       "      <td>The 3 major credit bureaus ignored my request ...</td>\n",
       "    </tr>\n",
       "    <tr>\n",
       "      <th>1879952</th>\n",
       "      <td>Debt collection</td>\n",
       "      <td>XXXX XXXX added a collection in XXXX of 2019. ...</td>\n",
       "    </tr>\n",
       "    <tr>\n",
       "      <th>917786</th>\n",
       "      <td>Debt collection</td>\n",
       "      <td>This is XXXX XXXX XXXX XXXX, who is submitting...</td>\n",
       "    </tr>\n",
       "    <tr>\n",
       "      <th>3207925</th>\n",
       "      <td>Debt collection</td>\n",
       "      <td>Wrote companies on XXXX, XXXX, XXXX, XXXX, and...</td>\n",
       "    </tr>\n",
       "    <tr>\n",
       "      <th>73295</th>\n",
       "      <td>Debt collection</td>\n",
       "      <td>I am XXXX XXXX and I am submitting this compla...</td>\n",
       "    </tr>\n",
       "    <tr>\n",
       "      <th>2288649</th>\n",
       "      <td>Debt collection</td>\n",
       "      <td>I AM WRITING TO DELETE THE FOLLOWING INFORMATI...</td>\n",
       "    </tr>\n",
       "    <tr>\n",
       "      <th>2680035</th>\n",
       "      <td>Debt collection</td>\n",
       "      <td>Synchrony bank calls constantly every day. \\nT...</td>\n",
       "    </tr>\n",
       "    <tr>\n",
       "      <th>809793</th>\n",
       "      <td>Debt collection</td>\n",
       "      <td>Date of Occurance : XX/XX/2020 Times of Phone ...</td>\n",
       "    </tr>\n",
       "    <tr>\n",
       "      <th>617046</th>\n",
       "      <td>Debt collection</td>\n",
       "      <td>I had a charge off on my credit bureaus from S...</td>\n",
       "    </tr>\n",
       "    <tr>\n",
       "      <th>3344816</th>\n",
       "      <td>Debt collection</td>\n",
       "      <td>ON XX/XX/2021 I sent a money order Account num...</td>\n",
       "    </tr>\n",
       "    <tr>\n",
       "      <th>143626</th>\n",
       "      <td>Debt collection</td>\n",
       "      <td>Is now over one year, and when I believed the ...</td>\n",
       "    </tr>\n",
       "    <tr>\n",
       "      <th>905785</th>\n",
       "      <td>Debt collection</td>\n",
       "      <td>Ive never went to c why my credit is never app...</td>\n",
       "    </tr>\n",
       "    <tr>\n",
       "      <th>221707</th>\n",
       "      <td>Debt collection</td>\n",
       "      <td>Diversied Consultants has been in accurately a...</td>\n",
       "    </tr>\n",
       "    <tr>\n",
       "      <th>1481368</th>\n",
       "      <td>Debt collection</td>\n",
       "      <td>Judgment with Reference # XXXX, reported on XX...</td>\n",
       "    </tr>\n",
       "    <tr>\n",
       "      <th>3987353</th>\n",
       "      <td>Debt collection</td>\n",
       "      <td>Dear Sir or Madam, 1. DISCOVERBANK Account Num...</td>\n",
       "    </tr>\n",
       "    <tr>\n",
       "      <th>807377</th>\n",
       "      <td>Debt collection</td>\n",
       "      <td>I have no knowledge of this account</td>\n",
       "    </tr>\n",
       "    <tr>\n",
       "      <th>1437972</th>\n",
       "      <td>Debt collection</td>\n",
       "      <td>This account XXXX XXXX account number : XXXX i...</td>\n",
       "    </tr>\n",
       "    <tr>\n",
       "      <th>669571</th>\n",
       "      <td>Debt collection</td>\n",
       "      <td>I AM WRITING TO DELETE THE FOLLOWING INFORMATI...</td>\n",
       "    </tr>\n",
       "    <tr>\n",
       "      <th>410416</th>\n",
       "      <td>Debt collection</td>\n",
       "      <td>I LOOKED ON MY CREDIT REPORT AND I SAW THAT TH...</td>\n",
       "    </tr>\n",
       "    <tr>\n",
       "      <th>3081969</th>\n",
       "      <td>Debt collection</td>\n",
       "      <td>I got a email warning from my bank on XX/XX/XX...</td>\n",
       "    </tr>\n",
       "    <tr>\n",
       "      <th>1290432</th>\n",
       "      <td>Debt collection</td>\n",
       "      <td>On XX/XX/18, XXXX XXXX ACH debited my personal...</td>\n",
       "    </tr>\n",
       "    <tr>\n",
       "      <th>1475879</th>\n",
       "      <td>Debt collection</td>\n",
       "      <td>Requested a verification of the debt and did n...</td>\n",
       "    </tr>\n",
       "    <tr>\n",
       "      <th>1963396</th>\n",
       "      <td>Debt collection</td>\n",
       "      <td>A collection agency under the name XXXX XXXX A...</td>\n",
       "    </tr>\n",
       "    <tr>\n",
       "      <th>1071120</th>\n",
       "      <td>Debt collection</td>\n",
       "      <td>In XX/XX/XXXX i moved to a new residence that ...</td>\n",
       "    </tr>\n",
       "    <tr>\n",
       "      <th>177977</th>\n",
       "      <td>Debt collection</td>\n",
       "      <td>XXXX XXXX XXXX approve me for an unsecured cre...</td>\n",
       "    </tr>\n",
       "    <tr>\n",
       "      <th>914426</th>\n",
       "      <td>Debt collection</td>\n",
       "      <td>I am a victim of identity theft. Several years...</td>\n",
       "    </tr>\n",
       "  </tbody>\n",
       "</table>\n",
       "<p>128 rows × 2 columns</p>\n",
       "</div>"
      ],
      "text/plain": [
       "                 Product                                 Consumer_complaint\n",
       "3612880  Debt collection  My name is XXXX XXXX, and I am sending this re...\n",
       "169568   Debt collection  ADVANCE AMERICA LOAN NO. XXXX On XX/XX/XXXX I ...\n",
       "1244222  Debt collection  Regarding my CFPB complaint number XXXX, on da...\n",
       "2852101  Debt collection  XXXX XXXX called my job togs my boss they were...\n",
       "3420240  Debt collection  Re : Notice of Intent to Sue / Health Insuranc...\n",
       "2650801  Debt collection  I am contacting you to request the prompt remo...\n",
       "3260994  Debt collection  I am a victim of identity theft, the enclosed ...\n",
       "1435359  Debt collection  My XXXX is XXXX years old and not capable of e...\n",
       "3491404  Debt collection  The following accounts has caused me financial...\n",
       "976022   Debt collection  Your fields do not have enough options to adeq...\n",
       "109585   Debt collection  This is a sworn affidavit of truth that compan...\n",
       "2025983  Debt collection  On XXXX XXXX, 2016, I mailed USPS certified le...\n",
       "2828265  Debt collection  I obtained a copy of my credit reports and dis...\n",
       "1589923  Debt collection  XXXX XXXX XXXX Bank of America keep say Say im...\n",
       "562745   Debt collection  I Filed a CFPB Complaint # XXXX in XXXX agains...\n",
       "421575   Debt collection  This particular account situation that is late...\n",
       "1374892  Debt collection  This company ( Michael and Associates, PC ), T...\n",
       "788434   Debt collection  To whom it may concern I am communicating with...\n",
       "2627333  Debt collection  Follow up to Case number : XXXX I am writing b...\n",
       "511194   Debt collection  I am not aware of this issue, I have tried to ...\n",
       "1382754  Debt collection  I reached out to the collection agency ( Unite...\n",
       "578407   Debt collection  AMERICOLLECT ( Original Creditor : XXXX XXXXXX...\n",
       "610676   Debt collection  On XX/XX/2021 MBA Law placed 3 medical bills o...\n",
       "3467829  Debt collection  After reviewing my credit profile on XX/XX/202...\n",
       "1341692  Debt collection  I recieve XXXX phone calls per day from the Am...\n",
       "494744   Debt collection  OnXX/XX/XXXX One Main associate by the name of...\n",
       "2567235  Debt collection  After reviewing the credit report noticed Coll...\n",
       "1357480  Debt collection  For the pass, several mouths I was receiving a...\n",
       "1552905  Debt collection  I've tried logging into my Upstart account, wh...\n",
       "281394   Debt collection  Diversified reported me for a debt that is not...\n",
       "...                  ...                                                ...\n",
       "3799471  Debt collection  The consumer is here to dispute any alleged cl...\n",
       "661755   Debt collection  i got and payday loan in XXXX for XXXX at XXXX...\n",
       "2203016  Debt collection  In XX/XX/XXXX or XX/XX/2020. a fraudulent char...\n",
       "420973   Debt collection  I had a gym membership at XXXXXXXX XXXX at the...\n",
       "1018331  Debt collection  The 3 major credit bureaus ignored my request ...\n",
       "1879952  Debt collection  XXXX XXXX added a collection in XXXX of 2019. ...\n",
       "917786   Debt collection  This is XXXX XXXX XXXX XXXX, who is submitting...\n",
       "3207925  Debt collection  Wrote companies on XXXX, XXXX, XXXX, XXXX, and...\n",
       "73295    Debt collection  I am XXXX XXXX and I am submitting this compla...\n",
       "2288649  Debt collection  I AM WRITING TO DELETE THE FOLLOWING INFORMATI...\n",
       "2680035  Debt collection  Synchrony bank calls constantly every day. \\nT...\n",
       "809793   Debt collection  Date of Occurance : XX/XX/2020 Times of Phone ...\n",
       "617046   Debt collection  I had a charge off on my credit bureaus from S...\n",
       "3344816  Debt collection  ON XX/XX/2021 I sent a money order Account num...\n",
       "143626   Debt collection  Is now over one year, and when I believed the ...\n",
       "905785   Debt collection  Ive never went to c why my credit is never app...\n",
       "221707   Debt collection  Diversied Consultants has been in accurately a...\n",
       "1481368  Debt collection  Judgment with Reference # XXXX, reported on XX...\n",
       "3987353  Debt collection  Dear Sir or Madam, 1. DISCOVERBANK Account Num...\n",
       "807377   Debt collection                I have no knowledge of this account\n",
       "1437972  Debt collection  This account XXXX XXXX account number : XXXX i...\n",
       "669571   Debt collection  I AM WRITING TO DELETE THE FOLLOWING INFORMATI...\n",
       "410416   Debt collection  I LOOKED ON MY CREDIT REPORT AND I SAW THAT TH...\n",
       "3081969  Debt collection  I got a email warning from my bank on XX/XX/XX...\n",
       "1290432  Debt collection  On XX/XX/18, XXXX XXXX ACH debited my personal...\n",
       "1475879  Debt collection  Requested a verification of the debt and did n...\n",
       "1963396  Debt collection  A collection agency under the name XXXX XXXX A...\n",
       "1071120  Debt collection  In XX/XX/XXXX i moved to a new residence that ...\n",
       "177977   Debt collection  XXXX XXXX XXXX approve me for an unsecured cre...\n",
       "914426   Debt collection  I am a victim of identity theft. Several years...\n",
       "\n",
       "[128 rows x 2 columns]"
      ]
     },
     "metadata": {},
     "output_type": "display_data"
    },
    {
     "name": "stdout",
     "output_type": "stream",
     "text": [
      "\n",
      "'Debt collection' predicted as 'Consumer Loan' : 20 examples.\n"
     ]
    },
    {
     "data": {
      "text/html": [
       "<div>\n",
       "<style scoped>\n",
       "    .dataframe tbody tr th:only-of-type {\n",
       "        vertical-align: middle;\n",
       "    }\n",
       "\n",
       "    .dataframe tbody tr th {\n",
       "        vertical-align: top;\n",
       "    }\n",
       "\n",
       "    .dataframe thead th {\n",
       "        text-align: right;\n",
       "    }\n",
       "</style>\n",
       "<table border=\"1\" class=\"dataframe\">\n",
       "  <thead>\n",
       "    <tr style=\"text-align: right;\">\n",
       "      <th></th>\n",
       "      <th>Product</th>\n",
       "      <th>Consumer_complaint</th>\n",
       "    </tr>\n",
       "  </thead>\n",
       "  <tbody>\n",
       "    <tr>\n",
       "      <th>3921131</th>\n",
       "      <td>Debt collection</td>\n",
       "      <td>My husband and I have a Home Equity Line of Cr...</td>\n",
       "    </tr>\n",
       "    <tr>\n",
       "      <th>1417418</th>\n",
       "      <td>Debt collection</td>\n",
       "      <td>The predatory lender, Security Finance, extend...</td>\n",
       "    </tr>\n",
       "    <tr>\n",
       "      <th>1889674</th>\n",
       "      <td>Debt collection</td>\n",
       "      <td>I was contacted by this company about a privat...</td>\n",
       "    </tr>\n",
       "    <tr>\n",
       "      <th>1974670</th>\n",
       "      <td>Debt collection</td>\n",
       "      <td>XXXX : I informed XXXX XXXX  in writing that t...</td>\n",
       "    </tr>\n",
       "    <tr>\n",
       "      <th>1036080</th>\n",
       "      <td>Debt collection</td>\n",
       "      <td>I have had a personal account with Citizens Ba...</td>\n",
       "    </tr>\n",
       "    <tr>\n",
       "      <th>2491223</th>\n",
       "      <td>Debt collection</td>\n",
       "      <td>The company, transworld solutions, is writing ...</td>\n",
       "    </tr>\n",
       "    <tr>\n",
       "      <th>1126561</th>\n",
       "      <td>Debt collection</td>\n",
       "      <td>Tengo una queja contra  la compaa  ATLANTIC CA...</td>\n",
       "    </tr>\n",
       "    <tr>\n",
       "      <th>1172242</th>\n",
       "      <td>Debt collection</td>\n",
       "      <td>USAA Banking Auto Loan Department keeps sendin...</td>\n",
       "    </tr>\n",
       "    <tr>\n",
       "      <th>1741411</th>\n",
       "      <td>Debt collection</td>\n",
       "      <td>Ive been applying for loans an not Recieving a...</td>\n",
       "    </tr>\n",
       "    <tr>\n",
       "      <th>1261844</th>\n",
       "      <td>Debt collection</td>\n",
       "      <td>I was called by this company and they said the...</td>\n",
       "    </tr>\n",
       "    <tr>\n",
       "      <th>350136</th>\n",
       "      <td>Debt collection</td>\n",
       "      <td>I have a personal loan account with OneMain Fi...</td>\n",
       "    </tr>\n",
       "    <tr>\n",
       "      <th>606730</th>\n",
       "      <td>Debt collection</td>\n",
       "      <td>I went to XXXX  and my job wouldnt let me come...</td>\n",
       "    </tr>\n",
       "    <tr>\n",
       "      <th>1284130</th>\n",
       "      <td>Debt collection</td>\n",
       "      <td>I signed up for a loan and was told I was in c...</td>\n",
       "    </tr>\n",
       "    <tr>\n",
       "      <th>3558800</th>\n",
       "      <td>Debt collection</td>\n",
       "      <td>TCF NATIONAL BANK ( TCF BANK-ILLINOIS INSTALLM...</td>\n",
       "    </tr>\n",
       "    <tr>\n",
       "      <th>2219400</th>\n",
       "      <td>Debt collection</td>\n",
       "      <td>I received a call from Critical Resolution Med...</td>\n",
       "    </tr>\n",
       "    <tr>\n",
       "      <th>2168145</th>\n",
       "      <td>Debt collection</td>\n",
       "      <td>there was a loan with check n cash and XXXX fi...</td>\n",
       "    </tr>\n",
       "    <tr>\n",
       "      <th>1189832</th>\n",
       "      <td>Debt collection</td>\n",
       "      <td>We were effected by XXXX XXXX and my wife was ...</td>\n",
       "    </tr>\n",
       "    <tr>\n",
       "      <th>1464670</th>\n",
       "      <td>Debt collection</td>\n",
       "      <td>I attended XXXX XXXX XXXX years ago. When atte...</td>\n",
       "    </tr>\n",
       "    <tr>\n",
       "      <th>1410167</th>\n",
       "      <td>Debt collection</td>\n",
       "      <td>The accoun manager at navient threaten to take...</td>\n",
       "    </tr>\n",
       "    <tr>\n",
       "      <th>2927700</th>\n",
       "      <td>Debt collection</td>\n",
       "      <td>I got a call from XXXX on XX/XX/XXXX, Employee...</td>\n",
       "    </tr>\n",
       "  </tbody>\n",
       "</table>\n",
       "</div>"
      ],
      "text/plain": [
       "                 Product                                 Consumer_complaint\n",
       "3921131  Debt collection  My husband and I have a Home Equity Line of Cr...\n",
       "1417418  Debt collection  The predatory lender, Security Finance, extend...\n",
       "1889674  Debt collection  I was contacted by this company about a privat...\n",
       "1974670  Debt collection  XXXX : I informed XXXX XXXX  in writing that t...\n",
       "1036080  Debt collection  I have had a personal account with Citizens Ba...\n",
       "2491223  Debt collection  The company, transworld solutions, is writing ...\n",
       "1126561  Debt collection  Tengo una queja contra  la compaa  ATLANTIC CA...\n",
       "1172242  Debt collection  USAA Banking Auto Loan Department keeps sendin...\n",
       "1741411  Debt collection  Ive been applying for loans an not Recieving a...\n",
       "1261844  Debt collection  I was called by this company and they said the...\n",
       "350136   Debt collection  I have a personal loan account with OneMain Fi...\n",
       "606730   Debt collection  I went to XXXX  and my job wouldnt let me come...\n",
       "1284130  Debt collection  I signed up for a loan and was told I was in c...\n",
       "3558800  Debt collection  TCF NATIONAL BANK ( TCF BANK-ILLINOIS INSTALLM...\n",
       "2219400  Debt collection  I received a call from Critical Resolution Med...\n",
       "2168145  Debt collection  there was a loan with check n cash and XXXX fi...\n",
       "1189832  Debt collection  We were effected by XXXX XXXX and my wife was ...\n",
       "1464670  Debt collection  I attended XXXX XXXX XXXX years ago. When atte...\n",
       "1410167  Debt collection  The accoun manager at navient threaten to take...\n",
       "2927700  Debt collection  I got a call from XXXX on XX/XX/XXXX, Employee..."
      ]
     },
     "metadata": {},
     "output_type": "display_data"
    },
    {
     "name": "stdout",
     "output_type": "stream",
     "text": [
      "\n",
      "'Consumer Loan' predicted as 'Credit reporting, repair, or other' : 82 examples.\n"
     ]
    },
    {
     "data": {
      "text/html": [
       "<div>\n",
       "<style scoped>\n",
       "    .dataframe tbody tr th:only-of-type {\n",
       "        vertical-align: middle;\n",
       "    }\n",
       "\n",
       "    .dataframe tbody tr th {\n",
       "        vertical-align: top;\n",
       "    }\n",
       "\n",
       "    .dataframe thead th {\n",
       "        text-align: right;\n",
       "    }\n",
       "</style>\n",
       "<table border=\"1\" class=\"dataframe\">\n",
       "  <thead>\n",
       "    <tr style=\"text-align: right;\">\n",
       "      <th></th>\n",
       "      <th>Product</th>\n",
       "      <th>Consumer_complaint</th>\n",
       "    </tr>\n",
       "  </thead>\n",
       "  <tbody>\n",
       "    <tr>\n",
       "      <th>2375315</th>\n",
       "      <td>Consumer Loan</td>\n",
       "      <td>Original complaint XXXX was filed on XX/XX/XXX...</td>\n",
       "    </tr>\n",
       "    <tr>\n",
       "      <th>3599051</th>\n",
       "      <td>Consumer Loan</td>\n",
       "      <td>I set up a one time online payment to pay off ...</td>\n",
       "    </tr>\n",
       "    <tr>\n",
       "      <th>1850358</th>\n",
       "      <td>Consumer Loan</td>\n",
       "      <td>I believe Wellsfargo is in collusion with othe...</td>\n",
       "    </tr>\n",
       "    <tr>\n",
       "      <th>1900246</th>\n",
       "      <td>Consumer Loan</td>\n",
       "      <td>A JPMORGAN CHASE XXXX account was opened in my...</td>\n",
       "    </tr>\n",
       "    <tr>\n",
       "      <th>870960</th>\n",
       "      <td>Consumer Loan</td>\n",
       "      <td>To Whom it may concern : This letter is concer...</td>\n",
       "    </tr>\n",
       "    <tr>\n",
       "      <th>1329675</th>\n",
       "      <td>Consumer Loan</td>\n",
       "      <td>In XX/XX/ 2023, a Bank of America ADV SAFEBALA...</td>\n",
       "    </tr>\n",
       "    <tr>\n",
       "      <th>941165</th>\n",
       "      <td>Consumer Loan</td>\n",
       "      <td>I leased my vehicle through Ally Bank. I setup...</td>\n",
       "    </tr>\n",
       "    <tr>\n",
       "      <th>1506534</th>\n",
       "      <td>Consumer Loan</td>\n",
       "      <td>Synchrony XXXX has been charging me a \" late f...</td>\n",
       "    </tr>\n",
       "    <tr>\n",
       "      <th>1708874</th>\n",
       "      <td>Consumer Loan</td>\n",
       "      <td>I was contacted by GM Financial on XX/XX/19 in...</td>\n",
       "    </tr>\n",
       "    <tr>\n",
       "      <th>3916347</th>\n",
       "      <td>Consumer Loan</td>\n",
       "      <td>I WANT ALL THREE REPORTS TO SHOW A XXXX BALANC...</td>\n",
       "    </tr>\n",
       "    <tr>\n",
       "      <th>1130682</th>\n",
       "      <td>Consumer Loan</td>\n",
       "      <td>Cashapp has not refunded me nor has not been w...</td>\n",
       "    </tr>\n",
       "    <tr>\n",
       "      <th>3612344</th>\n",
       "      <td>Consumer Loan</td>\n",
       "      <td>CARMAX AUTO FINANCE ACCOUNT XXXX AMT OWING {$2...</td>\n",
       "    </tr>\n",
       "    <tr>\n",
       "      <th>1975124</th>\n",
       "      <td>Consumer Loan</td>\n",
       "      <td>I have two issues. Issue # 1 is that their ema...</td>\n",
       "    </tr>\n",
       "    <tr>\n",
       "      <th>1804026</th>\n",
       "      <td>Consumer Loan</td>\n",
       "      <td>XX/XX/XXXX CFPB Investigative Unit RE XXXX XXX...</td>\n",
       "    </tr>\n",
       "    <tr>\n",
       "      <th>2202013</th>\n",
       "      <td>Consumer Loan</td>\n",
       "      <td>XX/XX/2021 I did a XXXX transfer of {$350.00} ...</td>\n",
       "    </tr>\n",
       "    <tr>\n",
       "      <th>2327243</th>\n",
       "      <td>Consumer Loan</td>\n",
       "      <td>I am experiencing a Hardship financially due t...</td>\n",
       "    </tr>\n",
       "    <tr>\n",
       "      <th>2365671</th>\n",
       "      <td>Consumer Loan</td>\n",
       "      <td>I was charged a late fee when my due date is t...</td>\n",
       "    </tr>\n",
       "    <tr>\n",
       "      <th>2659887</th>\n",
       "      <td>Consumer Loan</td>\n",
       "      <td>XXXX XXXX advertises as a highly rated auto lo...</td>\n",
       "    </tr>\n",
       "    <tr>\n",
       "      <th>759436</th>\n",
       "      <td>Consumer Loan</td>\n",
       "      <td>On or about XX/XX/2020, I purchased an item fr...</td>\n",
       "    </tr>\n",
       "    <tr>\n",
       "      <th>1372595</th>\n",
       "      <td>Consumer Loan</td>\n",
       "      <td>I went to XXXX XXXX XXXX XXXX XXXX XXXX, XXXX,...</td>\n",
       "    </tr>\n",
       "    <tr>\n",
       "      <th>3549479</th>\n",
       "      <td>Consumer Loan</td>\n",
       "      <td>Bbva has for the second time erroneously charg...</td>\n",
       "    </tr>\n",
       "    <tr>\n",
       "      <th>403770</th>\n",
       "      <td>Consumer Loan</td>\n",
       "      <td>In XX/XX/2018 I had a third party company that...</td>\n",
       "    </tr>\n",
       "    <tr>\n",
       "      <th>1892473</th>\n",
       "      <td>Consumer Loan</td>\n",
       "      <td>On XX/XX/2019 I was scammed by a merchant who ...</td>\n",
       "    </tr>\n",
       "    <tr>\n",
       "      <th>3061442</th>\n",
       "      <td>Consumer Loan</td>\n",
       "      <td>Usaa try to close my account and do n't want t...</td>\n",
       "    </tr>\n",
       "    <tr>\n",
       "      <th>1702635</th>\n",
       "      <td>Consumer Loan</td>\n",
       "      <td>I purchase a XXXX on XXXX XXXX, 2019. I found ...</td>\n",
       "    </tr>\n",
       "    <tr>\n",
       "      <th>2856275</th>\n",
       "      <td>Consumer Loan</td>\n",
       "      <td>PLEASE REMOVE ANY ACCOUNT THAT IS LINKED TO MY...</td>\n",
       "    </tr>\n",
       "    <tr>\n",
       "      <th>1708854</th>\n",
       "      <td>Consumer Loan</td>\n",
       "      <td>On XX/XX/2020 at around XXXX I applied for a n...</td>\n",
       "    </tr>\n",
       "    <tr>\n",
       "      <th>1374644</th>\n",
       "      <td>Consumer Loan</td>\n",
       "      <td>I have contacted my bank - this last time was ...</td>\n",
       "    </tr>\n",
       "    <tr>\n",
       "      <th>2537622</th>\n",
       "      <td>Consumer Loan</td>\n",
       "      <td>My unemployment card was stolen. There were XX...</td>\n",
       "    </tr>\n",
       "    <tr>\n",
       "      <th>1509095</th>\n",
       "      <td>Consumer Loan</td>\n",
       "      <td>To whom it my concern, I would like to make a ...</td>\n",
       "    </tr>\n",
       "    <tr>\n",
       "      <th>...</th>\n",
       "      <td>...</td>\n",
       "      <td>...</td>\n",
       "    </tr>\n",
       "    <tr>\n",
       "      <th>721855</th>\n",
       "      <td>Consumer Loan</td>\n",
       "      <td>I got email from Discover on XX/XX/XXXX saying...</td>\n",
       "    </tr>\n",
       "    <tr>\n",
       "      <th>1460764</th>\n",
       "      <td>Consumer Loan</td>\n",
       "      <td>Hello, my name is XXXX XXXX my phone number is...</td>\n",
       "    </tr>\n",
       "    <tr>\n",
       "      <th>1716160</th>\n",
       "      <td>Consumer Loan</td>\n",
       "      <td>We sent the Loan pay off by wire transfer on X...</td>\n",
       "    </tr>\n",
       "    <tr>\n",
       "      <th>319201</th>\n",
       "      <td>Consumer Loan</td>\n",
       "      <td>I am really upset that Honda reported me as be...</td>\n",
       "    </tr>\n",
       "    <tr>\n",
       "      <th>1903867</th>\n",
       "      <td>Consumer Loan</td>\n",
       "      <td>In accordance with the Fair Credit Reporting a...</td>\n",
       "    </tr>\n",
       "    <tr>\n",
       "      <th>1704989</th>\n",
       "      <td>Consumer Loan</td>\n",
       "      <td>Citi bank closed my checking account around XX...</td>\n",
       "    </tr>\n",
       "    <tr>\n",
       "      <th>3158019</th>\n",
       "      <td>Consumer Loan</td>\n",
       "      <td>Vehicle was purchased from Regional Acceptance...</td>\n",
       "    </tr>\n",
       "    <tr>\n",
       "      <th>2935653</th>\n",
       "      <td>Consumer Loan</td>\n",
       "      <td>As reported on Case number : XXXX, PayPal open...</td>\n",
       "    </tr>\n",
       "    <tr>\n",
       "      <th>103213</th>\n",
       "      <td>Consumer Loan</td>\n",
       "      <td>In accordance with the fair credit reporting a...</td>\n",
       "    </tr>\n",
       "    <tr>\n",
       "      <th>3785626</th>\n",
       "      <td>Consumer Loan</td>\n",
       "      <td>We opened a new account with PNC Bank on XXXX ...</td>\n",
       "    </tr>\n",
       "    <tr>\n",
       "      <th>3709713</th>\n",
       "      <td>Consumer Loan</td>\n",
       "      <td>My name is XXXX, and I have had the telephone ...</td>\n",
       "    </tr>\n",
       "    <tr>\n",
       "      <th>1160220</th>\n",
       "      <td>Consumer Loan</td>\n",
       "      <td>I am a victim of fraud with my bank at Wells F...</td>\n",
       "    </tr>\n",
       "    <tr>\n",
       "      <th>337654</th>\n",
       "      <td>Consumer Loan</td>\n",
       "      <td>My car got repossessed On XX/XX/XXXX and I've ...</td>\n",
       "    </tr>\n",
       "    <tr>\n",
       "      <th>1366686</th>\n",
       "      <td>Consumer Loan</td>\n",
       "      <td>On XXXX XXXX, 2015 I was attempting to help a ...</td>\n",
       "    </tr>\n",
       "    <tr>\n",
       "      <th>3671943</th>\n",
       "      <td>Consumer Loan</td>\n",
       "      <td>I was looking for a place to live in XXXX, MA ...</td>\n",
       "    </tr>\n",
       "    <tr>\n",
       "      <th>248844</th>\n",
       "      <td>Consumer Loan</td>\n",
       "      <td>I received an email from Wells Fargo giving me...</td>\n",
       "    </tr>\n",
       "    <tr>\n",
       "      <th>262103</th>\n",
       "      <td>Consumer Loan</td>\n",
       "      <td>I was a co-signer on a loan with my daughter. ...</td>\n",
       "    </tr>\n",
       "    <tr>\n",
       "      <th>1848127</th>\n",
       "      <td>Consumer Loan</td>\n",
       "      <td>During my 3-year period as a XXXX, I had chose...</td>\n",
       "    </tr>\n",
       "    <tr>\n",
       "      <th>1416784</th>\n",
       "      <td>Consumer Loan</td>\n",
       "      <td>My name is XXXX. and I am an XXXX american ( X...</td>\n",
       "    </tr>\n",
       "    <tr>\n",
       "      <th>2858570</th>\n",
       "      <td>Consumer Loan</td>\n",
       "      <td>I received a loan for {$17000.00} (? ) to buy ...</td>\n",
       "    </tr>\n",
       "    <tr>\n",
       "      <th>1091874</th>\n",
       "      <td>Consumer Loan</td>\n",
       "      <td>I received an education award from XXXX onXX/X...</td>\n",
       "    </tr>\n",
       "    <tr>\n",
       "      <th>2875512</th>\n",
       "      <td>Consumer Loan</td>\n",
       "      <td>Today, XX/XX/2022, I received an alert in my m...</td>\n",
       "    </tr>\n",
       "    <tr>\n",
       "      <th>1868439</th>\n",
       "      <td>Consumer Loan</td>\n",
       "      <td>As described in Wells Fargo ( WF ) web site, a...</td>\n",
       "    </tr>\n",
       "    <tr>\n",
       "      <th>846709</th>\n",
       "      <td>Consumer Loan</td>\n",
       "      <td>As of XX/XX/XXXX I noticed on my credit report...</td>\n",
       "    </tr>\n",
       "    <tr>\n",
       "      <th>1490274</th>\n",
       "      <td>Consumer Loan</td>\n",
       "      <td>I ca n't transfer money out of my discover ban...</td>\n",
       "    </tr>\n",
       "    <tr>\n",
       "      <th>890524</th>\n",
       "      <td>Consumer Loan</td>\n",
       "      <td>I submitted required documents multiple times ...</td>\n",
       "    </tr>\n",
       "    <tr>\n",
       "      <th>3922346</th>\n",
       "      <td>Consumer Loan</td>\n",
       "      <td>This is very horrible and bad experience day I...</td>\n",
       "    </tr>\n",
       "    <tr>\n",
       "      <th>1994429</th>\n",
       "      <td>Consumer Loan</td>\n",
       "      <td>I have raised a dispute on this account and at...</td>\n",
       "    </tr>\n",
       "    <tr>\n",
       "      <th>404863</th>\n",
       "      <td>Consumer Loan</td>\n",
       "      <td>Please know this is in regards to a closed/pai...</td>\n",
       "    </tr>\n",
       "    <tr>\n",
       "      <th>1737046</th>\n",
       "      <td>Consumer Loan</td>\n",
       "      <td>BOA charge me the XXXX maintenance fee {$12.00}</td>\n",
       "    </tr>\n",
       "  </tbody>\n",
       "</table>\n",
       "<p>82 rows × 2 columns</p>\n",
       "</div>"
      ],
      "text/plain": [
       "               Product                                 Consumer_complaint\n",
       "2375315  Consumer Loan  Original complaint XXXX was filed on XX/XX/XXX...\n",
       "3599051  Consumer Loan  I set up a one time online payment to pay off ...\n",
       "1850358  Consumer Loan  I believe Wellsfargo is in collusion with othe...\n",
       "1900246  Consumer Loan  A JPMORGAN CHASE XXXX account was opened in my...\n",
       "870960   Consumer Loan  To Whom it may concern : This letter is concer...\n",
       "1329675  Consumer Loan  In XX/XX/ 2023, a Bank of America ADV SAFEBALA...\n",
       "941165   Consumer Loan  I leased my vehicle through Ally Bank. I setup...\n",
       "1506534  Consumer Loan  Synchrony XXXX has been charging me a \" late f...\n",
       "1708874  Consumer Loan  I was contacted by GM Financial on XX/XX/19 in...\n",
       "3916347  Consumer Loan  I WANT ALL THREE REPORTS TO SHOW A XXXX BALANC...\n",
       "1130682  Consumer Loan  Cashapp has not refunded me nor has not been w...\n",
       "3612344  Consumer Loan  CARMAX AUTO FINANCE ACCOUNT XXXX AMT OWING {$2...\n",
       "1975124  Consumer Loan  I have two issues. Issue # 1 is that their ema...\n",
       "1804026  Consumer Loan  XX/XX/XXXX CFPB Investigative Unit RE XXXX XXX...\n",
       "2202013  Consumer Loan  XX/XX/2021 I did a XXXX transfer of {$350.00} ...\n",
       "2327243  Consumer Loan  I am experiencing a Hardship financially due t...\n",
       "2365671  Consumer Loan  I was charged a late fee when my due date is t...\n",
       "2659887  Consumer Loan  XXXX XXXX advertises as a highly rated auto lo...\n",
       "759436   Consumer Loan  On or about XX/XX/2020, I purchased an item fr...\n",
       "1372595  Consumer Loan  I went to XXXX XXXX XXXX XXXX XXXX XXXX, XXXX,...\n",
       "3549479  Consumer Loan  Bbva has for the second time erroneously charg...\n",
       "403770   Consumer Loan  In XX/XX/2018 I had a third party company that...\n",
       "1892473  Consumer Loan  On XX/XX/2019 I was scammed by a merchant who ...\n",
       "3061442  Consumer Loan  Usaa try to close my account and do n't want t...\n",
       "1702635  Consumer Loan  I purchase a XXXX on XXXX XXXX, 2019. I found ...\n",
       "2856275  Consumer Loan  PLEASE REMOVE ANY ACCOUNT THAT IS LINKED TO MY...\n",
       "1708854  Consumer Loan  On XX/XX/2020 at around XXXX I applied for a n...\n",
       "1374644  Consumer Loan  I have contacted my bank - this last time was ...\n",
       "2537622  Consumer Loan  My unemployment card was stolen. There were XX...\n",
       "1509095  Consumer Loan  To whom it my concern, I would like to make a ...\n",
       "...                ...                                                ...\n",
       "721855   Consumer Loan  I got email from Discover on XX/XX/XXXX saying...\n",
       "1460764  Consumer Loan  Hello, my name is XXXX XXXX my phone number is...\n",
       "1716160  Consumer Loan  We sent the Loan pay off by wire transfer on X...\n",
       "319201   Consumer Loan  I am really upset that Honda reported me as be...\n",
       "1903867  Consumer Loan  In accordance with the Fair Credit Reporting a...\n",
       "1704989  Consumer Loan  Citi bank closed my checking account around XX...\n",
       "3158019  Consumer Loan  Vehicle was purchased from Regional Acceptance...\n",
       "2935653  Consumer Loan  As reported on Case number : XXXX, PayPal open...\n",
       "103213   Consumer Loan  In accordance with the fair credit reporting a...\n",
       "3785626  Consumer Loan  We opened a new account with PNC Bank on XXXX ...\n",
       "3709713  Consumer Loan  My name is XXXX, and I have had the telephone ...\n",
       "1160220  Consumer Loan  I am a victim of fraud with my bank at Wells F...\n",
       "337654   Consumer Loan  My car got repossessed On XX/XX/XXXX and I've ...\n",
       "1366686  Consumer Loan  On XXXX XXXX, 2015 I was attempting to help a ...\n",
       "3671943  Consumer Loan  I was looking for a place to live in XXXX, MA ...\n",
       "248844   Consumer Loan  I received an email from Wells Fargo giving me...\n",
       "262103   Consumer Loan  I was a co-signer on a loan with my daughter. ...\n",
       "1848127  Consumer Loan  During my 3-year period as a XXXX, I had chose...\n",
       "1416784  Consumer Loan  My name is XXXX. and I am an XXXX american ( X...\n",
       "2858570  Consumer Loan  I received a loan for {$17000.00} (? ) to buy ...\n",
       "1091874  Consumer Loan  I received an education award from XXXX onXX/X...\n",
       "2875512  Consumer Loan  Today, XX/XX/2022, I received an alert in my m...\n",
       "1868439  Consumer Loan  As described in Wells Fargo ( WF ) web site, a...\n",
       "846709   Consumer Loan  As of XX/XX/XXXX I noticed on my credit report...\n",
       "1490274  Consumer Loan  I ca n't transfer money out of my discover ban...\n",
       "890524   Consumer Loan  I submitted required documents multiple times ...\n",
       "3922346  Consumer Loan  This is very horrible and bad experience day I...\n",
       "1994429  Consumer Loan  I have raised a dispute on this account and at...\n",
       "404863   Consumer Loan  Please know this is in regards to a closed/pai...\n",
       "1737046  Consumer Loan    BOA charge me the XXXX maintenance fee {$12.00}\n",
       "\n",
       "[82 rows x 2 columns]"
      ]
     },
     "metadata": {},
     "output_type": "display_data"
    },
    {
     "name": "stdout",
     "output_type": "stream",
     "text": [
      "\n"
     ]
    }
   ],
   "source": [
    "for actual in category_id_df.category_id.unique():\n",
    "    for predicted in category_id_df.category_id.unique():\n",
    "        if predicted != actual and actual < conf_mat.shape[0] and predicted < conf_mat.shape[1] and conf_mat[actual, predicted] >= 20:\n",
    "            print(\"'{}' predicted as '{}' : {} examples.\".format(id_to_category[actual], \n",
    "                                                               id_to_category[predicted], \n",
    "                                                               conf_mat[actual, predicted]))\n",
    "            display(df2.loc[indices_test[(y_test == actual) & (y_pred == predicted)]][['Product', \n",
    "                                                                'Consumer_complaint']])\n",
    "            print('')\n"
   ]
  },
  {
   "cell_type": "markdown",
   "metadata": {},
   "source": [
    "#### Most correlated terms with each category : "
   ]
  },
  {
   "cell_type": "code",
   "execution_count": 31,
   "metadata": {
    "execution": {
     "iopub.execute_input": "2023-09-24T12:14:26.575478Z",
     "iopub.status.busy": "2023-09-24T12:14:26.574630Z",
     "iopub.status.idle": "2023-09-24T12:14:28.979578Z",
     "shell.execute_reply": "2023-09-24T12:14:28.978349Z",
     "shell.execute_reply.started": "2023-09-24T12:14:26.575411Z"
    }
   },
   "outputs": [
    {
     "name": "stdout",
     "output_type": "stream",
     "text": [
      "\n",
      "==> 'Consumer Loan':\n",
      "  * Top unigrams: navient, bank, vehicle, nelnet\n",
      "  * Top bigrams: debit card, savings account, gm financial, money taken\n",
      "\n",
      "==> 'Credit reporting or other personal consumer reports':\n",
      "  * Top unigrams: avenues, urgency, 720, 3700\n",
      "  * Top bigrams: 00 victim, report currently, 720 00, opened used\n",
      "\n",
      "==> 'Credit reporting, repair, or other':\n",
      "  * Top unigrams: experian, equifax, card, reporting\n",
      "  * Top bigrams: american express, agency xxxx, payments time, credit limit\n",
      "\n",
      "==> 'Debt collection':\n",
      "  * Top unigrams: debt, collection, recovery, group\n",
      "  * Top bigrams: trying collect, help remove, xxxx service, credit control\n",
      "\n",
      "==> 'Mortgage':\n",
      "  * Top unigrams: mortgage, escrow, foreclosure, property\n",
      "  * Top bigrams: quicken loans, mortgage payments, mortgage payment, property tax\n"
     ]
    }
   ],
   "source": [
    "model.fit(features, labels)\n",
    "\n",
    "N = 4\n",
    "for Product, category_id in sorted(category_to_id.items()):\n",
    "  indices = np.argsort(model.coef_[category_id])\n",
    "  feature_names = np.array(tfidf.get_feature_names())[indices]\n",
    "  unigrams = [v for v in reversed(feature_names) if len(v.split(' ')) == 1][:N]\n",
    "  bigrams = [v for v in reversed(feature_names) if len(v.split(' ')) == 2][:N]\n",
    "  print(\"\\n==> '{}':\".format(Product))\n",
    "  print(\"  * Top unigrams: %s\" %(', '.join(unigrams)))\n",
    "  print(\"  * Top bigrams: %s\" %(', '.join(bigrams)))"
   ]
  },
  {
   "cell_type": "markdown",
   "metadata": {},
   "source": [
    "<a id='pred'></a>\n",
    "# Predictions :\n",
    "\n",
    "Now let's make a few predictions on unseen data.<br>"
   ]
  },
  {
   "cell_type": "code",
   "execution_count": 32,
   "metadata": {
    "execution": {
     "iopub.execute_input": "2023-09-24T12:14:39.206618Z",
     "iopub.status.busy": "2023-09-24T12:14:39.206111Z",
     "iopub.status.idle": "2023-09-24T12:14:47.805555Z",
     "shell.execute_reply": "2023-09-24T12:14:47.804593Z",
     "shell.execute_reply.started": "2023-09-24T12:14:39.206496Z"
    }
   },
   "outputs": [],
   "source": [
    "X_train, X_test, y_train, y_test = train_test_split(X, y, \n",
    "                                                    test_size=0.25,\n",
    "                                                    random_state = 0)\n",
    "\n",
    "tfidf = TfidfVectorizer(sublinear_tf=True, min_df=5,\n",
    "                        ngram_range=(1, 2), \n",
    "                        stop_words='english')\n",
    "\n",
    "fitted_vectorizer = tfidf.fit(X_train)\n",
    "tfidf_vectorizer_vectors = fitted_vectorizer.transform(X_train)\n",
    "\n",
    "model = LinearSVC().fit(tfidf_vectorizer_vectors, y_train)"
   ]
  },
  {
   "cell_type": "markdown",
   "metadata": {},
   "source": [
    "Let's see what is the classification that our model gives to this new complaint."
   ]
  },
  {
   "cell_type": "code",
   "execution_count": 33,
   "metadata": {
    "execution": {
     "iopub.execute_input": "2023-09-24T12:14:55.949611Z",
     "iopub.status.busy": "2023-09-24T12:14:55.949219Z",
     "iopub.status.idle": "2023-09-24T12:14:55.959111Z",
     "shell.execute_reply": "2023-09-24T12:14:55.957739Z",
     "shell.execute_reply.started": "2023-09-24T12:14:55.949564Z"
    }
   },
   "outputs": [
    {
     "name": "stdout",
     "output_type": "stream",
     "text": [
      "['Consumer Loan']\n"
     ]
    }
   ],
   "source": [
    "new_complaint = \"\"\"I have been enrolled back at XXXX XXXX University in the XX/XX/XXXX. Recently, i have been harassed by \\\n",
    "Navient for the last month. I have faxed in paperwork providing them with everything they needed. And yet I am still getting \\\n",
    "phone calls for payments. Furthermore, Navient is now reporting to the credit bureaus that I am late. At this point, \\\n",
    "Navient needs to get their act together to avoid me taking further action. I have been enrolled the entire time and my \\\n",
    "deferment should be valid with my planned graduation date being the XX/XX/XXXX.\"\"\"\n",
    "print(model.predict(fitted_vectorizer.transform([new_complaint])))"
   ]
  },
  {
   "cell_type": "markdown",
   "metadata": {},
   "source": [
    "The algorithm has classified this text as a \"Consumer loan\" complaint. The complaint is regarding Consumer Loans and it has predicted it correctly."
   ]
  },
  {
   "cell_type": "code",
   "execution_count": 34,
   "metadata": {
    "execution": {
     "iopub.execute_input": "2023-09-24T12:14:59.801228Z",
     "iopub.status.busy": "2023-09-24T12:14:59.800782Z",
     "iopub.status.idle": "2023-09-24T12:14:59.808867Z",
     "shell.execute_reply": "2023-09-24T12:14:59.808079Z",
     "shell.execute_reply.started": "2023-09-24T12:14:59.801149Z"
    }
   },
   "outputs": [
    {
     "name": "stdout",
     "output_type": "stream",
     "text": [
      "['Debt collection']\n"
     ]
    }
   ],
   "source": [
    "new_complaint_2 = \"\"\"I have been getting robo calls from a debt collection agency called \" Alliance 1 \\'\\' for over XXXX months. \n",
    "The calls average XXXX times per week. They are attempting to collect a debt for someone whose name sounds \n",
    "like \" XXXX XXXX \\'\\'. I am sick and tired of their harrassement and want the calls to stop. \\n\"\"\"\n",
    "print(model.predict(fitted_vectorizer.transform([new_complaint_2])))"
   ]
  },
  {
   "cell_type": "markdown",
   "metadata": {},
   "source": [
    "Again, the algorithm correctly classified the caomplaint as __\"Debt collection\"__. \n",
    "Although our model is not going to be all the time correct when classifying new complaints, it does a good job."
   ]
  },
  {
   "cell_type": "code",
   "execution_count": 38,
   "metadata": {
    "execution": {
     "iopub.execute_input": "2023-09-24T12:17:11.420180Z",
     "iopub.status.busy": "2023-09-24T12:17:11.419729Z",
     "iopub.status.idle": "2023-09-24T12:17:11.428189Z",
     "shell.execute_reply": "2023-09-24T12:17:11.427150Z",
     "shell.execute_reply.started": "2023-09-24T12:17:11.420124Z"
    }
   },
   "outputs": [],
   "source": [
    "df3=df2.copy()"
   ]
  },
  {
   "cell_type": "code",
   "execution_count": 39,
   "metadata": {
    "execution": {
     "iopub.execute_input": "2023-09-24T12:17:27.622963Z",
     "iopub.status.busy": "2023-09-24T12:17:27.622557Z",
     "iopub.status.idle": "2023-09-24T12:17:27.641079Z",
     "shell.execute_reply": "2023-09-24T12:17:27.639813Z",
     "shell.execute_reply.started": "2023-09-24T12:17:27.622915Z"
    }
   },
   "outputs": [
    {
     "data": {
      "text/html": [
       "<div>\n",
       "<style scoped>\n",
       "    .dataframe tbody tr th:only-of-type {\n",
       "        vertical-align: middle;\n",
       "    }\n",
       "\n",
       "    .dataframe tbody tr th {\n",
       "        vertical-align: top;\n",
       "    }\n",
       "\n",
       "    .dataframe thead th {\n",
       "        text-align: right;\n",
       "    }\n",
       "</style>\n",
       "<table border=\"1\" class=\"dataframe\">\n",
       "  <thead>\n",
       "    <tr style=\"text-align: right;\">\n",
       "      <th></th>\n",
       "      <th>0</th>\n",
       "    </tr>\n",
       "  </thead>\n",
       "  <tbody>\n",
       "    <tr>\n",
       "      <th>0</th>\n",
       "      <td>Mortgage</td>\n",
       "    </tr>\n",
       "    <tr>\n",
       "      <th>1</th>\n",
       "      <td>Credit reporting, repair, or other</td>\n",
       "    </tr>\n",
       "    <tr>\n",
       "      <th>2</th>\n",
       "      <td>Debt collection</td>\n",
       "    </tr>\n",
       "    <tr>\n",
       "      <th>3</th>\n",
       "      <td>Consumer Loan</td>\n",
       "    </tr>\n",
       "    <tr>\n",
       "      <th>4</th>\n",
       "      <td>Credit reporting or other personal consumer re...</td>\n",
       "    </tr>\n",
       "  </tbody>\n",
       "</table>\n",
       "</div>"
      ],
      "text/plain": [
       "                                                   0\n",
       "0                                           Mortgage\n",
       "1                 Credit reporting, repair, or other\n",
       "2                                    Debt collection\n",
       "3                                      Consumer Loan\n",
       "4  Credit reporting or other personal consumer re..."
      ]
     },
     "execution_count": 39,
     "metadata": {},
     "output_type": "execute_result"
    }
   ],
   "source": [
    "pd.DataFrame(df2.Product.unique())"
   ]
  },
  {
   "cell_type": "code",
   "execution_count": 40,
   "metadata": {
    "execution": {
     "iopub.execute_input": "2023-09-24T12:17:33.280044Z",
     "iopub.status.busy": "2023-09-24T12:17:33.279641Z",
     "iopub.status.idle": "2023-09-24T12:17:33.302319Z",
     "shell.execute_reply": "2023-09-24T12:17:33.301135Z",
     "shell.execute_reply.started": "2023-09-24T12:17:33.279991Z"
    }
   },
   "outputs": [
    {
     "data": {
      "text/html": [
       "<div>\n",
       "<style scoped>\n",
       "    .dataframe tbody tr th:only-of-type {\n",
       "        vertical-align: middle;\n",
       "    }\n",
       "\n",
       "    .dataframe tbody tr th {\n",
       "        vertical-align: top;\n",
       "    }\n",
       "\n",
       "    .dataframe thead th {\n",
       "        text-align: right;\n",
       "    }\n",
       "</style>\n",
       "<table border=\"1\" class=\"dataframe\">\n",
       "  <thead>\n",
       "    <tr style=\"text-align: right;\">\n",
       "      <th></th>\n",
       "      <th>Product</th>\n",
       "      <th>Consumer_complaint</th>\n",
       "      <th>category_id</th>\n",
       "    </tr>\n",
       "  </thead>\n",
       "  <tbody>\n",
       "    <tr>\n",
       "      <th>1511706</th>\n",
       "      <td>Mortgage</td>\n",
       "      <td>Paying extremely high PMI for 11 years on my m...</td>\n",
       "      <td>0</td>\n",
       "    </tr>\n",
       "    <tr>\n",
       "      <th>1191532</th>\n",
       "      <td>Credit reporting, repair, or other</td>\n",
       "      <td>I am requesting again in regards to the inaccu...</td>\n",
       "      <td>1</td>\n",
       "    </tr>\n",
       "    <tr>\n",
       "      <th>1191375</th>\n",
       "      <td>Debt collection</td>\n",
       "      <td>Offices of XXXX and XXXX XXXX XXXX XXXX ( no s...</td>\n",
       "      <td>2</td>\n",
       "    </tr>\n",
       "    <tr>\n",
       "      <th>2535195</th>\n",
       "      <td>Credit reporting, repair, or other</td>\n",
       "      <td>I submitted a letter to the 3 Credit Bureaus t...</td>\n",
       "      <td>1</td>\n",
       "    </tr>\n",
       "    <tr>\n",
       "      <th>2583742</th>\n",
       "      <td>Consumer Loan</td>\n",
       "      <td>This is Cashap stealing {$230.00} from my acco...</td>\n",
       "      <td>3</td>\n",
       "    </tr>\n",
       "  </tbody>\n",
       "</table>\n",
       "</div>"
      ],
      "text/plain": [
       "                                    Product     ...     category_id\n",
       "1511706                            Mortgage     ...               0\n",
       "1191532  Credit reporting, repair, or other     ...               1\n",
       "1191375                     Debt collection     ...               2\n",
       "2535195  Credit reporting, repair, or other     ...               1\n",
       "2583742                       Consumer Loan     ...               3\n",
       "\n",
       "[5 rows x 3 columns]"
      ]
     },
     "execution_count": 40,
     "metadata": {},
     "output_type": "execute_result"
    }
   ],
   "source": [
    "df3.head()"
   ]
  },
  {
   "cell_type": "code",
   "execution_count": 41,
   "metadata": {
    "execution": {
     "iopub.execute_input": "2023-09-24T12:17:36.047012Z",
     "iopub.status.busy": "2023-09-24T12:17:36.046584Z",
     "iopub.status.idle": "2023-09-24T12:17:39.873345Z",
     "shell.execute_reply": "2023-09-24T12:17:39.872445Z",
     "shell.execute_reply.started": "2023-09-24T12:17:36.046930Z"
    }
   },
   "outputs": [
    {
     "data": {
      "text/plain": [
       "(10000,)"
      ]
     },
     "execution_count": 41,
     "metadata": {},
     "output_type": "execute_result"
    }
   ],
   "source": [
    "Predictions = model.predict(fitted_vectorizer.transform(df3['Consumer_complaint']))\n",
    "Predictions.shape"
   ]
  },
  {
   "cell_type": "markdown",
   "metadata": {},
   "source": [
    "Shape of the Predictions is same as the test date i.e no of rows."
   ]
  },
  {
   "cell_type": "code",
   "execution_count": 42,
   "metadata": {
    "execution": {
     "iopub.execute_input": "2023-09-24T12:17:42.607899Z",
     "iopub.status.busy": "2023-09-24T12:17:42.607478Z",
     "iopub.status.idle": "2023-09-24T12:17:42.916982Z",
     "shell.execute_reply": "2023-09-24T12:17:42.915691Z",
     "shell.execute_reply.started": "2023-09-24T12:17:42.607843Z"
    }
   },
   "outputs": [],
   "source": [
    "Predictions_df = pd.DataFrame(Predictions,columns=['Predictions']).reset_index()\n",
    "Predictions_df.to_csv('predictions.csv',index=False)"
   ]
  },
  {
   "cell_type": "markdown",
   "metadata": {},
   "source": [
    "Transferring the Predictions to predictions.csv."
   ]
  },
  {
   "cell_type": "code",
   "execution_count": 43,
   "metadata": {
    "execution": {
     "iopub.execute_input": "2023-09-24T12:17:47.300350Z",
     "iopub.status.busy": "2023-09-24T12:17:47.299971Z",
     "iopub.status.idle": "2023-09-24T12:17:47.627366Z",
     "shell.execute_reply": "2023-09-24T12:17:47.626212Z",
     "shell.execute_reply.started": "2023-09-24T12:17:47.300298Z"
    }
   },
   "outputs": [
    {
     "name": "stdout",
     "output_type": "stream",
     "text": [
      "\t\t\t\tCLASSIFICATIION METRICS\n",
      "\n",
      "                                                     precision    recall  f1-score   support\n",
      "\n",
      "                                           Mortgage       0.93      0.92      0.93      1068\n",
      "                 Credit reporting, repair, or other       1.00      1.00      1.00         1\n",
      "                                    Debt collection       0.97      0.98      0.97      6598\n",
      "                                      Consumer Loan       0.94      0.89      0.92      1615\n",
      "Credit reporting or other personal consumer reports       0.97      0.96      0.96       718\n",
      "\n",
      "                                          micro avg       0.96      0.96      0.96     10000\n",
      "                                          macro avg       0.96      0.95      0.96     10000\n",
      "                                       weighted avg       0.96      0.96      0.96     10000\n",
      "\n"
     ]
    }
   ],
   "source": [
    "print('\\t\\t\\t\\tCLASSIFICATIION METRICS\\n')\n",
    "print(metrics.classification_report(df3['Product'], Predictions, \n",
    "                                    target_names= df3['Product'].unique()))"
   ]
  },
  {
   "cell_type": "markdown",
   "metadata": {},
   "source": [
    "The model is predicting most of categories correctly with an accuracy of around 0.80."
   ]
  },
  {
   "cell_type": "code",
   "execution_count": 44,
   "metadata": {
    "execution": {
     "iopub.execute_input": "2023-09-24T12:17:53.588288Z",
     "iopub.status.busy": "2023-09-24T12:17:53.587853Z",
     "iopub.status.idle": "2023-09-24T12:17:54.476980Z",
     "shell.execute_reply": "2023-09-24T12:17:54.475754Z",
     "shell.execute_reply.started": "2023-09-24T12:17:53.588233Z"
    }
   },
   "outputs": [
    {
     "data": {
      "image/png": "[encoded data removed]",
      "text/plain": [
       "<Figure size 576x576 with 2 Axes>"
      ]
     },
     "metadata": {},
     "output_type": "display_data"
    }
   ],
   "source": [
    "conf_mat = confusion_matrix(df3['Product'], Predictions)\n",
    "fig, ax = plt.subplots(figsize=(8,8))\n",
    "sns.heatmap(conf_mat, annot=True, cmap=\"Blues\", fmt='d',\n",
    "            xticklabels=category_id_df.Product.values, \n",
    "            yticklabels=category_id_df.Product.values)\n",
    "plt.ylabel('Actual')\n",
    "plt.xlabel('Predicted')\n",
    "plt.title(\"CONFUSION MATRIX - LinearSVC\\n\", size=16);"
   ]
  },
  {
   "cell_type": "code",
   "execution_count": 45,
   "metadata": {
    "execution": {
     "iopub.execute_input": "2023-09-24T12:17:57.520589Z",
     "iopub.status.busy": "2023-09-24T12:17:57.520140Z",
     "iopub.status.idle": "2023-09-24T12:17:57.528415Z",
     "shell.execute_reply": "2023-09-24T12:17:57.527202Z",
     "shell.execute_reply.started": "2023-09-24T12:17:57.520510Z"
    }
   },
   "outputs": [
    {
     "data": {
      "text/plain": [
       "'Paying extremely high PMI for 11 years on my mortgage loan. I questioned the amount and have not been provided with any response as of XXXX/XXXX/XXXX. Also, Escrow amount seems excessive since XX/XX/XXXX and I am unable to reconcile what the increase is attributed to at this time.'"
      ]
     },
     "execution_count": 45,
     "metadata": {},
     "output_type": "execute_result"
    }
   ],
   "source": [
    "df3['Consumer_complaint'].iloc[0]"
   ]
  },
  {
   "cell_type": "code",
   "execution_count": 46,
   "metadata": {
    "execution": {
     "iopub.execute_input": "2023-09-24T12:18:00.440088Z",
     "iopub.status.busy": "2023-09-24T12:18:00.439622Z",
     "iopub.status.idle": "2023-09-24T12:18:00.468753Z",
     "shell.execute_reply": "2023-09-24T12:18:00.467741Z",
     "shell.execute_reply.started": "2023-09-24T12:18:00.440009Z"
    }
   },
   "outputs": [
    {
     "data": {
      "text/html": [
       "<div>\n",
       "<style scoped>\n",
       "    .dataframe tbody tr th:only-of-type {\n",
       "        vertical-align: middle;\n",
       "    }\n",
       "\n",
       "    .dataframe tbody tr th {\n",
       "        vertical-align: top;\n",
       "    }\n",
       "\n",
       "    .dataframe thead th {\n",
       "        text-align: right;\n",
       "    }\n",
       "</style>\n",
       "<table border=\"1\" class=\"dataframe\">\n",
       "  <thead>\n",
       "    <tr style=\"text-align: right;\">\n",
       "      <th></th>\n",
       "      <th>Product</th>\n",
       "      <th>Consumer_complaint</th>\n",
       "      <th>category_id</th>\n",
       "    </tr>\n",
       "  </thead>\n",
       "  <tbody>\n",
       "    <tr>\n",
       "      <th>1511706</th>\n",
       "      <td>Mortgage</td>\n",
       "      <td>Paying extremely high PMI for 11 years on my m...</td>\n",
       "      <td>0</td>\n",
       "    </tr>\n",
       "  </tbody>\n",
       "</table>\n",
       "</div>"
      ],
      "text/plain": [
       "          Product     ...     category_id\n",
       "1511706  Mortgage     ...               0\n",
       "\n",
       "[1 rows x 3 columns]"
      ]
     },
     "execution_count": 46,
     "metadata": {},
     "output_type": "execute_result"
    }
   ],
   "source": [
    "df3[df3['Consumer_complaint'] == df3['Consumer_complaint'].iloc[0]]"
   ]
  },
  {
   "cell_type": "code",
   "execution_count": 47,
   "metadata": {
    "execution": {
     "iopub.execute_input": "2023-09-24T12:18:03.745849Z",
     "iopub.status.busy": "2023-09-24T12:18:03.745442Z",
     "iopub.status.idle": "2023-09-24T12:18:03.751494Z",
     "shell.execute_reply": "2023-09-24T12:18:03.750177Z",
     "shell.execute_reply.started": "2023-09-24T12:18:03.745801Z"
    }
   },
   "outputs": [],
   "source": [
    "complaint1 = \"\"\"I WANT TO REQUEST A CREDIT LINE INCREASE OF XXXX I FELL I HAVE THE RIGHT CREDIT LINE DO TO MY INCOME AND THE LADY FROM CAPITAL ONE SAID IT IS BASED OFF INCOME \n",
    "AND ALSO DUE TO THE FACT THEY HAVE NOT MAILED MY CREDIT CARD TO ME YET AFTER I CALLED AND TOLD THEM TO. \\n\"\"\""
   ]
  },
  {
   "cell_type": "code",
   "execution_count": 48,
   "metadata": {
    "execution": {
     "iopub.execute_input": "2023-09-24T12:18:07.524837Z",
     "iopub.status.busy": "2023-09-24T12:18:07.523893Z",
     "iopub.status.idle": "2023-09-24T12:18:07.533123Z",
     "shell.execute_reply": "2023-09-24T12:18:07.532183Z",
     "shell.execute_reply.started": "2023-09-24T12:18:07.524765Z"
    }
   },
   "outputs": [
    {
     "name": "stdout",
     "output_type": "stream",
     "text": [
      "['Credit reporting, repair, or other']\n"
     ]
    }
   ],
   "source": [
    "print(model.predict(fitted_vectorizer.transform([complaint1])))"
   ]
  },
  {
   "cell_type": "markdown",
   "metadata": {},
   "source": [
    "It has predicted the first complaint correctly."
   ]
  },
  {
   "cell_type": "code",
   "execution_count": 49,
   "metadata": {
    "execution": {
     "iopub.execute_input": "2023-09-24T12:18:10.564121Z",
     "iopub.status.busy": "2023-09-24T12:18:10.563326Z",
     "iopub.status.idle": "2023-09-24T12:18:10.593841Z",
     "shell.execute_reply": "2023-09-24T12:18:10.592713Z",
     "shell.execute_reply.started": "2023-09-24T12:18:10.564030Z"
    }
   },
   "outputs": [
    {
     "data": {
      "text/html": [
       "<div>\n",
       "<style scoped>\n",
       "    .dataframe tbody tr th:only-of-type {\n",
       "        vertical-align: middle;\n",
       "    }\n",
       "\n",
       "    .dataframe tbody tr th {\n",
       "        vertical-align: top;\n",
       "    }\n",
       "\n",
       "    .dataframe thead th {\n",
       "        text-align: right;\n",
       "    }\n",
       "</style>\n",
       "<table border=\"1\" class=\"dataframe\">\n",
       "  <thead>\n",
       "    <tr style=\"text-align: right;\">\n",
       "      <th></th>\n",
       "      <th>Product</th>\n",
       "      <th>Consumer_complaint</th>\n",
       "      <th>category_id</th>\n",
       "    </tr>\n",
       "  </thead>\n",
       "  <tbody>\n",
       "    <tr>\n",
       "      <th>3922346</th>\n",
       "      <td>Consumer Loan</td>\n",
       "      <td>This is very horrible and bad experience day I...</td>\n",
       "      <td>3</td>\n",
       "    </tr>\n",
       "  </tbody>\n",
       "</table>\n",
       "</div>"
      ],
      "text/plain": [
       "               Product     ...     category_id\n",
       "3922346  Consumer Loan     ...               3\n",
       "\n",
       "[1 rows x 3 columns]"
      ]
     },
     "execution_count": 49,
     "metadata": {},
     "output_type": "execute_result"
    }
   ],
   "source": [
    "df3[df3['Consumer_complaint'] == df3['Consumer_complaint'].iloc[16]]"
   ]
  },
  {
   "cell_type": "code",
   "execution_count": 50,
   "metadata": {
    "execution": {
     "iopub.execute_input": "2023-09-24T12:18:13.425056Z",
     "iopub.status.busy": "2023-09-24T12:18:13.424576Z",
     "iopub.status.idle": "2023-09-24T12:18:13.432698Z",
     "shell.execute_reply": "2023-09-24T12:18:13.431866Z",
     "shell.execute_reply.started": "2023-09-24T12:18:13.424976Z"
    }
   },
   "outputs": [
    {
     "data": {
      "text/plain": [
       "'This is very horrible and bad experience day I never have before. I was checking my online banking someone access on my account to do wire transferred. Normally I checked my online banking twice or three time in a day to see any transaction isnt normally. So thats why I catches them immediately. \\n\\nOn XX/XX/2022 around XXXX. The scammer is access on my bank account to wire transfer with {$50000.00}, around XXXX the scammer took second action wire transfer with {$30000.00}. The third transferred is around {$75000.00}. And I was going to my local Citibank immediately around XXXX. And let the local bank manager knows who name XXXX XXXX XXXX and let her knows someone access on my bank account and wire transfer without my any acknowledge. The Citibank assistant branch manager is working so hard and check my account, and tried to recall the funds. But the first and second funds has been sent to scammers bank which is XXXX XXXX XXXXXXXX and XXXX XXXX. And third one had been catch back. We did file the case to fraudulent department associate on citibank said they will be contacting their bank to recall the money. It is under investigation. During the time, me and XXXX XXXX XXXX opened an new account at the same time. And also she is showed me the scammer is using different email address that I am not familiar. She is deleted immediately and changed back to my old email address. After we completed open an new account. We are trying to transferred the {$75000.00} from the old account to new account. XXXX saw her computer and checked the scammer is trying to do another wire transfer around XXXX. She is acting immediately to call the main office to recall those money, and transfer to my new account immediately. I was very unhappiness someone is tried to clean up my bank accounts funds. The Citibank is under investigation and provided me two different case number one is $ XXXX case number : XXXX XXXX {$50000.00} case number : XXXX XXXX XXXX The Citibank has been compound two case number with one case number of XXXX. Total amount of {$80000.00}. \\n\\nContact number of Citibank ( XXXX ) XXXX ( Option 8 ). Fraudulent department of Citibank. \\n\\nAfterward I am feeling depressed went back to home and call the local police and explained to them the situation for today. \\n\\nThe police gave me a case number XXXX : email address : XXXX On next day XXXX XXXX. When I was doing on gym aXXXX XXXX at XXXXXXXX. Someone access my information to open a credit card on XXXX XXXX. Lucky me that my mobile phone had been set up XXXX XXXX  and XXXX and alarmed me someone applied credit card around XXXX. And I called the police again and filed police report immediately. The police put it at the same police report with addition addendum on the case. Next day on XX/XX/2022. I stopped by on XXXX XXXX and showed them. There is someone using my information opened a credit card on your bank. They did research and found out it is on processing. And they are going to cancel the application immediately. I called my credit companies : XXXX and XXXX  to frozen my credit. And I stopped to my phone to changed the updated phone number and email address. \\n\\nXXXX XXXX XXXX XXXX number : ( XXXX ) XXXX Email Address : XXXX Address : XXXX XXXX XXXX. XXXX XXXX, CA XXXX The scammer company is called XXXX XXXX XXXX. \\n\\n\\nBesides, I also reported to XXXX news. If you need their help for my case. \\n\\n\\nReported Local police officer ; XXXX XXXX ; Federal Trade Commission XXXX FTC ). There is reported number on attachment. \\n\\nP.S. \\n\\nWe have reported XXXX XXXX channel and XXXX news. There have XXXX victims of wire transfer with unauthorized. We are looking for attorney who is takeover the case with contingency contract. Please let me know you want to takeover the case. The case is going to help your law-firm reputation. You might need to show up with media to present all of us to file lawsuit against to Citibank. \\n\\nXXXX XXXX : Email address : XXXX KTSF XXXX : Email address : XXXX Email address : XXXX My update mobile number is ( XXXX ) XXXX My update email address is XXXX If you have question. Go ahead and feel free to contact me Sincerely XXXX XXXX XXXX'"
      ]
     },
     "execution_count": 50,
     "metadata": {},
     "output_type": "execute_result"
    }
   ],
   "source": [
    "df3['Consumer_complaint'].iloc[16]"
   ]
  },
  {
   "cell_type": "code",
   "execution_count": 51,
   "metadata": {
    "execution": {
     "iopub.execute_input": "2023-09-24T12:18:16.204795Z",
     "iopub.status.busy": "2023-09-24T12:18:16.203831Z",
     "iopub.status.idle": "2023-09-24T12:18:16.213682Z",
     "shell.execute_reply": "2023-09-24T12:18:16.212585Z",
     "shell.execute_reply.started": "2023-09-24T12:18:16.204712Z"
    }
   },
   "outputs": [],
   "source": [
    "complaint2 = \"\"\"I have been actively filing loan modifications with B of A sinceXXXX. I am a XXXX Veteran and I did use my VA certificateto secure my home in XXXX. My home was finance thruCountry Wide before B of A bought my loan. B of A didservice my home for foreclosure while I was serving in theXXXX XXXX about XXXX XXXX and the loan was noteven 2 months behind. I came home in XXXX XXXX andrequested another loan modification but no response soI obtained an attorney. My attorney did respond to B ofA and requested all correspondence concerning my homebe sent to them and they were actively involved with myloan modification. In early XXXX I was notified by areal-estate agent that my home was listed for foreclosureand public auction. No XXXX service me or my attorney. Theforeclosure was listed in the local newspaper. This wasnews to me and my attorney since we both had no ideaand was actively involve with a loan modification at thetime. I have since been working with Attorney Generaloffice in Florida. I was given guidance from the AG tofile this complaint with CFPB along with their inquireabout my case. I have been told my request formodification has been denied for reasons such as \\'\\' I was not living in the home and it is a VA require-ment \\'\\' which is not true, \" insufficient income \\'\\', mycurrent husband signed a form stating he wouldcontribute {$1500.00} additional income to my household to help cover the cost and the list goes on. \\nI am currently enrolled in a XXXX programwith the XXXX VA and is receivingtreatment. My condition is described as \" XXXX \\'\\' at this time but with support from my husbandand adult children I am trying to do what isnecessary to keep my home. I am filing thiscomplaint because I too believe I am a victimof \" dual tracking \\'\\' with B of A. They are notowning up to their constant mistakes. I don\\'tunderstand why they will not work with me tohelp me keep my home vice foreclosing. I amnot trying to run from my responsibility of payingfor my home. I just need help with lowering the payment so I can afford it. Is that too much to ask for? \\nB of A pulled back the foreclosure because they justrealized we were working on a loan modification with mebut recently filed a petition in court another foreclosure. \\nI have no other option but to file bankruptcy to keepmy home. This not fair to me the consumer because allI wanted was a lower payment. \\n\"\"\""
   ]
  },
  {
   "cell_type": "code",
   "execution_count": 52,
   "metadata": {
    "execution": {
     "iopub.execute_input": "2023-09-24T12:18:19.664938Z",
     "iopub.status.busy": "2023-09-24T12:18:19.664544Z",
     "iopub.status.idle": "2023-09-24T12:18:19.674131Z",
     "shell.execute_reply": "2023-09-24T12:18:19.673082Z",
     "shell.execute_reply.started": "2023-09-24T12:18:19.664883Z"
    }
   },
   "outputs": [
    {
     "name": "stdout",
     "output_type": "stream",
     "text": [
      "['Mortgage']\n"
     ]
    }
   ],
   "source": [
    "print(model.predict(fitted_vectorizer.transform([complaint2])))"
   ]
  },
  {
   "cell_type": "markdown",
   "metadata": {},
   "source": [
    "It has predicted the second complaint correctly as well. Thus, the model is doing a good job in predicting the product category using the Consumer Complaint narratives."
   ]
  },
  {
   "cell_type": "markdown",
   "metadata": {},
   "source": [
    "# Part 3 : CLASSIFICATION MODELS AND FEATURE ENGINEERING"
   ]
  },
  {
   "cell_type": "code",
   "execution_count": 53,
   "metadata": {
    "execution": {
     "iopub.execute_input": "2023-09-24T12:18:43.992270Z",
     "iopub.status.busy": "2023-09-24T12:18:43.991873Z",
     "iopub.status.idle": "2023-09-24T12:19:43.105454Z",
     "shell.execute_reply": "2023-09-24T12:19:43.104138Z",
     "shell.execute_reply.started": "2023-09-24T12:18:43.992216Z"
    }
   },
   "outputs": [],
   "source": [
    "df = pd.read_csv('/kaggle/input/19mia1073-complaints/complaints.csv')"
   ]
  },
  {
   "cell_type": "code",
   "execution_count": 54,
   "metadata": {
    "execution": {
     "iopub.execute_input": "2023-09-24T12:19:48.645504Z",
     "iopub.status.busy": "2023-09-24T12:19:48.645039Z",
     "iopub.status.idle": "2023-09-24T12:19:48.683117Z",
     "shell.execute_reply": "2023-09-24T12:19:48.681664Z",
     "shell.execute_reply.started": "2023-09-24T12:19:48.645425Z"
    }
   },
   "outputs": [
    {
     "data": {
      "text/html": [
       "<div>\n",
       "<style scoped>\n",
       "    .dataframe tbody tr th:only-of-type {\n",
       "        vertical-align: middle;\n",
       "    }\n",
       "\n",
       "    .dataframe tbody tr th {\n",
       "        vertical-align: top;\n",
       "    }\n",
       "\n",
       "    .dataframe thead th {\n",
       "        text-align: right;\n",
       "    }\n",
       "</style>\n",
       "<table border=\"1\" class=\"dataframe\">\n",
       "  <thead>\n",
       "    <tr style=\"text-align: right;\">\n",
       "      <th></th>\n",
       "      <th>0</th>\n",
       "      <th>1</th>\n",
       "      <th>2</th>\n",
       "      <th>3</th>\n",
       "      <th>4</th>\n",
       "    </tr>\n",
       "  </thead>\n",
       "  <tbody>\n",
       "    <tr>\n",
       "      <th>Date received</th>\n",
       "      <td>2023-08-25</td>\n",
       "      <td>2023-08-25</td>\n",
       "      <td>2023-08-25</td>\n",
       "      <td>2023-08-25</td>\n",
       "      <td>2023-08-25</td>\n",
       "    </tr>\n",
       "    <tr>\n",
       "      <th>Product</th>\n",
       "      <td>Credit reporting or other personal consumer re...</td>\n",
       "      <td>Credit reporting or other personal consumer re...</td>\n",
       "      <td>Credit reporting or other personal consumer re...</td>\n",
       "      <td>Credit reporting or other personal consumer re...</td>\n",
       "      <td>Credit reporting or other personal consumer re...</td>\n",
       "    </tr>\n",
       "    <tr>\n",
       "      <th>Sub-product</th>\n",
       "      <td>Credit reporting</td>\n",
       "      <td>Credit reporting</td>\n",
       "      <td>Credit reporting</td>\n",
       "      <td>Credit reporting</td>\n",
       "      <td>Credit reporting</td>\n",
       "    </tr>\n",
       "    <tr>\n",
       "      <th>Issue</th>\n",
       "      <td>Problem with a company's investigation into an...</td>\n",
       "      <td>Incorrect information on your report</td>\n",
       "      <td>Improper use of your report</td>\n",
       "      <td>Problem with a company's investigation into an...</td>\n",
       "      <td>Problem with a company's investigation into an...</td>\n",
       "    </tr>\n",
       "    <tr>\n",
       "      <th>Sub-issue</th>\n",
       "      <td>Their investigation did not fix an error on yo...</td>\n",
       "      <td>Information belongs to someone else</td>\n",
       "      <td>Credit inquiries on your report that you don't...</td>\n",
       "      <td>Their investigation did not fix an error on yo...</td>\n",
       "      <td>Their investigation did not fix an error on yo...</td>\n",
       "    </tr>\n",
       "    <tr>\n",
       "      <th>Consumer complaint narrative</th>\n",
       "      <td>NaN</td>\n",
       "      <td>NaN</td>\n",
       "      <td>NaN</td>\n",
       "      <td>NaN</td>\n",
       "      <td>NaN</td>\n",
       "    </tr>\n",
       "    <tr>\n",
       "      <th>Company public response</th>\n",
       "      <td>NaN</td>\n",
       "      <td>NaN</td>\n",
       "      <td>NaN</td>\n",
       "      <td>NaN</td>\n",
       "      <td>NaN</td>\n",
       "    </tr>\n",
       "    <tr>\n",
       "      <th>Company</th>\n",
       "      <td>EQUIFAX, INC.</td>\n",
       "      <td>EQUIFAX, INC.</td>\n",
       "      <td>EQUIFAX, INC.</td>\n",
       "      <td>EQUIFAX, INC.</td>\n",
       "      <td>EQUIFAX, INC.</td>\n",
       "    </tr>\n",
       "    <tr>\n",
       "      <th>State</th>\n",
       "      <td>PA</td>\n",
       "      <td>GA</td>\n",
       "      <td>FL</td>\n",
       "      <td>PA</td>\n",
       "      <td>NV</td>\n",
       "    </tr>\n",
       "    <tr>\n",
       "      <th>ZIP code</th>\n",
       "      <td>15146</td>\n",
       "      <td>30152</td>\n",
       "      <td>32137</td>\n",
       "      <td>15146</td>\n",
       "      <td>89135</td>\n",
       "    </tr>\n",
       "    <tr>\n",
       "      <th>Tags</th>\n",
       "      <td>NaN</td>\n",
       "      <td>NaN</td>\n",
       "      <td>NaN</td>\n",
       "      <td>NaN</td>\n",
       "      <td>NaN</td>\n",
       "    </tr>\n",
       "    <tr>\n",
       "      <th>Consumer consent provided?</th>\n",
       "      <td>NaN</td>\n",
       "      <td>NaN</td>\n",
       "      <td>Other</td>\n",
       "      <td>NaN</td>\n",
       "      <td>NaN</td>\n",
       "    </tr>\n",
       "    <tr>\n",
       "      <th>Submitted via</th>\n",
       "      <td>Web</td>\n",
       "      <td>Web</td>\n",
       "      <td>Web</td>\n",
       "      <td>Web</td>\n",
       "      <td>Web</td>\n",
       "    </tr>\n",
       "    <tr>\n",
       "      <th>Date sent to company</th>\n",
       "      <td>2023-08-26</td>\n",
       "      <td>2023-08-25</td>\n",
       "      <td>2023-08-25</td>\n",
       "      <td>2023-08-25</td>\n",
       "      <td>2023-08-25</td>\n",
       "    </tr>\n",
       "    <tr>\n",
       "      <th>Company response to consumer</th>\n",
       "      <td>Closed with explanation</td>\n",
       "      <td>Closed with explanation</td>\n",
       "      <td>Closed with explanation</td>\n",
       "      <td>Closed with explanation</td>\n",
       "      <td>Closed with explanation</td>\n",
       "    </tr>\n",
       "    <tr>\n",
       "      <th>Timely response?</th>\n",
       "      <td>Yes</td>\n",
       "      <td>Yes</td>\n",
       "      <td>Yes</td>\n",
       "      <td>Yes</td>\n",
       "      <td>Yes</td>\n",
       "    </tr>\n",
       "    <tr>\n",
       "      <th>Consumer disputed?</th>\n",
       "      <td>NaN</td>\n",
       "      <td>NaN</td>\n",
       "      <td>NaN</td>\n",
       "      <td>NaN</td>\n",
       "      <td>NaN</td>\n",
       "    </tr>\n",
       "    <tr>\n",
       "      <th>Complaint ID</th>\n",
       "      <td>7560850</td>\n",
       "      <td>7560851</td>\n",
       "      <td>7560852</td>\n",
       "      <td>7560853</td>\n",
       "      <td>7560854</td>\n",
       "    </tr>\n",
       "  </tbody>\n",
       "</table>\n",
       "</div>"
      ],
      "text/plain": [
       "                                                                              0                        ...                                                                          4\n",
       "Date received                                                        2023-08-25                        ...                                                                 2023-08-25\n",
       "Product                       Credit reporting or other personal consumer re...                        ...                          Credit reporting or other personal consumer re...\n",
       "Sub-product                                                    Credit reporting                        ...                                                           Credit reporting\n",
       "Issue                         Problem with a company's investigation into an...                        ...                          Problem with a company's investigation into an...\n",
       "Sub-issue                     Their investigation did not fix an error on yo...                        ...                          Their investigation did not fix an error on yo...\n",
       "Consumer complaint narrative                                                NaN                        ...                                                                        NaN\n",
       "Company public response                                                     NaN                        ...                                                                        NaN\n",
       "Company                                                           EQUIFAX, INC.                        ...                                                              EQUIFAX, INC.\n",
       "State                                                                        PA                        ...                                                                         NV\n",
       "ZIP code                                                                  15146                        ...                                                                      89135\n",
       "Tags                                                                        NaN                        ...                                                                        NaN\n",
       "Consumer consent provided?                                                  NaN                        ...                                                                        NaN\n",
       "Submitted via                                                               Web                        ...                                                                        Web\n",
       "Date sent to company                                                 2023-08-26                        ...                                                                 2023-08-25\n",
       "Company response to consumer                            Closed with explanation                        ...                                                    Closed with explanation\n",
       "Timely response?                                                            Yes                        ...                                                                        Yes\n",
       "Consumer disputed?                                                          NaN                        ...                                                                        NaN\n",
       "Complaint ID                                                            7560850                        ...                                                                    7560854\n",
       "\n",
       "[18 rows x 5 columns]"
      ]
     },
     "execution_count": 54,
     "metadata": {},
     "output_type": "execute_result"
    }
   ],
   "source": [
    "df.head(5).T"
   ]
  },
  {
   "cell_type": "code",
   "execution_count": 55,
   "metadata": {
    "execution": {
     "iopub.execute_input": "2023-09-24T12:19:52.145113Z",
     "iopub.status.busy": "2023-09-24T12:19:52.143799Z",
     "iopub.status.idle": "2023-09-24T12:19:52.153868Z",
     "shell.execute_reply": "2023-09-24T12:19:52.152679Z",
     "shell.execute_reply.started": "2023-09-24T12:19:52.144987Z"
    }
   },
   "outputs": [
    {
     "data": {
      "text/plain": [
       "(4078867, 18)"
      ]
     },
     "execution_count": 55,
     "metadata": {},
     "output_type": "execute_result"
    }
   ],
   "source": [
    "df.shape"
   ]
  },
  {
   "cell_type": "code",
   "execution_count": 56,
   "metadata": {
    "execution": {
     "iopub.execute_input": "2023-09-24T12:19:55.196779Z",
     "iopub.status.busy": "2023-09-24T12:19:55.195854Z",
     "iopub.status.idle": "2023-09-24T12:19:55.681354Z",
     "shell.execute_reply": "2023-09-24T12:19:55.680002Z",
     "shell.execute_reply.started": "2023-09-24T12:19:55.196699Z"
    }
   },
   "outputs": [],
   "source": [
    "df1 = df.copy()"
   ]
  },
  {
   "cell_type": "markdown",
   "metadata": {},
   "source": [
    "Making a copy of the dataset to perform the operations and prepare a good dataset for training and testing."
   ]
  },
  {
   "cell_type": "code",
   "execution_count": 57,
   "metadata": {
    "execution": {
     "iopub.execute_input": "2023-09-24T12:19:59.393588Z",
     "iopub.status.busy": "2023-09-24T12:19:59.392787Z",
     "iopub.status.idle": "2023-09-24T12:20:00.413884Z",
     "shell.execute_reply": "2023-09-24T12:20:00.412672Z",
     "shell.execute_reply.started": "2023-09-24T12:19:59.393471Z"
    }
   },
   "outputs": [],
   "source": [
    "df1.drop(['Date received','Date sent to company','Sub-product','Issue', \n",
    "          'Sub-issue','Consumer complaint narrative','ZIP code','Complaint ID'],axis=1,inplace=True)"
   ]
  },
  {
   "cell_type": "markdown",
   "metadata": {},
   "source": [
    "Dropping Sub-product,Issue, Sub-issue as all of them are related to the Product Column. Dropping the Date columns as they don't have much contribution and the same goes for ZIP code and Complaint ID."
   ]
  },
  {
   "cell_type": "code",
   "execution_count": 58,
   "metadata": {
    "execution": {
     "iopub.execute_input": "2023-09-24T12:20:03.865913Z",
     "iopub.status.busy": "2023-09-24T12:20:03.865452Z",
     "iopub.status.idle": "2023-09-24T12:20:03.873301Z",
     "shell.execute_reply": "2023-09-24T12:20:03.871974Z",
     "shell.execute_reply.started": "2023-09-24T12:20:03.865836Z"
    }
   },
   "outputs": [
    {
     "data": {
      "text/plain": [
       "(4078867, 10)"
      ]
     },
     "execution_count": 58,
     "metadata": {},
     "output_type": "execute_result"
    }
   ],
   "source": [
    "df1.shape"
   ]
  },
  {
   "cell_type": "code",
   "execution_count": 59,
   "metadata": {
    "execution": {
     "iopub.execute_input": "2023-09-24T12:20:06.543259Z",
     "iopub.status.busy": "2023-09-24T12:20:06.542630Z",
     "iopub.status.idle": "2023-09-24T12:20:10.880591Z",
     "shell.execute_reply": "2023-09-24T12:20:10.879607Z",
     "shell.execute_reply.started": "2023-09-24T12:20:06.543150Z"
    }
   },
   "outputs": [
    {
     "data": {
      "text/plain": [
       "Product                               0\n",
       "Company public response         2190771\n",
       "Company                               0\n",
       "State                             43208\n",
       "Tags                            3652908\n",
       "Consumer consent provided?       900882\n",
       "Submitted via                         0\n",
       "Company response to consumer          5\n",
       "Timely response?                      0\n",
       "Consumer disputed?              3310509\n",
       "dtype: int64"
      ]
     },
     "execution_count": 59,
     "metadata": {},
     "output_type": "execute_result"
    }
   ],
   "source": [
    "df1.isnull().sum()"
   ]
  },
  {
   "cell_type": "markdown",
   "metadata": {},
   "source": [
    "We can see that there a lot of null values in the Dataset."
   ]
  },
  {
   "cell_type": "code",
   "execution_count": 60,
   "metadata": {
    "execution": {
     "iopub.execute_input": "2023-09-24T12:20:10.882683Z",
     "iopub.status.busy": "2023-09-24T12:20:10.882301Z",
     "iopub.status.idle": "2023-09-24T12:20:11.788004Z",
     "shell.execute_reply": "2023-09-24T12:20:11.787120Z",
     "shell.execute_reply.started": "2023-09-24T12:20:10.882614Z"
    }
   },
   "outputs": [
    {
     "data": {
      "text/plain": [
       "Company has responded to the consumer and the CFPB and chooses not to provide a public response                            1659782\n",
       "Company believes it acted appropriately as authorized by contract or law                                                    127380\n",
       "Company chooses not to provide a public response                                                                             52473\n",
       "Company believes the complaint is the result of a misunderstanding                                                           12390\n",
       "Company disputes the facts presented in the complaint                                                                        10109\n",
       "Company believes complaint caused principally by actions of third party outside the control or direction of the company       7531\n",
       "Company believes complaint is the result of an isolated error                                                                 6077\n",
       "Company believes complaint represents an opportunity for improvement to better serve consumers                                4584\n",
       "Company can't verify or dispute the facts in the complaint                                                                    4203\n",
       "Company believes the complaint provided an opportunity to answer consumer's questions                                         3459\n",
       "Company believes complaint relates to a discontinued policy or procedure                                                       108\n",
       "Name: Company public response, dtype: int64"
      ]
     },
     "execution_count": 60,
     "metadata": {},
     "output_type": "execute_result"
    }
   ],
   "source": [
    "df1['Company public response'].value_counts()"
   ]
  },
  {
   "cell_type": "markdown",
   "metadata": {},
   "source": [
    "The most common company response is Company chooses not to provide a public response which we can use to fill the remaining NA values."
   ]
  },
  {
   "cell_type": "code",
   "execution_count": 61,
   "metadata": {
    "execution": {
     "iopub.execute_input": "2023-09-24T12:20:16.480237Z",
     "iopub.status.busy": "2023-09-24T12:20:16.479774Z",
     "iopub.status.idle": "2023-09-24T12:20:17.712602Z",
     "shell.execute_reply": "2023-09-24T12:20:17.711757Z",
     "shell.execute_reply.started": "2023-09-24T12:20:16.480173Z"
    }
   },
   "outputs": [
    {
     "data": {
      "text/plain": [
       "Consent not provided    1541226\n",
       "Consent provided        1478590\n",
       "Other                    150894\n",
       "Consent withdrawn          7275\n",
       "Name: Consumer consent provided?, dtype: int64"
      ]
     },
     "execution_count": 61,
     "metadata": {},
     "output_type": "execute_result"
    }
   ],
   "source": [
    "df1['Consumer consent provided?'].value_counts()"
   ]
  },
  {
   "cell_type": "markdown",
   "metadata": {},
   "source": [
    "In Consumer consent provided? column Other seems to be a neutral column that can be used to fill in the NA values."
   ]
  },
  {
   "cell_type": "code",
   "execution_count": 62,
   "metadata": {
    "execution": {
     "iopub.execute_input": "2023-09-24T12:20:21.317391Z",
     "iopub.status.busy": "2023-09-24T12:20:21.317029Z",
     "iopub.status.idle": "2023-09-24T12:20:21.777434Z",
     "shell.execute_reply": "2023-09-24T12:20:21.776063Z",
     "shell.execute_reply.started": "2023-09-24T12:20:21.317347Z"
    }
   },
   "outputs": [
    {
     "data": {
      "text/plain": [
       "Servicemember                    246499\n",
       "Older American                   144447\n",
       "Older American, Servicemember     35013\n",
       "Name: Tags, dtype: int64"
      ]
     },
     "execution_count": 62,
     "metadata": {},
     "output_type": "execute_result"
    }
   ],
   "source": [
    "df1['Tags'].value_counts()"
   ]
  },
  {
   "cell_type": "markdown",
   "metadata": {},
   "source": [
    "The information available is very less and there is no neutral value that we can use to fill the NA values. "
   ]
  },
  {
   "cell_type": "code",
   "execution_count": 63,
   "metadata": {
    "execution": {
     "iopub.execute_input": "2023-09-24T12:20:24.455590Z",
     "iopub.status.busy": "2023-09-24T12:20:24.455169Z",
     "iopub.status.idle": "2023-09-24T12:20:24.942910Z",
     "shell.execute_reply": "2023-09-24T12:20:24.941871Z",
     "shell.execute_reply.started": "2023-09-24T12:20:24.455531Z"
    }
   },
   "outputs": [],
   "source": [
    "df1.drop(['Tags'],axis=1,inplace=True)"
   ]
  },
  {
   "cell_type": "markdown",
   "metadata": {},
   "source": [
    "Dropping the Tags column."
   ]
  },
  {
   "cell_type": "code",
   "execution_count": 64,
   "metadata": {
    "execution": {
     "iopub.execute_input": "2023-09-24T12:20:27.683355Z",
     "iopub.status.busy": "2023-09-24T12:20:27.682946Z",
     "iopub.status.idle": "2023-09-24T12:20:27.689813Z",
     "shell.execute_reply": "2023-09-24T12:20:27.688856Z",
     "shell.execute_reply.started": "2023-09-24T12:20:27.683302Z"
    }
   },
   "outputs": [
    {
     "data": {
      "text/plain": [
       "(4078867, 9)"
      ]
     },
     "execution_count": 64,
     "metadata": {},
     "output_type": "execute_result"
    }
   ],
   "source": [
    "df1.shape"
   ]
  },
  {
   "cell_type": "code",
   "execution_count": 65,
   "metadata": {
    "execution": {
     "iopub.execute_input": "2023-09-24T12:20:32.230121Z",
     "iopub.status.busy": "2023-09-24T12:20:32.229684Z",
     "iopub.status.idle": "2023-09-24T12:20:32.632286Z",
     "shell.execute_reply": "2023-09-24T12:20:32.631134Z",
     "shell.execute_reply.started": "2023-09-24T12:20:32.230049Z"
    }
   },
   "outputs": [
    {
     "data": {
      "text/plain": [
       "1888096"
      ]
     },
     "execution_count": 65,
     "metadata": {},
     "output_type": "execute_result"
    }
   ],
   "source": [
    "df1['Company public response'].notnull().sum()"
   ]
  },
  {
   "cell_type": "code",
   "execution_count": 66,
   "metadata": {
    "execution": {
     "iopub.execute_input": "2023-09-24T12:20:34.974612Z",
     "iopub.status.busy": "2023-09-24T12:20:34.974130Z",
     "iopub.status.idle": "2023-09-24T12:20:35.412114Z",
     "shell.execute_reply": "2023-09-24T12:20:35.410947Z",
     "shell.execute_reply.started": "2023-09-24T12:20:34.974505Z"
    }
   },
   "outputs": [],
   "source": [
    "df1['Consumer consent provided?'].fillna('Other',inplace=True)"
   ]
  },
  {
   "cell_type": "markdown",
   "metadata": {},
   "source": [
    "Filling the NA values in **Consumer consent provided?** with **'Other'**."
   ]
  },
  {
   "cell_type": "code",
   "execution_count": 67,
   "metadata": {
    "execution": {
     "iopub.execute_input": "2023-09-24T12:20:40.791651Z",
     "iopub.status.busy": "2023-09-24T12:20:40.791217Z",
     "iopub.status.idle": "2023-09-24T12:20:41.288308Z",
     "shell.execute_reply": "2023-09-24T12:20:41.287333Z",
     "shell.execute_reply.started": "2023-09-24T12:20:40.791580Z"
    }
   },
   "outputs": [
    {
     "data": {
      "text/plain": [
       "0"
      ]
     },
     "execution_count": 67,
     "metadata": {},
     "output_type": "execute_result"
    }
   ],
   "source": [
    "df1['Consumer consent provided?'].isnull().sum()"
   ]
  },
  {
   "cell_type": "code",
   "execution_count": 68,
   "metadata": {
    "execution": {
     "iopub.execute_input": "2023-09-24T12:20:42.496802Z",
     "iopub.status.busy": "2023-09-24T12:20:42.496351Z",
     "iopub.status.idle": "2023-09-24T12:20:46.597451Z",
     "shell.execute_reply": "2023-09-24T12:20:46.596276Z",
     "shell.execute_reply.started": "2023-09-24T12:20:42.496733Z"
    }
   },
   "outputs": [
    {
     "data": {
      "text/plain": [
       "Product                               0\n",
       "Company public response         2190771\n",
       "Company                               0\n",
       "State                             43208\n",
       "Consumer consent provided?            0\n",
       "Submitted via                         0\n",
       "Company response to consumer          5\n",
       "Timely response?                      0\n",
       "Consumer disputed?              3310509\n",
       "dtype: int64"
      ]
     },
     "execution_count": 68,
     "metadata": {},
     "output_type": "execute_result"
    }
   ],
   "source": [
    "df1.isnull().sum()"
   ]
  },
  {
   "cell_type": "code",
   "execution_count": 69,
   "metadata": {
    "execution": {
     "iopub.execute_input": "2023-09-24T12:20:46.599448Z",
     "iopub.status.busy": "2023-09-24T12:20:46.599091Z",
     "iopub.status.idle": "2023-09-24T12:20:46.987462Z",
     "shell.execute_reply": "2023-09-24T12:20:46.986288Z",
     "shell.execute_reply.started": "2023-09-24T12:20:46.599383Z"
    }
   },
   "outputs": [],
   "source": [
    "df1['Company public response'].fillna('Company chooses not to provide a public response',inplace=True)"
   ]
  },
  {
   "cell_type": "markdown",
   "metadata": {},
   "source": [
    "Filling the NA values in Company public response column with **'Company chooses not to provide a public response'**."
   ]
  },
  {
   "cell_type": "code",
   "execution_count": 70,
   "metadata": {
    "execution": {
     "iopub.execute_input": "2023-09-24T12:20:49.278252Z",
     "iopub.status.busy": "2023-09-24T12:20:49.277817Z",
     "iopub.status.idle": "2023-09-24T12:20:53.501012Z",
     "shell.execute_reply": "2023-09-24T12:20:53.499800Z",
     "shell.execute_reply.started": "2023-09-24T12:20:49.278185Z"
    }
   },
   "outputs": [
    {
     "data": {
      "text/plain": [
       "Product                               0\n",
       "Company public response               0\n",
       "Company                               0\n",
       "State                             43208\n",
       "Consumer consent provided?            0\n",
       "Submitted via                         0\n",
       "Company response to consumer          5\n",
       "Timely response?                      0\n",
       "Consumer disputed?              3310509\n",
       "dtype: int64"
      ]
     },
     "execution_count": 70,
     "metadata": {},
     "output_type": "execute_result"
    }
   ],
   "source": [
    "df1.isnull().sum()"
   ]
  },
  {
   "cell_type": "markdown",
   "metadata": {},
   "source": [
    "There are NA values in the state columns and it is something we can't just fill in randomly. Hence, dropping those NA values."
   ]
  },
  {
   "cell_type": "code",
   "execution_count": 71,
   "metadata": {
    "execution": {
     "iopub.execute_input": "2023-09-24T12:20:53.503613Z",
     "iopub.status.busy": "2023-09-24T12:20:53.503209Z",
     "iopub.status.idle": "2023-09-24T12:20:58.030082Z",
     "shell.execute_reply": "2023-09-24T12:20:58.028306Z",
     "shell.execute_reply.started": "2023-09-24T12:20:53.503509Z"
    }
   },
   "outputs": [],
   "source": [
    "df1.dropna(inplace=True)"
   ]
  },
  {
   "cell_type": "code",
   "execution_count": 72,
   "metadata": {
    "execution": {
     "iopub.execute_input": "2023-09-24T12:20:58.032657Z",
     "iopub.status.busy": "2023-09-24T12:20:58.032158Z",
     "iopub.status.idle": "2023-09-24T12:20:58.041426Z",
     "shell.execute_reply": "2023-09-24T12:20:58.040100Z",
     "shell.execute_reply.started": "2023-09-24T12:20:58.032564Z"
    }
   },
   "outputs": [
    {
     "data": {
      "text/plain": [
       "(762708, 9)"
      ]
     },
     "execution_count": 72,
     "metadata": {},
     "output_type": "execute_result"
    }
   ],
   "source": [
    "df1.shape"
   ]
  },
  {
   "cell_type": "markdown",
   "metadata": {},
   "source": [
    "There are **355907** after cleaning which a really good number to work on."
   ]
  },
  {
   "cell_type": "code",
   "execution_count": 73,
   "metadata": {
    "execution": {
     "iopub.execute_input": "2023-09-24T12:20:58.043984Z",
     "iopub.status.busy": "2023-09-24T12:20:58.043353Z",
     "iopub.status.idle": "2023-09-24T12:20:58.080110Z",
     "shell.execute_reply": "2023-09-24T12:20:58.078749Z",
     "shell.execute_reply.started": "2023-09-24T12:20:58.043756Z"
    }
   },
   "outputs": [
    {
     "data": {
      "text/html": [
       "<div>\n",
       "<style scoped>\n",
       "    .dataframe tbody tr th:only-of-type {\n",
       "        vertical-align: middle;\n",
       "    }\n",
       "\n",
       "    .dataframe tbody tr th {\n",
       "        vertical-align: top;\n",
       "    }\n",
       "\n",
       "    .dataframe thead th {\n",
       "        text-align: right;\n",
       "    }\n",
       "</style>\n",
       "<table border=\"1\" class=\"dataframe\">\n",
       "  <thead>\n",
       "    <tr style=\"text-align: right;\">\n",
       "      <th></th>\n",
       "      <th>30285</th>\n",
       "      <th>36370</th>\n",
       "      <th>38916</th>\n",
       "      <th>44225</th>\n",
       "      <th>44366</th>\n",
       "    </tr>\n",
       "  </thead>\n",
       "  <tbody>\n",
       "    <tr>\n",
       "      <th>Product</th>\n",
       "      <td>Credit card</td>\n",
       "      <td>Credit reporting</td>\n",
       "      <td>Credit card</td>\n",
       "      <td>Mortgage</td>\n",
       "      <td>Mortgage</td>\n",
       "    </tr>\n",
       "    <tr>\n",
       "      <th>Company public response</th>\n",
       "      <td>Company chooses not to provide a public response</td>\n",
       "      <td>Company chooses not to provide a public response</td>\n",
       "      <td>Company chooses not to provide a public response</td>\n",
       "      <td>Company chooses not to provide a public response</td>\n",
       "      <td>Company chooses not to provide a public response</td>\n",
       "    </tr>\n",
       "    <tr>\n",
       "      <th>Company</th>\n",
       "      <td>CAPITAL ONE FINANCIAL CORPORATION</td>\n",
       "      <td>EQUIFAX, INC.</td>\n",
       "      <td>CAPITAL ONE FINANCIAL CORPORATION</td>\n",
       "      <td>PNC Bank N.A.</td>\n",
       "      <td>SUNTRUST BANKS, INC.</td>\n",
       "    </tr>\n",
       "    <tr>\n",
       "      <th>State</th>\n",
       "      <td>NJ</td>\n",
       "      <td>OK</td>\n",
       "      <td>FL</td>\n",
       "      <td>PA</td>\n",
       "      <td>FL</td>\n",
       "    </tr>\n",
       "    <tr>\n",
       "      <th>Consumer consent provided?</th>\n",
       "      <td>Other</td>\n",
       "      <td>Consent not provided</td>\n",
       "      <td>Other</td>\n",
       "      <td>Consent not provided</td>\n",
       "      <td>Other</td>\n",
       "    </tr>\n",
       "    <tr>\n",
       "      <th>Submitted via</th>\n",
       "      <td>Web</td>\n",
       "      <td>Web</td>\n",
       "      <td>Postal mail</td>\n",
       "      <td>Web</td>\n",
       "      <td>Referral</td>\n",
       "    </tr>\n",
       "    <tr>\n",
       "      <th>Company response to consumer</th>\n",
       "      <td>Closed with explanation</td>\n",
       "      <td>Closed with explanation</td>\n",
       "      <td>Closed with explanation</td>\n",
       "      <td>Closed with explanation</td>\n",
       "      <td>Closed with explanation</td>\n",
       "    </tr>\n",
       "    <tr>\n",
       "      <th>Timely response?</th>\n",
       "      <td>Yes</td>\n",
       "      <td>Yes</td>\n",
       "      <td>Yes</td>\n",
       "      <td>Yes</td>\n",
       "      <td>Yes</td>\n",
       "    </tr>\n",
       "    <tr>\n",
       "      <th>Consumer disputed?</th>\n",
       "      <td>No</td>\n",
       "      <td>No</td>\n",
       "      <td>No</td>\n",
       "      <td>No</td>\n",
       "      <td>Yes</td>\n",
       "    </tr>\n",
       "  </tbody>\n",
       "</table>\n",
       "</div>"
      ],
      "text/plain": [
       "                                                                         30285                        ...                                                                    44366\n",
       "Product                                                            Credit card                        ...                                                                 Mortgage\n",
       "Company public response       Company chooses not to provide a public response                        ...                         Company chooses not to provide a public response\n",
       "Company                                      CAPITAL ONE FINANCIAL CORPORATION                        ...                                                     SUNTRUST BANKS, INC.\n",
       "State                                                                       NJ                        ...                                                                       FL\n",
       "Consumer consent provided?                                               Other                        ...                                                                    Other\n",
       "Submitted via                                                              Web                        ...                                                                 Referral\n",
       "Company response to consumer                           Closed with explanation                        ...                                                  Closed with explanation\n",
       "Timely response?                                                           Yes                        ...                                                                      Yes\n",
       "Consumer disputed?                                                          No                        ...                                                                      Yes\n",
       "\n",
       "[9 rows x 5 columns]"
      ]
     },
     "execution_count": 73,
     "metadata": {},
     "output_type": "execute_result"
    }
   ],
   "source": [
    "df1.head(5).T"
   ]
  },
  {
   "cell_type": "code",
   "execution_count": 74,
   "metadata": {
    "execution": {
     "iopub.execute_input": "2023-09-24T12:21:01.839858Z",
     "iopub.status.busy": "2023-09-24T12:21:01.839421Z",
     "iopub.status.idle": "2023-09-24T12:21:01.844493Z",
     "shell.execute_reply": "2023-09-24T12:21:01.843501Z",
     "shell.execute_reply.started": "2023-09-24T12:21:01.839799Z"
    }
   },
   "outputs": [],
   "source": [
    "from sklearn.preprocessing import LabelEncoder"
   ]
  },
  {
   "cell_type": "code",
   "execution_count": 75,
   "metadata": {
    "execution": {
     "iopub.execute_input": "2023-09-24T12:21:03.115581Z",
     "iopub.status.busy": "2023-09-24T12:21:03.115186Z",
     "iopub.status.idle": "2023-09-24T12:21:06.201035Z",
     "shell.execute_reply": "2023-09-24T12:21:06.200143Z",
     "shell.execute_reply.started": "2023-09-24T12:21:03.115512Z"
    }
   },
   "outputs": [],
   "source": [
    "df1 = df1.apply(LabelEncoder().fit_transform)"
   ]
  },
  {
   "cell_type": "markdown",
   "metadata": {},
   "source": [
    "Converting all the object columns using ****Label Encoder()****."
   ]
  },
  {
   "cell_type": "code",
   "execution_count": 76,
   "metadata": {
    "execution": {
     "iopub.execute_input": "2023-09-24T12:21:06.202809Z",
     "iopub.status.busy": "2023-09-24T12:21:06.202334Z",
     "iopub.status.idle": "2023-09-24T12:21:06.338282Z",
     "shell.execute_reply": "2023-09-24T12:21:06.337090Z",
     "shell.execute_reply.started": "2023-09-24T12:21:06.202757Z"
    }
   },
   "outputs": [
    {
     "name": "stdout",
     "output_type": "stream",
     "text": [
      "<class 'pandas.core.frame.DataFrame'>\n",
      "Int64Index: 762708 entries, 30285 to 4078863\n",
      "Data columns (total 9 columns):\n",
      "Product                         762708 non-null int64\n",
      "Company public response         762708 non-null int64\n",
      "Company                         762708 non-null int64\n",
      "State                           762708 non-null int64\n",
      "Consumer consent provided?      762708 non-null int64\n",
      "Submitted via                   762708 non-null int64\n",
      "Company response to consumer    762708 non-null int64\n",
      "Timely response?                762708 non-null int64\n",
      "Consumer disputed?              762708 non-null int64\n",
      "dtypes: int64(9)\n",
      "memory usage: 58.2 MB\n"
     ]
    }
   ],
   "source": [
    "df1.info()"
   ]
  },
  {
   "cell_type": "markdown",
   "metadata": {},
   "source": [
    "Let's have a look at the dataset after conversion."
   ]
  },
  {
   "cell_type": "code",
   "execution_count": 77,
   "metadata": {
    "execution": {
     "iopub.execute_input": "2023-09-24T12:21:09.190982Z",
     "iopub.status.busy": "2023-09-24T12:21:09.190243Z",
     "iopub.status.idle": "2023-09-24T12:21:09.219568Z",
     "shell.execute_reply": "2023-09-24T12:21:09.218107Z",
     "shell.execute_reply.started": "2023-09-24T12:21:09.190888Z"
    }
   },
   "outputs": [
    {
     "data": {
      "text/html": [
       "<div>\n",
       "<style scoped>\n",
       "    .dataframe tbody tr th:only-of-type {\n",
       "        vertical-align: middle;\n",
       "    }\n",
       "\n",
       "    .dataframe tbody tr th {\n",
       "        vertical-align: top;\n",
       "    }\n",
       "\n",
       "    .dataframe thead th {\n",
       "        text-align: right;\n",
       "    }\n",
       "</style>\n",
       "<table border=\"1\" class=\"dataframe\">\n",
       "  <thead>\n",
       "    <tr style=\"text-align: right;\">\n",
       "      <th></th>\n",
       "      <th>Product</th>\n",
       "      <th>Company public response</th>\n",
       "      <th>Company</th>\n",
       "      <th>State</th>\n",
       "      <th>Consumer consent provided?</th>\n",
       "      <th>Submitted via</th>\n",
       "      <th>Company response to consumer</th>\n",
       "      <th>Timely response?</th>\n",
       "      <th>Consumer disputed?</th>\n",
       "    </tr>\n",
       "  </thead>\n",
       "  <tbody>\n",
       "    <tr>\n",
       "      <th>30285</th>\n",
       "      <td>3</td>\n",
       "      <td>7</td>\n",
       "      <td>683</td>\n",
       "      <td>39</td>\n",
       "      <td>3</td>\n",
       "      <td>5</td>\n",
       "      <td>1</td>\n",
       "      <td>1</td>\n",
       "      <td>0</td>\n",
       "    </tr>\n",
       "    <tr>\n",
       "      <th>36370</th>\n",
       "      <td>4</td>\n",
       "      <td>7</td>\n",
       "      <td>1358</td>\n",
       "      <td>44</td>\n",
       "      <td>0</td>\n",
       "      <td>5</td>\n",
       "      <td>1</td>\n",
       "      <td>1</td>\n",
       "      <td>0</td>\n",
       "    </tr>\n",
       "    <tr>\n",
       "      <th>38916</th>\n",
       "      <td>3</td>\n",
       "      <td>7</td>\n",
       "      <td>683</td>\n",
       "      <td>13</td>\n",
       "      <td>3</td>\n",
       "      <td>3</td>\n",
       "      <td>1</td>\n",
       "      <td>1</td>\n",
       "      <td>0</td>\n",
       "    </tr>\n",
       "    <tr>\n",
       "      <th>44225</th>\n",
       "      <td>7</td>\n",
       "      <td>7</td>\n",
       "      <td>2988</td>\n",
       "      <td>46</td>\n",
       "      <td>0</td>\n",
       "      <td>5</td>\n",
       "      <td>1</td>\n",
       "      <td>1</td>\n",
       "      <td>0</td>\n",
       "    </tr>\n",
       "    <tr>\n",
       "      <th>44366</th>\n",
       "      <td>7</td>\n",
       "      <td>7</td>\n",
       "      <td>3532</td>\n",
       "      <td>13</td>\n",
       "      <td>3</td>\n",
       "      <td>4</td>\n",
       "      <td>1</td>\n",
       "      <td>1</td>\n",
       "      <td>1</td>\n",
       "    </tr>\n",
       "  </tbody>\n",
       "</table>\n",
       "</div>"
      ],
      "text/plain": [
       "       Product         ...          Consumer disputed?\n",
       "30285        3         ...                           0\n",
       "36370        4         ...                           0\n",
       "38916        3         ...                           0\n",
       "44225        7         ...                           0\n",
       "44366        7         ...                           1\n",
       "\n",
       "[5 rows x 9 columns]"
      ]
     },
     "execution_count": 77,
     "metadata": {},
     "output_type": "execute_result"
    }
   ],
   "source": [
    "df1.head()"
   ]
  },
  {
   "cell_type": "markdown",
   "metadata": {},
   "source": [
    "Because the computation is time consuming (in terms of CPU), the data was sampled."
   ]
  },
  {
   "cell_type": "code",
   "execution_count": 78,
   "metadata": {
    "execution": {
     "iopub.execute_input": "2023-09-24T12:21:12.950543Z",
     "iopub.status.busy": "2023-09-24T12:21:12.950042Z",
     "iopub.status.idle": "2023-09-24T12:21:12.992645Z",
     "shell.execute_reply": "2023-09-24T12:21:12.991638Z",
     "shell.execute_reply.started": "2023-09-24T12:21:12.950443Z"
    }
   },
   "outputs": [],
   "source": [
    "df2 = df1.sample(10000, random_state=1).copy()"
   ]
  },
  {
   "cell_type": "code",
   "execution_count": 79,
   "metadata": {
    "execution": {
     "iopub.execute_input": "2023-09-24T12:21:14.327016Z",
     "iopub.status.busy": "2023-09-24T12:21:14.326593Z",
     "iopub.status.idle": "2023-09-24T12:21:14.338951Z",
     "shell.execute_reply": "2023-09-24T12:21:14.337078Z",
     "shell.execute_reply.started": "2023-09-24T12:21:14.326948Z"
    }
   },
   "outputs": [
    {
     "data": {
      "text/plain": [
       "0    8016\n",
       "1    1984\n",
       "Name: Consumer disputed?, dtype: int64"
      ]
     },
     "execution_count": 79,
     "metadata": {},
     "output_type": "execute_result"
    }
   ],
   "source": [
    "df2['Consumer disputed?'].value_counts()"
   ]
  },
  {
   "cell_type": "markdown",
   "metadata": {},
   "source": [
    "We can conclude that the data isn't balanced."
   ]
  },
  {
   "cell_type": "markdown",
   "metadata": {},
   "source": [
    "# Model Building :"
   ]
  },
  {
   "cell_type": "markdown",
   "metadata": {},
   "source": [
    "* Let's define our **X** and **Y** and start working on the training the model."
   ]
  },
  {
   "cell_type": "code",
   "execution_count": 80,
   "metadata": {
    "execution": {
     "iopub.execute_input": "2023-09-24T12:21:17.271195Z",
     "iopub.status.busy": "2023-09-24T12:21:17.270328Z",
     "iopub.status.idle": "2023-09-24T12:21:17.278944Z",
     "shell.execute_reply": "2023-09-24T12:21:17.277838Z",
     "shell.execute_reply.started": "2023-09-24T12:21:17.271104Z"
    }
   },
   "outputs": [],
   "source": [
    "X = df2.drop(['Consumer disputed?'],axis=1)\n",
    "y = df2['Consumer disputed?']"
   ]
  },
  {
   "cell_type": "code",
   "execution_count": 81,
   "metadata": {
    "execution": {
     "iopub.execute_input": "2023-09-24T12:21:24.456289Z",
     "iopub.status.busy": "2023-09-24T12:21:24.455899Z",
     "iopub.status.idle": "2023-09-24T12:21:24.461117Z",
     "shell.execute_reply": "2023-09-24T12:21:24.459767Z",
     "shell.execute_reply.started": "2023-09-24T12:21:24.456236Z"
    }
   },
   "outputs": [],
   "source": [
    "from sklearn.model_selection import train_test_split"
   ]
  },
  {
   "cell_type": "code",
   "execution_count": 82,
   "metadata": {
    "execution": {
     "iopub.execute_input": "2023-09-24T12:22:09.155855Z",
     "iopub.status.busy": "2023-09-24T12:22:09.155330Z",
     "iopub.status.idle": "2023-09-24T12:22:09.169092Z",
     "shell.execute_reply": "2023-09-24T12:22:09.167720Z",
     "shell.execute_reply.started": "2023-09-24T12:22:09.155772Z"
    }
   },
   "outputs": [],
   "source": [
    "X_train, X_test, y_train, y_test = train_test_split(X, y, \n",
    "                                                    test_size=0.25,\n",
    "                                                    random_state = 0)"
   ]
  },
  {
   "cell_type": "markdown",
   "metadata": {},
   "source": [
    "Since it is an **imbalanced dataset**, we will set the <b>class_weight</b> parameter to 'balanced'"
   ]
  },
  {
   "cell_type": "code",
   "execution_count": 83,
   "metadata": {
    "execution": {
     "iopub.execute_input": "2023-09-24T12:22:13.014079Z",
     "iopub.status.busy": "2023-09-24T12:22:13.013678Z",
     "iopub.status.idle": "2023-09-24T12:22:13.019024Z",
     "shell.execute_reply": "2023-09-24T12:22:13.018050Z",
     "shell.execute_reply.started": "2023-09-24T12:22:13.014024Z"
    }
   },
   "outputs": [],
   "source": [
    "log_reg = LogisticRegression(random_state=101,class_weight='balanced')"
   ]
  },
  {
   "cell_type": "code",
   "execution_count": 84,
   "metadata": {
    "execution": {
     "iopub.execute_input": "2023-09-24T12:22:16.735967Z",
     "iopub.status.busy": "2023-09-24T12:22:16.735318Z",
     "iopub.status.idle": "2023-09-24T12:22:16.868480Z",
     "shell.execute_reply": "2023-09-24T12:22:16.867689Z",
     "shell.execute_reply.started": "2023-09-24T12:22:16.735913Z"
    }
   },
   "outputs": [
    {
     "data": {
      "text/plain": [
       "LogisticRegression(C=1.0, class_weight='balanced', dual=False,\n",
       "          fit_intercept=True, intercept_scaling=1, max_iter=100,\n",
       "          multi_class='warn', n_jobs=None, penalty='l2', random_state=101,\n",
       "          solver='warn', tol=0.0001, verbose=0, warm_start=False)"
      ]
     },
     "execution_count": 84,
     "metadata": {},
     "output_type": "execute_result"
    }
   ],
   "source": [
    "log_reg.fit(X_train,y_train)"
   ]
  },
  {
   "cell_type": "code",
   "execution_count": 85,
   "metadata": {
    "execution": {
     "iopub.execute_input": "2023-09-24T12:22:19.201361Z",
     "iopub.status.busy": "2023-09-24T12:22:19.200959Z",
     "iopub.status.idle": "2023-09-24T12:22:19.212380Z",
     "shell.execute_reply": "2023-09-24T12:22:19.210803Z",
     "shell.execute_reply.started": "2023-09-24T12:22:19.201300Z"
    }
   },
   "outputs": [],
   "source": [
    "predictions = log_reg.predict(X_test)"
   ]
  },
  {
   "cell_type": "code",
   "execution_count": 86,
   "metadata": {
    "execution": {
     "iopub.execute_input": "2023-09-24T12:22:22.118250Z",
     "iopub.status.busy": "2023-09-24T12:22:22.117801Z",
     "iopub.status.idle": "2023-09-24T12:22:22.123232Z",
     "shell.execute_reply": "2023-09-24T12:22:22.122263Z",
     "shell.execute_reply.started": "2023-09-24T12:22:22.118175Z"
    }
   },
   "outputs": [],
   "source": [
    "from sklearn.metrics import classification_report"
   ]
  },
  {
   "cell_type": "code",
   "execution_count": 87,
   "metadata": {
    "execution": {
     "iopub.execute_input": "2023-09-24T12:22:24.490848Z",
     "iopub.status.busy": "2023-09-24T12:22:24.490371Z",
     "iopub.status.idle": "2023-09-24T12:22:24.749911Z",
     "shell.execute_reply": "2023-09-24T12:22:24.747541Z",
     "shell.execute_reply.started": "2023-09-24T12:22:24.490772Z"
    }
   },
   "outputs": [
    {
     "name": "stdout",
     "output_type": "stream",
     "text": [
      "0.4784\n",
      "********************************************\n",
      "Confusion matrix\n"
     ]
    },
    {
     "data": {
      "image/png": "[encoded data removed]",
      "text/plain": [
       "<Figure size 432x288 with 2 Axes>"
      ]
     },
     "metadata": {},
     "output_type": "display_data"
    },
    {
     "name": "stdout",
     "output_type": "stream",
     "text": [
      "**********************************************\n",
      "              precision    recall  f1-score   support\n",
      "\n",
      "           0       0.85      0.43      0.57      2017\n",
      "           1       0.22      0.69      0.34       483\n",
      "\n",
      "   micro avg       0.48      0.48      0.48      2500\n",
      "   macro avg       0.54      0.56      0.45      2500\n",
      "weighted avg       0.73      0.48      0.53      2500\n",
      "\n"
     ]
    }
   ],
   "source": [
    "import seaborn as sns\n",
    "print(metrics.accuracy_score(y_test,predictions))\n",
    "print('********************************************')\n",
    "print('Confusion matrix')\n",
    "lr_cfm=metrics.confusion_matrix(y_test, predictions)\n",
    "\n",
    "\n",
    "lbl1=[\"Predicted 1\", \"Predicted 2\"]\n",
    "lbl2=[\"Actual 1\", \"Actual 2\"]\n",
    "\n",
    "sns.heatmap(lr_cfm, annot=True, cmap=\"Blues\", fmt=\"d\", xticklabels=lbl1, yticklabels=lbl2)\n",
    "plt.show()\n",
    "\n",
    "print('**********************************************')\n",
    "print(metrics.classification_report(y_test,predictions))"
   ]
  },
  {
   "cell_type": "markdown",
   "metadata": {},
   "source": [
    "The overall accuracy is less and the precision and f1-score is really low for 1. Let's try out other methods."
   ]
  },
  {
   "cell_type": "code",
   "execution_count": 88,
   "metadata": {
    "execution": {
     "iopub.execute_input": "2023-09-24T12:22:27.423261Z",
     "iopub.status.busy": "2023-09-24T12:22:27.422869Z",
     "iopub.status.idle": "2023-09-24T12:22:27.432582Z",
     "shell.execute_reply": "2023-09-24T12:22:27.431538Z",
     "shell.execute_reply.started": "2023-09-24T12:22:27.423214Z"
    }
   },
   "outputs": [
    {
     "name": "stdout",
     "output_type": "stream",
     "text": [
      "0.5570774708969617\n"
     ]
    }
   ],
   "source": [
    "from sklearn.metrics import roc_curve, auc\n",
    "\n",
    "false_positive_rate, true_positive_rate, thresholds = roc_curve(y_test,predictions)\n",
    "roc_auc = auc(false_positive_rate, true_positive_rate)\n",
    "print (roc_auc)"
   ]
  },
  {
   "cell_type": "code",
   "execution_count": 89,
   "metadata": {
    "execution": {
     "iopub.execute_input": "2023-09-24T12:22:29.591794Z",
     "iopub.status.busy": "2023-09-24T12:22:29.591350Z",
     "iopub.status.idle": "2023-09-24T12:22:30.066854Z",
     "shell.execute_reply": "2023-09-24T12:22:30.065695Z",
     "shell.execute_reply.started": "2023-09-24T12:22:29.591731Z"
    }
   },
   "outputs": [
    {
     "data": {
      "text/plain": [
       "Text(0.5, 0, 'False Positive Rate')"
      ]
     },
     "execution_count": 89,
     "metadata": {},
     "output_type": "execute_result"
    },
    {
     "data": {
      "image/png": "[encoded data removed]",
      "text/plain": [
       "<Figure size 432x288 with 1 Axes>"
      ]
     },
     "metadata": {},
     "output_type": "display_data"
    }
   ],
   "source": [
    "import matplotlib.pyplot as plt\n",
    "plt.title('Receiver Operating Characteristic')\n",
    "plt.plot(false_positive_rate, true_positive_rate, 'b', label='AUC = %0.2f'% roc_auc)\n",
    "plt.legend(loc='lower right')\n",
    "plt.plot([0,1],[0,1],'r--')\n",
    "plt.xlim([-0.1,1.2])\n",
    "plt.ylim([-0.1,1.2])\n",
    "plt.ylabel('True Positive Rate')\n",
    "plt.xlabel('False Positive Rate')"
   ]
  },
  {
   "cell_type": "markdown",
   "metadata": {},
   "source": [
    "The accuracy can be low due to the fact that there are a lot of <b>categorical variables</b> in the dataset. As there is a lot of <b>non-linearity</b>, let us use <b>tree</b> algorithms."
   ]
  },
  {
   "cell_type": "markdown",
   "metadata": {},
   "source": [
    "# Random Forest :"
   ]
  },
  {
   "cell_type": "markdown",
   "metadata": {},
   "source": [
    "We will try the <b>Bagging</b> technique <b>Random Forest</b> on the dataset. Since we do not know the optimal hyperparameters for the forest, let us use GridSearch cross-validation to identify them."
   ]
  },
  {
   "cell_type": "markdown",
   "metadata": {},
   "source": [
    "# Grid Search :\n",
    "\n",
    "Here are the parameters for <a href='https://scikit-learn.org/stable/modules/generated/sklearn.model_selection.GridSearchCV.html#sklearn.model_selection.GridSearchCV'>GridSearchCV</a>:\n",
    "- __estimator__: `model`\n",
    "- __param_grid__: `dist or list of dictionaries` Parameters to the estimator/model\n",
    "- __scoring__: `string,callable, list/tuple, dict or None, default: None` Evaluating metrics\n",
    "- __cv__: `int or callable` Cross validation"
   ]
  },
  {
   "cell_type": "code",
   "execution_count": 90,
   "metadata": {
    "execution": {
     "iopub.execute_input": "2023-09-24T12:22:38.270918Z",
     "iopub.status.busy": "2023-09-24T12:22:38.270243Z",
     "iopub.status.idle": "2023-09-24T12:23:48.040003Z",
     "shell.execute_reply": "2023-09-24T12:23:48.038844Z",
     "shell.execute_reply.started": "2023-09-24T12:22:38.270830Z"
    }
   },
   "outputs": [
    {
     "name": "stdout",
     "output_type": "stream",
     "text": [
      "Fitting 5 folds for each of 360 candidates, totalling 1800 fits\n"
     ]
    },
    {
     "name": "stderr",
     "output_type": "stream",
     "text": [
      "[Parallel(n_jobs=-1)]: Using backend LokyBackend with 4 concurrent workers.\n",
      "[Parallel(n_jobs=-1)]: Done  33 tasks      | elapsed:    7.4s\n",
      "[Parallel(n_jobs=-1)]: Done 221 tasks      | elapsed:   12.5s\n",
      "[Parallel(n_jobs=-1)]: Done 627 tasks      | elapsed:   23.6s\n",
      "[Parallel(n_jobs=-1)]: Done 1193 tasks      | elapsed:   44.0s\n",
      "[Parallel(n_jobs=-1)]: Done 1793 out of 1800 | elapsed:  1.2min remaining:    0.3s\n",
      "[Parallel(n_jobs=-1)]: Done 1800 out of 1800 | elapsed:  1.2min finished\n"
     ]
    }
   ],
   "source": [
    "from sklearn.ensemble import RandomForestClassifier\n",
    "random_grid = {'n_estimators': range(5,20,3),\n",
    "              'max_features' : ['auto', 'sqrt'],\n",
    "              'max_depth' : [5,10,20,30],\n",
    "              'min_samples_split':[2,5,10],\n",
    "              'criterion':['entropy'],\n",
    "              'min_samples_leaf':[1,2,4]}\n",
    "\n",
    "rf=RandomForestClassifier(oob_score=True,class_weight='balanced')\n",
    "rf_gs = GridSearchCV(rf, random_grid, cv = 5, n_jobs=-1, verbose=2)\n",
    "\n",
    "rf_gs.fit(X_train, y_train)\n",
    "y_pred = rf_gs.predict(X_test)"
   ]
  },
  {
   "cell_type": "code",
   "execution_count": 91,
   "metadata": {
    "execution": {
     "iopub.execute_input": "2023-09-24T12:23:48.042698Z",
     "iopub.status.busy": "2023-09-24T12:23:48.042256Z",
     "iopub.status.idle": "2023-09-24T12:23:48.451422Z",
     "shell.execute_reply": "2023-09-24T12:23:48.446024Z",
     "shell.execute_reply.started": "2023-09-24T12:23:48.042625Z"
    }
   },
   "outputs": [
    {
     "name": "stdout",
     "output_type": "stream",
     "text": [
      "0.7412\n",
      "*******************************************\n",
      "Confusion matrix\n"
     ]
    },
    {
     "data": {
      "image/png": "[encoded data removed]",
      "text/plain": [
       "<Figure size 432x288 with 2 Axes>"
      ]
     },
     "metadata": {},
     "output_type": "display_data"
    },
    {
     "name": "stdout",
     "output_type": "stream",
     "text": [
      "********************************************\n",
      "              precision    recall  f1-score   support\n",
      "\n",
      "           0       0.82      0.87      0.84      2017\n",
      "           1       0.28      0.21      0.24       483\n",
      "\n",
      "   micro avg       0.74      0.74      0.74      2500\n",
      "   macro avg       0.55      0.54      0.54      2500\n",
      "weighted avg       0.72      0.74      0.73      2500\n",
      "\n"
     ]
    }
   ],
   "source": [
    "print(metrics.accuracy_score(y_test,y_pred))\n",
    "print('*******************************************')\n",
    "print('Confusion matrix')\n",
    "rf_cfm=metrics.confusion_matrix(y_test, y_pred)\n",
    "\n",
    "lbl1=[\"Predicted 1\", \"Predicted 2\"]\n",
    "lbl2=[\"Actual 1\", \"Actual 2\"]\n",
    "\n",
    "sns.heatmap(rf_cfm, annot=True, cmap=\"Blues\", fmt=\"d\", xticklabels=lbl1, yticklabels=lbl2)\n",
    "plt.show()\n",
    "\n",
    "print('********************************************')\n",
    "print(metrics.classification_report(y_test,y_pred))"
   ]
  },
  {
   "cell_type": "markdown",
   "metadata": {},
   "source": [
    "The accuracy has surely increased ! But hold on...we need to remember that it is an imbalanced dataset. Let us calculate the null accuracy."
   ]
  },
  {
   "cell_type": "code",
   "execution_count": 92,
   "metadata": {
    "execution": {
     "iopub.execute_input": "2023-09-24T12:23:55.978356Z",
     "iopub.status.busy": "2023-09-24T12:23:55.977567Z",
     "iopub.status.idle": "2023-09-24T12:23:55.991425Z",
     "shell.execute_reply": "2023-09-24T12:23:55.990419Z",
     "shell.execute_reply.started": "2023-09-24T12:23:55.978294Z"
    }
   },
   "outputs": [
    {
     "name": "stdout",
     "output_type": "stream",
     "text": [
      "0    2017\n",
      "1     483\n",
      "Name: Consumer disputed?, dtype: int64\n",
      "Null Accuracy: 0    0.8068\n",
      "Name: Consumer disputed?, dtype: float64\n"
     ]
    }
   ],
   "source": [
    "# Actual Values of y_test\n",
    "print (y_test.value_counts())\n",
    "print (\"Null Accuracy:\",y_test.value_counts().head(1) / len(y_test))"
   ]
  },
  {
   "cell_type": "markdown",
   "metadata": {},
   "source": [
    "Null accuracy itself is **0.80**. So our accuracy of **0.74** is less than that. Also, as discussed earlier, **f1-score** is more important in these scenarios. But even that is pretty low. "
   ]
  },
  {
   "cell_type": "markdown",
   "metadata": {},
   "source": [
    "For imbalanced datasets, ROC_AUC is considered to be a more relevant metric than f1-score and accuracy as it is independent of threshold value."
   ]
  },
  {
   "cell_type": "code",
   "execution_count": 93,
   "metadata": {
    "execution": {
     "iopub.execute_input": "2023-09-24T12:23:58.806825Z",
     "iopub.status.busy": "2023-09-24T12:23:58.806064Z",
     "iopub.status.idle": "2023-09-24T12:23:58.828699Z",
     "shell.execute_reply": "2023-09-24T12:23:58.827540Z",
     "shell.execute_reply.started": "2023-09-24T12:23:58.806761Z"
    }
   },
   "outputs": [
    {
     "name": "stdout",
     "output_type": "stream",
     "text": [
      "0.5523736644320378\n"
     ]
    }
   ],
   "source": [
    "predict_probabilities = rf_gs.predict_proba(X_test)\n",
    "final_metric = roc_auc_score(y_test, predict_probabilities[:,1])\n",
    "print (final_metric)"
   ]
  },
  {
   "cell_type": "markdown",
   "metadata": {},
   "source": [
    "Now, this is a metric that makes sense. We should get the **ROC_AUC** score as close to 1 as possible. Let us now see how Boosting algorithms fare."
   ]
  },
  {
   "cell_type": "markdown",
   "metadata": {},
   "source": [
    "# XGBoost : "
   ]
  },
  {
   "cell_type": "code",
   "execution_count": 94,
   "metadata": {
    "execution": {
     "iopub.execute_input": "2023-09-24T12:24:01.562684Z",
     "iopub.status.busy": "2023-09-24T12:24:01.562223Z",
     "iopub.status.idle": "2023-09-24T12:24:01.671012Z",
     "shell.execute_reply": "2023-09-24T12:24:01.669951Z",
     "shell.execute_reply.started": "2023-09-24T12:24:01.562608Z"
    }
   },
   "outputs": [],
   "source": [
    "from xgboost.sklearn import XGBClassifier"
   ]
  },
  {
   "cell_type": "code",
   "execution_count": 95,
   "metadata": {
    "execution": {
     "iopub.execute_input": "2023-09-24T12:24:02.978333Z",
     "iopub.status.busy": "2023-09-24T12:24:02.977932Z",
     "iopub.status.idle": "2023-09-24T12:24:02.984272Z",
     "shell.execute_reply": "2023-09-24T12:24:02.983147Z",
     "shell.execute_reply.started": "2023-09-24T12:24:02.978276Z"
    }
   },
   "outputs": [],
   "source": [
    "xgb_model = XGBClassifier(num_class = 2,\n",
    "                           objective=\"multi:softprob\",\n",
    "                           eval_metric=\"mlogloss\",\n",
    "                           seed=42) "
   ]
  },
  {
   "cell_type": "code",
   "execution_count": 96,
   "metadata": {
    "execution": {
     "iopub.execute_input": "2023-09-24T12:24:05.269874Z",
     "iopub.status.busy": "2023-09-24T12:24:05.269403Z",
     "iopub.status.idle": "2023-09-24T12:24:06.074854Z",
     "shell.execute_reply": "2023-09-24T12:24:06.074062Z",
     "shell.execute_reply.started": "2023-09-24T12:24:05.269788Z"
    }
   },
   "outputs": [
    {
     "data": {
      "text/plain": [
       "XGBClassifier(base_score=0.5, booster='gbtree', colsample_bylevel=1,\n",
       "       colsample_bytree=1, eval_metric='mlogloss', gamma=0,\n",
       "       learning_rate=0.1, max_delta_step=0, max_depth=3,\n",
       "       min_child_weight=1, missing=None, n_estimators=100, n_jobs=1,\n",
       "       nthread=None, num_class=2, objective='multi:softprob',\n",
       "       random_state=0, reg_alpha=0, reg_lambda=1, scale_pos_weight=1,\n",
       "       seed=42, silent=True, subsample=1)"
      ]
     },
     "execution_count": 96,
     "metadata": {},
     "output_type": "execute_result"
    }
   ],
   "source": [
    "xgb_model.fit(X_train, y_train)"
   ]
  },
  {
   "cell_type": "code",
   "execution_count": 97,
   "metadata": {
    "execution": {
     "iopub.execute_input": "2023-09-24T12:24:07.679669Z",
     "iopub.status.busy": "2023-09-24T12:24:07.678950Z",
     "iopub.status.idle": "2023-09-24T12:24:07.708762Z",
     "shell.execute_reply": "2023-09-24T12:24:07.707422Z",
     "shell.execute_reply.started": "2023-09-24T12:24:07.679584Z"
    }
   },
   "outputs": [],
   "source": [
    "xgboost_pred=xgb_model.predict(X_test)"
   ]
  },
  {
   "cell_type": "code",
   "execution_count": 98,
   "metadata": {
    "execution": {
     "iopub.execute_input": "2023-09-24T12:24:09.288065Z",
     "iopub.status.busy": "2023-09-24T12:24:09.287270Z",
     "iopub.status.idle": "2023-09-24T12:24:09.681405Z",
     "shell.execute_reply": "2023-09-24T12:24:09.679918Z",
     "shell.execute_reply.started": "2023-09-24T12:24:09.287634Z"
    }
   },
   "outputs": [
    {
     "name": "stdout",
     "output_type": "stream",
     "text": [
      "0.8068\n",
      "************\n",
      "Confusion matrix\n"
     ]
    },
    {
     "data": {
      "image/png": "[encoded data removed]",
      "text/plain": [
       "<Figure size 432x288 with 2 Axes>"
      ]
     },
     "metadata": {},
     "output_type": "display_data"
    },
    {
     "name": "stdout",
     "output_type": "stream",
     "text": [
      "************\n",
      " Classification report\n",
      "              precision    recall  f1-score   support\n",
      "\n",
      "           0       0.81      1.00      0.89      2017\n",
      "           1       0.00      0.00      0.00       483\n",
      "\n",
      "   micro avg       0.81      0.81      0.81      2500\n",
      "   macro avg       0.40      0.50      0.45      2500\n",
      "weighted avg       0.65      0.81      0.72      2500\n",
      "\n"
     ]
    }
   ],
   "source": [
    "print(metrics.accuracy_score(y_test,xgboost_pred))\n",
    "print('************')\n",
    "print('Confusion matrix')\n",
    "xgboost_cm=metrics.confusion_matrix(y_test, xgboost_pred)\n",
    "\n",
    "\n",
    "lbl1=[\"Predicted 1\", \"Predicted 2\"]\n",
    "lbl2=[\"Actual 1\", \"Actual 2\"]\n",
    "\n",
    "sns.heatmap(xgboost_cm, annot=True, cmap=\"Blues\", fmt=\"d\", xticklabels=lbl1, yticklabels=lbl2)\n",
    "\n",
    "plt.show()\n",
    "\n",
    "print('************\\n Classification report')\n",
    "print(metrics.classification_report(y_test,xgboost_pred))"
   ]
  },
  {
   "cell_type": "markdown",
   "metadata": {},
   "source": [
    "We are at a pretty good accuracy of 0.80 which is slightly higher than our Null Accuracy of 0.79 though the recall and f1-score of 1 is 0."
   ]
  },
  {
   "cell_type": "code",
   "execution_count": 99,
   "metadata": {
    "execution": {
     "iopub.execute_input": "2023-09-24T12:24:11.902584Z",
     "iopub.status.busy": "2023-09-24T12:24:11.901738Z",
     "iopub.status.idle": "2023-09-24T12:24:11.935209Z",
     "shell.execute_reply": "2023-09-24T12:24:11.934217Z",
     "shell.execute_reply.started": "2023-09-24T12:24:11.902494Z"
    }
   },
   "outputs": [
    {
     "name": "stdout",
     "output_type": "stream",
     "text": [
      "0.6174257937962104\n"
     ]
    }
   ],
   "source": [
    "predict_probabilities = xgb_model.predict_proba(X_test)\n",
    "from sklearn.metrics import roc_auc_score\n",
    "final_metric = roc_auc_score(y_test, predict_probabilities[:,1])\n",
    "print (final_metric)"
   ]
  },
  {
   "cell_type": "markdown",
   "metadata": {},
   "source": [
    "Xgboost gives us a higher ROC_AUC score compared to Random Forest. "
   ]
  },
  {
   "cell_type": "markdown",
   "metadata": {},
   "source": [
    "# XgBoost with Grid Search :"
   ]
  },
  {
   "cell_type": "code",
   "execution_count": 100,
   "metadata": {
    "execution": {
     "iopub.execute_input": "2023-09-24T12:24:15.565212Z",
     "iopub.status.busy": "2023-09-24T12:24:15.564795Z",
     "iopub.status.idle": "2023-09-24T12:24:38.736232Z",
     "shell.execute_reply": "2023-09-24T12:24:38.734747Z",
     "shell.execute_reply.started": "2023-09-24T12:24:15.565156Z"
    }
   },
   "outputs": [
    {
     "name": "stdout",
     "output_type": "stream",
     "text": [
      "Fitting 5 folds for each of 36 candidates, totalling 180 fits\n"
     ]
    },
    {
     "name": "stderr",
     "output_type": "stream",
     "text": [
      "[Parallel(n_jobs=-1)]: Using backend LokyBackend with 4 concurrent workers.\n",
      "[Parallel(n_jobs=-1)]: Done  33 tasks      | elapsed:    3.6s\n",
      "[Parallel(n_jobs=-1)]: Done 154 tasks      | elapsed:   18.2s\n",
      "[Parallel(n_jobs=-1)]: Done 180 out of 180 | elapsed:   22.8s finished\n"
     ]
    },
    {
     "data": {
      "text/plain": [
       "{'gamma': 0.05, 'learning_rate': 0.05, 'max_depth': 10, 'n_estimators': 15}"
      ]
     },
     "execution_count": 100,
     "metadata": {},
     "output_type": "execute_result"
    }
   ],
   "source": [
    "xgb_gs_clf = XGBClassifier(num_class = 2,\n",
    "                           objective=\"multi:softprob\",\n",
    "                           eval_metric=\"mlogloss\",\n",
    "                           seed=42)                         \n",
    "                        \n",
    "param_grid = {\"max_depth\": [10,15,20],\n",
    "              \"n_estimators\": range(5,20,5) , \n",
    "              \"gamma\": [0.03,0.05], \n",
    "              \"learning_rate\": [0.01,0.05]}\n",
    "#              \"min_child_weight\": [5,10], \n",
    "#              \"colsample_bytree\": [0.4,0.8], \n",
    "#              \"subsample\": [0.50,0.85]} \n",
    "\n",
    "grid_search = GridSearchCV(xgb_gs_clf, \n",
    "                           param_grid=param_grid,\n",
    "                           cv = 5,\n",
    "                           n_jobs=-1,\n",
    "                           scoring='neg_log_loss',\n",
    "                           verbose=2)\n",
    "grid_search.fit(X_train,y_train)\n",
    "grid_search.best_params_"
   ]
  },
  {
   "cell_type": "code",
   "execution_count": 101,
   "metadata": {
    "execution": {
     "iopub.execute_input": "2023-09-24T12:24:38.738142Z",
     "iopub.status.busy": "2023-09-24T12:24:38.737840Z",
     "iopub.status.idle": "2023-09-24T12:24:38.753538Z",
     "shell.execute_reply": "2023-09-24T12:24:38.752505Z",
     "shell.execute_reply.started": "2023-09-24T12:24:38.738093Z"
    }
   },
   "outputs": [],
   "source": [
    "xgboost_y_pred=grid_search.predict(X_test)    "
   ]
  },
  {
   "cell_type": "code",
   "execution_count": 102,
   "metadata": {
    "execution": {
     "iopub.execute_input": "2023-09-24T12:24:38.755132Z",
     "iopub.status.busy": "2023-09-24T12:24:38.754807Z",
     "iopub.status.idle": "2023-09-24T12:24:39.150185Z",
     "shell.execute_reply": "2023-09-24T12:24:39.148488Z",
     "shell.execute_reply.started": "2023-09-24T12:24:38.755073Z"
    }
   },
   "outputs": [
    {
     "name": "stdout",
     "output_type": "stream",
     "text": [
      "0.794\n",
      "*************************************************\n",
      "Confusion matrix\n"
     ]
    },
    {
     "data": {
      "image/png": "[encoded data removed]",
      "text/plain": [
       "<Figure size 432x288 with 2 Axes>"
      ]
     },
     "metadata": {},
     "output_type": "display_data"
    },
    {
     "name": "stdout",
     "output_type": "stream",
     "text": [
      "***************************************************\n",
      " Classification report\n",
      "              precision    recall  f1-score   support\n",
      "\n",
      "           0       0.81      0.98      0.88      2017\n",
      "           1       0.24      0.03      0.06       483\n",
      "\n",
      "   micro avg       0.79      0.79      0.79      2500\n",
      "   macro avg       0.52      0.50      0.47      2500\n",
      "weighted avg       0.70      0.79      0.72      2500\n",
      "\n"
     ]
    }
   ],
   "source": [
    "print(metrics.accuracy_score(y_test,xgboost_y_pred))\n",
    "print('*************************************************')\n",
    "print('Confusion matrix')\n",
    "xgboost_cfm=metrics.confusion_matrix(y_test, xgboost_y_pred)\n",
    "\n",
    "\n",
    "lbl1=[\"Predicted 1\", \"Predicted 2\"]\n",
    "lbl2=[\"Actual 1\", \"Actual 2\"]\n",
    "\n",
    "sns.heatmap(xgboost_cfm, annot=True, cmap=\"Blues\", fmt=\"d\", xticklabels=lbl1, yticklabels=lbl2)\n",
    "\n",
    "plt.show()\n",
    "\n",
    "print('***************************************************\\n Classification report')\n",
    "print(metrics.classification_report(y_test,xgboost_y_pred))"
   ]
  },
  {
   "cell_type": "code",
   "execution_count": 103,
   "metadata": {
    "execution": {
     "iopub.execute_input": "2023-09-24T12:24:39.153854Z",
     "iopub.status.busy": "2023-09-24T12:24:39.153254Z",
     "iopub.status.idle": "2023-09-24T12:24:39.188836Z",
     "shell.execute_reply": "2023-09-24T12:24:39.187413Z",
     "shell.execute_reply.started": "2023-09-24T12:24:39.153772Z"
    }
   },
   "outputs": [
    {
     "name": "stdout",
     "output_type": "stream",
     "text": [
      "0.5907611390140328\n"
     ]
    }
   ],
   "source": [
    "predict_probabilities = grid_search.predict_proba(X_test)\n",
    "final_metric = roc_auc_score(y_test, predict_probabilities[:,1])\n",
    "print (final_metric)"
   ]
  },
  {
   "cell_type": "markdown",
   "metadata": {},
   "source": [
    "There is no improvement over the earlier Xgboost model. Let's try out with <b>more hyperparameter combinations</b> and see if there is a jump in the roc_auc value."
   ]
  },
  {
   "cell_type": "markdown",
   "metadata": {},
   "source": [
    "# LightGBM :"
   ]
  },
  {
   "cell_type": "code",
   "execution_count": 104,
   "metadata": {
    "execution": {
     "iopub.execute_input": "2023-09-24T12:24:39.192434Z",
     "iopub.status.busy": "2023-09-24T12:24:39.191410Z",
     "iopub.status.idle": "2023-09-24T12:24:39.238377Z",
     "shell.execute_reply": "2023-09-24T12:24:39.237425Z",
     "shell.execute_reply.started": "2023-09-24T12:24:39.192342Z"
    }
   },
   "outputs": [],
   "source": [
    "import lightgbm as lgb\n",
    "\n",
    "d_train= lgb.Dataset(X_train, label = y_train) "
   ]
  },
  {
   "cell_type": "code",
   "execution_count": 105,
   "metadata": {
    "execution": {
     "iopub.execute_input": "2023-09-24T12:24:39.240611Z",
     "iopub.status.busy": "2023-09-24T12:24:39.240002Z",
     "iopub.status.idle": "2023-09-24T12:24:39.674988Z",
     "shell.execute_reply": "2023-09-24T12:24:39.673729Z",
     "shell.execute_reply.started": "2023-09-24T12:24:39.240554Z"
    }
   },
   "outputs": [],
   "source": [
    "params = {}\n",
    "params['learning_rate'] = 0.001                                             # Learning rate\n",
    "params['boosting_type'] = 'gbdt'                                           # gbdt = gradient boosted decision tree\n",
    "params['objective'] = 'multiclass'                                         # Multi class classification\n",
    "params['metric'] = 'multi_logloss'\n",
    "params['num_classes'] = 5 \n",
    "params['eval_metric']='auc', 'binary_logloss'\n",
    "#params['sub_feature'] = 0.5\n",
    "#params['min_data'] = 50\n",
    "#params['max_depth'] = 10\n",
    "\n",
    "\n",
    "clf = lgb.train(params, d_train)     "
   ]
  },
  {
   "cell_type": "code",
   "execution_count": 106,
   "metadata": {
    "execution": {
     "iopub.execute_input": "2023-09-24T12:24:39.676757Z",
     "iopub.status.busy": "2023-09-24T12:24:39.676374Z",
     "iopub.status.idle": "2023-09-24T12:24:39.707453Z",
     "shell.execute_reply": "2023-09-24T12:24:39.706441Z",
     "shell.execute_reply.started": "2023-09-24T12:24:39.676696Z"
    }
   },
   "outputs": [],
   "source": [
    "#Prediction\n",
    "y_pred=clf.predict(X_test)"
   ]
  },
  {
   "cell_type": "code",
   "execution_count": 107,
   "metadata": {
    "execution": {
     "iopub.execute_input": "2023-09-24T12:24:39.709750Z",
     "iopub.status.busy": "2023-09-24T12:24:39.709311Z",
     "iopub.status.idle": "2023-09-24T12:24:39.718053Z",
     "shell.execute_reply": "2023-09-24T12:24:39.716825Z",
     "shell.execute_reply.started": "2023-09-24T12:24:39.709674Z"
    }
   },
   "outputs": [
    {
     "data": {
      "text/plain": [
       "{'learning_rate': 0.001,\n",
       " 'boosting_type': 'gbdt',\n",
       " 'objective': 'multiclass',\n",
       " 'metric': 'multi_logloss',\n",
       " 'num_classes': 5,\n",
       " 'eval_metric': ('auc', 'binary_logloss')}"
      ]
     },
     "execution_count": 107,
     "metadata": {},
     "output_type": "execute_result"
    }
   ],
   "source": [
    "clf.params"
   ]
  },
  {
   "cell_type": "code",
   "execution_count": 108,
   "metadata": {
    "execution": {
     "iopub.execute_input": "2023-09-24T12:24:39.720230Z",
     "iopub.status.busy": "2023-09-24T12:24:39.719836Z",
     "iopub.status.idle": "2023-09-24T12:24:39.745844Z",
     "shell.execute_reply": "2023-09-24T12:24:39.744838Z",
     "shell.execute_reply.started": "2023-09-24T12:24:39.720155Z"
    }
   },
   "outputs": [],
   "source": [
    "predictions = []\n",
    "predictions_proba = []\n",
    "for x in y_pred:\n",
    "    predictions.append(np.argmax(x))\n",
    "    predictions_proba.append(max(x))"
   ]
  },
  {
   "cell_type": "code",
   "execution_count": 109,
   "metadata": {
    "execution": {
     "iopub.execute_input": "2023-09-24T12:24:39.747217Z",
     "iopub.status.busy": "2023-09-24T12:24:39.746954Z",
     "iopub.status.idle": "2023-09-24T12:24:39.753297Z",
     "shell.execute_reply": "2023-09-24T12:24:39.752152Z",
     "shell.execute_reply.started": "2023-09-24T12:24:39.747177Z"
    }
   },
   "outputs": [],
   "source": [
    "lgb_y_pred = np.array(predictions)"
   ]
  },
  {
   "cell_type": "code",
   "execution_count": 110,
   "metadata": {
    "execution": {
     "iopub.execute_input": "2023-09-24T12:24:39.755883Z",
     "iopub.status.busy": "2023-09-24T12:24:39.755316Z",
     "iopub.status.idle": "2023-09-24T12:24:40.152571Z",
     "shell.execute_reply": "2023-09-24T12:24:40.150364Z",
     "shell.execute_reply.started": "2023-09-24T12:24:39.755826Z"
    }
   },
   "outputs": [
    {
     "name": "stdout",
     "output_type": "stream",
     "text": [
      "0.8068\n",
      "*************************************************\n",
      "Confusion matrix\n"
     ]
    },
    {
     "data": {
      "image/png": "[encoded data removed]",
      "text/plain": [
       "<Figure size 432x288 with 2 Axes>"
      ]
     },
     "metadata": {},
     "output_type": "display_data"
    },
    {
     "name": "stdout",
     "output_type": "stream",
     "text": [
      "***************************************************\n",
      " Classification report\n",
      "              precision    recall  f1-score   support\n",
      "\n",
      "           0       0.81      1.00      0.89      2017\n",
      "           1       0.00      0.00      0.00       483\n",
      "\n",
      "   micro avg       0.81      0.81      0.81      2500\n",
      "   macro avg       0.40      0.50      0.45      2500\n",
      "weighted avg       0.65      0.81      0.72      2500\n",
      "\n"
     ]
    }
   ],
   "source": [
    "print(metrics.accuracy_score(y_test,lgb_y_pred))\n",
    "print('*************************************************')\n",
    "print('Confusion matrix')\n",
    "lgb_cfm=metrics.confusion_matrix(y_test, lgb_y_pred)\n",
    "\n",
    "\n",
    "lbl1=[\"Predicted 1\", \"Predicted 2\"]\n",
    "lbl2=[\"Actual 1\", \"Actual 2\"]\n",
    "\n",
    "sns.heatmap(lgb_cfm, annot=True, cmap=\"Blues\", fmt=\"d\", xticklabels=lbl1, yticklabels=lbl2)\n",
    "\n",
    "plt.show()\n",
    "\n",
    "print('***************************************************\\n Classification report')\n",
    "print(metrics.classification_report(y_test,lgb_y_pred))"
   ]
  },
  {
   "cell_type": "code",
   "execution_count": 111,
   "metadata": {
    "execution": {
     "iopub.execute_input": "2023-09-24T12:24:43.269531Z",
     "iopub.status.busy": "2023-09-24T12:24:43.269150Z",
     "iopub.status.idle": "2023-09-24T12:24:43.281643Z",
     "shell.execute_reply": "2023-09-24T12:24:43.280426Z",
     "shell.execute_reply.started": "2023-09-24T12:24:43.269468Z"
    }
   },
   "outputs": [
    {
     "name": "stdout",
     "output_type": "stream",
     "text": [
      "0.3903938674476063\n"
     ]
    }
   ],
   "source": [
    "final_metric = roc_auc_score(y_test, predictions_proba)\n",
    "print (final_metric)"
   ]
  },
  {
   "cell_type": "markdown",
   "metadata": {},
   "source": [
    "<b>LightGBM</b> performance is not upto the mark.It is unable to correctly classify even a single datapoint that belonged to class 1. We can conclude that <b>Consumer Complaints</b> can use the <b>XGboost</b> model to identify if the Consumer Disputed or not."
   ]
  },
  {
   "cell_type": "code",
   "execution_count": null,
   "metadata": {},
   "outputs": [],
   "source": []
  },
  {
   "cell_type": "code",
   "execution_count": null,
   "metadata": {},
   "outputs": [],
   "source": []
  },
  {
   "cell_type": "code",
   "execution_count": null,
   "metadata": {},
   "outputs": [],
   "source": []
  }
 ],
 "metadata": {
  "kernelspec": {
   "display_name": "Python 3 (ipykernel)",
   "language": "python",
   "name": "python3"
  },
  "language_info": {
   "codemirror_mode": {
    "name": "ipython",
    "version": 3
   },
   "file_extension": ".py",
   "mimetype": "text/x-python",
   "name": "python",
   "nbconvert_exporter": "python",
   "pygments_lexer": "ipython3",
   "version": "3.9.12"
  }
 },
 "nbformat": 4,
 "nbformat_minor": 4
}
